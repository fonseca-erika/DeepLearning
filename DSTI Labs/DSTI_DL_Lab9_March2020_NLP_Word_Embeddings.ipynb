{
  "nbformat": 4,
  "nbformat_minor": 0,
  "metadata": {
    "colab": {
      "name": "DSTI_DL_Lab9_March2020_NLP_Word_Embeddings.ipynb",
      "provenance": [],
      "collapsed_sections": []
    },
    "kernelspec": {
      "display_name": "Python 3",
      "language": "python",
      "name": "python3"
    },
    "language_info": {
      "codemirror_mode": {
        "name": "ipython",
        "version": 3
      },
      "file_extension": ".py",
      "mimetype": "text/x-python",
      "name": "python",
      "nbconvert_exporter": "python",
      "pygments_lexer": "ipython3",
      "version": "3.7.3"
    }
  },
  "cells": [
    {
      "cell_type": "markdown",
      "metadata": {
        "colab_type": "text",
        "id": "GGaehKfus-vX"
      },
      "source": [
        "# Word Embeddings: Encoding Lexical Semantics\n",
        "\n",
        "\n",
        "\n"
      ]
    },
    {
      "cell_type": "markdown",
      "metadata": {
        "colab_type": "text",
        "id": "6IQ9tAMngm0l"
      },
      "source": [
        "Two examples in this notebook are considered:\n",
        "\n",
        "1.   N-Gram Language Modeling\n",
        "2.   Continuous Bag-of-Words\n",
        "\n",
        "Based on a notebook of Robert Guthrie.\n",
        "\n",
        "\n",
        "\n"
      ]
    },
    {
      "cell_type": "markdown",
      "metadata": {
        "colab_type": "text",
        "id": "_0mj5LUqhEdi"
      },
      "source": [
        "Word embeddings are dense vectors of real numbers, one per word in your\n",
        "vocabulary. In NLP, it is almost always the case that your features are\n",
        "words! But how should you represent a word in a computer? You could\n",
        "store its ascii character representation, but that only tells you what\n",
        "the word *is*, it doesn't say much about what it *means* (you might be\n",
        "able to derive its part of speech from its affixes, or properties from\n",
        "its capitalization, but not much). Even more, in what sense could you\n",
        "combine these representations? We often want dense outputs from our\n",
        "neural networks, where the inputs are $|V|$ dimensional, where\n",
        "$V$ is our vocabulary, but often the outputs are only a few\n",
        "dimensional (if we are only predicting a handful of labels, for\n",
        "instance). How do we get from a massive dimensional space to a smaller\n",
        "dimensional space?\n",
        "\n",
        "How about instead of ascii representations, we use a one-hot encoding?\n",
        "That is, we represent the word $w$ by\n",
        "\n",
        "\\begin{align}\\overbrace{\\left[ 0, 0, \\dots, 1, \\dots, 0, 0 \\right]}^\\text{|V| elements}\\end{align}\n",
        "\n",
        "where the 1 is in a location unique to $w$. Any other word will\n",
        "have a 1 in some other location, and a 0 everywhere else.\n",
        "\n",
        "There is an enormous drawback to this representation, besides just how\n",
        "huge it is. It basically treats all words as independent entities with\n",
        "no relation to each other. What we really want is some notion of\n",
        "*similarity* between words. Why? Let's see an example.\n",
        "\n",
        "Suppose we are building a language model. Suppose we have seen the\n",
        "sentences\n",
        "\n",
        "* The mathematician ran to the store.\n",
        "* The physicist ran to the store.\n",
        "* The mathematician solved the open problem.\n",
        "\n",
        "in our training data. Now suppose we get a new sentence never before\n",
        "seen in our training data:\n",
        "\n",
        "* The physicist solved the open problem.\n",
        "\n",
        "Our language model might do OK on this sentence, but wouldn't it be much\n",
        "better if we could use the following two facts:\n",
        "\n",
        "* We have seen  mathematician and physicist in the same role in a sentence. Somehow they\n",
        "  have a semantic relation.\n",
        "* We have seen mathematician in the same role  in this new unseen sentence\n",
        "  as we are now seeing physicist.\n",
        "\n",
        "and then infer that physicist is actually a good fit in the new unseen\n",
        "sentence? This is what we mean by a notion of similarity: we mean\n",
        "*semantic similarity*, not simply having similar orthographic\n",
        "representations. It is a technique to combat the sparsity of linguistic\n",
        "data, by connecting the dots between what we have seen and what we\n",
        "haven't. This example of course relies on a fundamental linguistic\n",
        "assumption: that words appearing in similar contexts are related to each\n",
        "other semantically. This is called the [distributional\n",
        "hypothesis](https://en.wikipedia.org/wiki/Distributional_semantics)."
      ]
    },
    {
      "cell_type": "markdown",
      "metadata": {
        "colab_type": "text",
        "id": "eW8Z3yoWcvMn"
      },
      "source": [
        "## Getting Dense Word Embeddings\n",
        "\n",
        "How can we solve this problem? That is, how could we actually encode\n",
        "semantic similarity in words? Maybe we think up some semantic\n",
        "attributes. For example, we see that both mathematicians and physicists\n",
        "can run, so maybe we give these words a high score for the \"is able to\n",
        "run\" semantic attribute. Think of some other attributes, and imagine\n",
        "what you might score some common words on those attributes.\n",
        "\n",
        "If each attribute is a dimension, then we might give each word a vector,\n",
        "like this:\n",
        "\n",
        "$$\n",
        "q_\\text{mathematician} = \\left[ \\overbrace{2.3}^\\text{can run},\n",
        "   \\overbrace{9.4}^\\text{likes coffee}, \\overbrace{-5.5}^\\text{majored in Physics}, \\dots \\right]\n",
        "$$\n",
        "\n",
        "$$\n",
        "q_\\text{physicist} = \\left[ \\overbrace{2.5}^\\text{can run},\n",
        "   \\overbrace{9.1}^\\text{likes coffee}, \\overbrace{6.4}^\\text{majored in Physics}, \\dots \\right]\n",
        "$$\n",
        "\n",
        "Then we can get a measure of similarity between these words by doing:\n",
        "$$\n",
        "\\text{Similarity}(\\text{physicist}, \\text{mathematician}) = q_\\text{physicist} \\cdot q_\\text{mathematician}\n",
        "$$\n",
        "\n",
        "Although it is more common to normalize by the lengths:\n",
        "\n",
        "$$\n",
        "\\text{Similarity}(\\text{physicist}, \\text{mathematician}) = \\frac{q_\\text{physicist} \\cdot q_\\text{mathematician}}\n",
        "   {\\| q_\\text{physicist} \\| \\| q_\\text{mathematician} \\|} = \\cos (\\phi)\n",
        "$$\n",
        "where $\\phi$ is the angle between the two vectors. That way,\n",
        "extremely similar words (words whose embeddings point in the same\n",
        "direction) will have similarity 1. Extremely dissimilar words should\n",
        "have similarity -1."
      ]
    },
    {
      "cell_type": "markdown",
      "metadata": {
        "colab_type": "text",
        "id": "AVGoBxPmdrAe"
      },
      "source": [
        "\n",
        "You can think of the sparse one-hot vectors from the beginning of this\n",
        "section as a special case of these new vectors we have defined, where\n",
        "each word basically has similarity 0, and we gave each word some unique\n",
        "semantic attribute. These new vectors are *dense*, which is to say their\n",
        "entries are (typically) non-zero.\n",
        "\n",
        "But these new vectors are a big pain: you could think of thousands of\n",
        "different semantic attributes that might be relevant to determining\n",
        "similarity, and how on earth would you set the values of the different\n",
        "attributes? Central to the idea of deep learning is that the neural\n",
        "network learns representations of the features, rather than requiring\n",
        "the programmer to design them herself. So why not just let the word\n",
        "embeddings be parameters in our model, and then be updated during\n",
        "training? This is exactly what we will do. We will have some *latent\n",
        "semantic attributes* that the network can, in principle, learn. Note\n",
        "that the word embeddings will probably not be interpretable. That is,\n",
        "although with our hand-crafted vectors above we can see that\n",
        "mathematicians and physicists are similar in that they both like coffee,\n",
        "if we allow a neural network to learn the embeddings and see that both\n",
        "mathematicians and physicists have a large value in the second\n",
        "dimension, it is not clear what that means. They are similar in some\n",
        "latent semantic dimension, but this probably has no interpretation to\n",
        "us.\n",
        "\n",
        "\n",
        "In summary, **word embeddings are a representation of the *semantics* of\n",
        "a word, efficiently encoding semantic information that might be relevant\n",
        "to the task at hand**. You can embed other things too: part of speech\n",
        "tags, parse trees, anything! The idea of feature embeddings is central\n",
        "to the field."
      ]
    },
    {
      "cell_type": "markdown",
      "metadata": {
        "colab_type": "text",
        "id": "epfba18cdcSz"
      },
      "source": [
        "## Word Embeddings in Pytorch\n",
        "\n",
        "Similar to how we defined a unique index for each word when\n",
        "making one-hot vectors, we also need to define an index for each word\n",
        "when using embeddings. These will be keys into a lookup table. That is,\n",
        "embeddings are stored as a $|V| \\times D$ matrix, where $D$\n",
        "is the dimensionality of the embeddings, such that the word assigned\n",
        "index $i$ has its embedding stored in the $i$'th row of the\n",
        "matrix. In all of my code, the mapping from words to indices is a\n",
        "dictionary named word\\_to\\_ix.\n",
        "\n",
        "The module that allows you to use embeddings is torch.nn.Embedding,\n",
        "which takes two arguments: the vocabulary size, and the dimensionality\n",
        "of the embeddings.\n",
        "\n",
        "To index into this table, you must use torch.LongTensor (since the\n",
        "indices are integers, not floats)."
      ]
    },
    {
      "cell_type": "code",
      "metadata": {
        "colab_type": "code",
        "id": "B0eHz6Yis-vQ",
        "colab": {}
      },
      "source": [
        "%matplotlib inline"
      ],
      "execution_count": 0,
      "outputs": []
    },
    {
      "cell_type": "code",
      "metadata": {
        "colab_type": "code",
        "id": "Vznn4qLus-vY",
        "outputId": "4cd0546f-1740-4576-8d3c-3eca1a88159e",
        "colab": {
          "base_uri": "https://localhost:8080/",
          "height": 34
        }
      },
      "source": [
        "import torch\n",
        "import torch.nn as nn\n",
        "import torch.nn.functional as F\n",
        "import torch.optim as optim\n",
        "\n",
        "torch.manual_seed(1)"
      ],
      "execution_count": 2,
      "outputs": [
        {
          "output_type": "execute_result",
          "data": {
            "text/plain": [
              "<torch._C.Generator at 0x7fd804256110>"
            ]
          },
          "metadata": {
            "tags": []
          },
          "execution_count": 2
        }
      ]
    },
    {
      "cell_type": "code",
      "metadata": {
        "colab_type": "code",
        "id": "rAJbxInHs-ve",
        "outputId": "4ddd83fd-77a5-4f2a-ecd7-b606d3f6d7f4",
        "colab": {
          "base_uri": "https://localhost:8080/",
          "height": 52
        }
      },
      "source": [
        "word_to_ix = {\"hello\": 0, \"world\": 1}\n",
        "embeds = nn.Embedding(2, 5)  # 2 words in vocab, 5 dimensional embeddings\n",
        "lookup_tensor = torch.tensor([word_to_ix[\"hello\"]], dtype=torch.long)\n",
        "hello_embed = embeds(lookup_tensor)\n",
        "print(hello_embed)"
      ],
      "execution_count": 3,
      "outputs": [
        {
          "output_type": "stream",
          "text": [
            "tensor([[ 0.6614,  0.2669,  0.0617,  0.6213, -0.4519]],\n",
            "       grad_fn=<EmbeddingBackward>)\n"
          ],
          "name": "stdout"
        }
      ]
    },
    {
      "cell_type": "code",
      "metadata": {
        "id": "5kHNCNUzTv9B",
        "colab_type": "code",
        "colab": {
          "base_uri": "https://localhost:8080/",
          "height": 52
        },
        "outputId": "ba2a63c0-a8bf-48e3-e397-4a1367c03332"
      },
      "source": [
        "lookup_tensor = torch.tensor([word_to_ix[\"world\"]], dtype=torch.long)\n",
        "world_embed = embeds(lookup_tensor)\n",
        "print(world_embed)"
      ],
      "execution_count": 4,
      "outputs": [
        {
          "output_type": "stream",
          "text": [
            "tensor([[-0.1661, -1.5228,  0.3817, -1.0276, -0.5631]],\n",
            "       grad_fn=<EmbeddingBackward>)\n"
          ],
          "name": "stdout"
        }
      ]
    },
    {
      "cell_type": "code",
      "metadata": {
        "colab_type": "code",
        "id": "s9bIZsy2s-vh",
        "outputId": "a85b93d9-9ac7-47b0-8805-1f29dfe12106",
        "colab": {
          "base_uri": "https://localhost:8080/",
          "height": 34
        }
      },
      "source": [
        "[word_to_ix[\"hello\"]]"
      ],
      "execution_count": 5,
      "outputs": [
        {
          "output_type": "execute_result",
          "data": {
            "text/plain": [
              "[0]"
            ]
          },
          "metadata": {
            "tags": []
          },
          "execution_count": 5
        }
      ]
    },
    {
      "cell_type": "code",
      "metadata": {
        "id": "bkJ6fwV75gJu",
        "colab_type": "code",
        "outputId": "2a5e0b1e-1ef0-45ca-94b7-7641d0c69d25",
        "colab": {
          "base_uri": "https://localhost:8080/",
          "height": 52
        }
      },
      "source": [
        "lookup_tensor = torch.tensor([word_to_ix[\"world\"]], dtype=torch.long)\n",
        "world_embed = embeds(lookup_tensor)\n",
        "print(world_embed)"
      ],
      "execution_count": 6,
      "outputs": [
        {
          "output_type": "stream",
          "text": [
            "tensor([[-0.1661, -1.5228,  0.3817, -1.0276, -0.5631]],\n",
            "       grad_fn=<EmbeddingBackward>)\n"
          ],
          "name": "stdout"
        }
      ]
    },
    {
      "cell_type": "markdown",
      "metadata": {
        "colab_type": "text",
        "id": "0_ZX16eJeBt7"
      },
      "source": [
        "## First Example: N-Gram Language Modeling\n",
        "\n",
        "\n",
        "Recall that in an n-gram language model, given a sequence of words\n",
        "$w$, we want to compute\n",
        "$$\n",
        "P(w_i | w_{i-1}, w_{i-2}, \\dots, w_{i-n+1} )\n",
        "$$\n",
        "where $w_i$ is the ith word of the sequence.\n",
        "\n",
        "In this example, we will compute the loss function on some training\n",
        "examples and update the parameters with backpropagation.\n",
        "\n",
        "\n",
        "\n"
      ]
    },
    {
      "cell_type": "code",
      "metadata": {
        "colab_type": "code",
        "id": "X7JRgWwvs-vl",
        "outputId": "8408a2be-22e1-41a6-e932-d9a7aa766501",
        "colab": {
          "base_uri": "https://localhost:8080/",
          "height": 72
        }
      },
      "source": [
        "\n",
        "# We will use Shakespeare Sonnet 2\n",
        "test_sentence = \"\"\"When forty winters shall besiege thy brow,\n",
        "And dig deep trenches in thy beauty's field,\n",
        "Thy youth's proud livery so gazed on now,\n",
        "Will be a totter'd weed of small worth held:\n",
        "Then being asked, where all thy beauty lies,\n",
        "Where all the treasure of thy lusty days;\n",
        "To say, within thine own deep sunken eyes,\n",
        "Were an all-eating shame, and thriftless praise.\n",
        "How much more praise deserv'd thy beauty's use,\n",
        "If thou couldst answer 'This fair child of mine\n",
        "Shall sum my count, and make my old excuse,'\n",
        "Proving his beauty by succession thine!\n",
        "This were to be new made when thou art old,\n",
        "And see thy blood warm when thou feel'st it cold.\"\"\".split()\n",
        "# we should tokenize the input, but we will ignore that for now\n",
        "# build a list of tuples.  Each tuple is ([ word_i-2, word_i-1 ], target word)\n",
        "trigrams = [([test_sentence[i], test_sentence[i + 1]], test_sentence[i + 2])\n",
        "            for i in range(len(test_sentence) - 2)]\n",
        "# print the first 5, just so you can see what they look like\n",
        "print(\"3-gram subset:\", trigrams[:5])\n",
        "\n",
        "vocab = set(test_sentence)\n",
        "word_to_ix = {word: i for i, word in enumerate(vocab)}\n",
        "\n",
        "print(\"dictionary: \", word_to_ix)"
      ],
      "execution_count": 7,
      "outputs": [
        {
          "output_type": "stream",
          "text": [
            "3-gram subset: [(['When', 'forty'], 'winters'), (['forty', 'winters'], 'shall'), (['winters', 'shall'], 'besiege'), (['shall', 'besiege'], 'thy'), (['besiege', 'thy'], 'brow,')]\n",
            "dictionary:  {'days;': 0, 'thriftless': 1, 'shame,': 2, 'mine': 3, 'gazed': 4, 'say,': 5, 'an': 6, 'his': 7, 'besiege': 8, 'more': 9, 'praise': 10, 'thine!': 11, 'Thy': 12, 'lies,': 13, 'of': 14, 'child': 15, 'answer': 16, 'within': 17, 'Proving': 18, 'And': 19, 'it': 20, 'asked,': 21, 'thy': 22, 'deep': 23, 'eyes,': 24, 'brow,': 25, 'small': 26, 'art': 27, 'winters': 28, 'held:': 29, \"deserv'd\": 30, 'to': 31, 'Will': 32, 'worth': 33, 'warm': 34, 'own': 35, 'Shall': 36, 'livery': 37, 'Where': 38, 'by': 39, 'If': 40, 'fair': 41, 'When': 42, 'trenches': 43, 'shall': 44, 'dig': 45, \"youth's\": 46, 'see': 47, 'in': 48, 'Were': 49, 'count,': 50, 'were': 51, \"totter'd\": 52, 'new': 53, 'being': 54, 'so': 55, 'now,': 56, 'old': 57, 'blood': 58, 'couldst': 59, 'How': 60, 'succession': 61, 'sum': 62, 'praise.': 63, 'thine': 64, 'field,': 65, 'This': 66, 'old,': 67, 'my': 68, 'where': 69, \"excuse,'\": 70, 'thou': 71, 'all-eating': 72, \"'This\": 73, 'when': 74, 'sunken': 75, 'treasure': 76, 'be': 77, 'the': 78, 'forty': 79, 'weed': 80, 'much': 81, 'on': 82, 'Then': 83, 'To': 84, 'use,': 85, 'proud': 86, 'made': 87, 'all': 88, \"beauty's\": 89, 'cold.': 90, \"feel'st\": 91, 'a': 92, 'beauty': 93, 'lusty': 94, 'make': 95, 'and': 96}\n"
          ],
          "name": "stdout"
        }
      ]
    },
    {
      "cell_type": "code",
      "metadata": {
        "id": "lm3x8quHWV-K",
        "colab_type": "code",
        "colab": {
          "base_uri": "https://localhost:8080/",
          "height": 1000
        },
        "outputId": "730981f2-0fcc-4224-86e4-e7926e5897c4"
      },
      "source": [
        "vocab"
      ],
      "execution_count": 8,
      "outputs": [
        {
          "output_type": "execute_result",
          "data": {
            "text/plain": [
              "{\"'This\",\n",
              " 'And',\n",
              " 'How',\n",
              " 'If',\n",
              " 'Proving',\n",
              " 'Shall',\n",
              " 'Then',\n",
              " 'This',\n",
              " 'Thy',\n",
              " 'To',\n",
              " 'Were',\n",
              " 'When',\n",
              " 'Where',\n",
              " 'Will',\n",
              " 'a',\n",
              " 'all',\n",
              " 'all-eating',\n",
              " 'an',\n",
              " 'and',\n",
              " 'answer',\n",
              " 'art',\n",
              " 'asked,',\n",
              " 'be',\n",
              " 'beauty',\n",
              " \"beauty's\",\n",
              " 'being',\n",
              " 'besiege',\n",
              " 'blood',\n",
              " 'brow,',\n",
              " 'by',\n",
              " 'child',\n",
              " 'cold.',\n",
              " 'couldst',\n",
              " 'count,',\n",
              " 'days;',\n",
              " 'deep',\n",
              " \"deserv'd\",\n",
              " 'dig',\n",
              " \"excuse,'\",\n",
              " 'eyes,',\n",
              " 'fair',\n",
              " \"feel'st\",\n",
              " 'field,',\n",
              " 'forty',\n",
              " 'gazed',\n",
              " 'held:',\n",
              " 'his',\n",
              " 'in',\n",
              " 'it',\n",
              " 'lies,',\n",
              " 'livery',\n",
              " 'lusty',\n",
              " 'made',\n",
              " 'make',\n",
              " 'mine',\n",
              " 'more',\n",
              " 'much',\n",
              " 'my',\n",
              " 'new',\n",
              " 'now,',\n",
              " 'of',\n",
              " 'old',\n",
              " 'old,',\n",
              " 'on',\n",
              " 'own',\n",
              " 'praise',\n",
              " 'praise.',\n",
              " 'proud',\n",
              " 'say,',\n",
              " 'see',\n",
              " 'shall',\n",
              " 'shame,',\n",
              " 'small',\n",
              " 'so',\n",
              " 'succession',\n",
              " 'sum',\n",
              " 'sunken',\n",
              " 'the',\n",
              " 'thine',\n",
              " 'thine!',\n",
              " 'thou',\n",
              " 'thriftless',\n",
              " 'thy',\n",
              " 'to',\n",
              " \"totter'd\",\n",
              " 'treasure',\n",
              " 'trenches',\n",
              " 'use,',\n",
              " 'warm',\n",
              " 'weed',\n",
              " 'were',\n",
              " 'when',\n",
              " 'where',\n",
              " 'winters',\n",
              " 'within',\n",
              " 'worth',\n",
              " \"youth's\"}"
            ]
          },
          "metadata": {
            "tags": []
          },
          "execution_count": 8
        }
      ]
    },
    {
      "cell_type": "code",
      "metadata": {
        "id": "EqTVrTQ38Z19",
        "colab_type": "code",
        "outputId": "f8e2edfb-3bf6-49bf-8842-12afb1238426",
        "colab": {
          "base_uri": "https://localhost:8080/",
          "height": 34
        }
      },
      "source": [
        "len(vocab)"
      ],
      "execution_count": 9,
      "outputs": [
        {
          "output_type": "execute_result",
          "data": {
            "text/plain": [
              "97"
            ]
          },
          "metadata": {
            "tags": []
          },
          "execution_count": 9
        }
      ]
    },
    {
      "cell_type": "code",
      "metadata": {
        "id": "JDGYXbmLcF37",
        "colab_type": "code",
        "colab": {
          "base_uri": "https://localhost:8080/",
          "height": 1000
        },
        "outputId": "47fc9e97-dae3-4791-f834-d481a1e5f606"
      },
      "source": [
        "trigrams"
      ],
      "execution_count": 23,
      "outputs": [
        {
          "output_type": "execute_result",
          "data": {
            "text/plain": [
              "[(['When', 'forty'], 'winters'),\n",
              " (['forty', 'winters'], 'shall'),\n",
              " (['winters', 'shall'], 'besiege'),\n",
              " (['shall', 'besiege'], 'thy'),\n",
              " (['besiege', 'thy'], 'brow,'),\n",
              " (['thy', 'brow,'], 'And'),\n",
              " (['brow,', 'And'], 'dig'),\n",
              " (['And', 'dig'], 'deep'),\n",
              " (['dig', 'deep'], 'trenches'),\n",
              " (['deep', 'trenches'], 'in'),\n",
              " (['trenches', 'in'], 'thy'),\n",
              " (['in', 'thy'], \"beauty's\"),\n",
              " (['thy', \"beauty's\"], 'field,'),\n",
              " ([\"beauty's\", 'field,'], 'Thy'),\n",
              " (['field,', 'Thy'], \"youth's\"),\n",
              " (['Thy', \"youth's\"], 'proud'),\n",
              " ([\"youth's\", 'proud'], 'livery'),\n",
              " (['proud', 'livery'], 'so'),\n",
              " (['livery', 'so'], 'gazed'),\n",
              " (['so', 'gazed'], 'on'),\n",
              " (['gazed', 'on'], 'now,'),\n",
              " (['on', 'now,'], 'Will'),\n",
              " (['now,', 'Will'], 'be'),\n",
              " (['Will', 'be'], 'a'),\n",
              " (['be', 'a'], \"totter'd\"),\n",
              " (['a', \"totter'd\"], 'weed'),\n",
              " ([\"totter'd\", 'weed'], 'of'),\n",
              " (['weed', 'of'], 'small'),\n",
              " (['of', 'small'], 'worth'),\n",
              " (['small', 'worth'], 'held:'),\n",
              " (['worth', 'held:'], 'Then'),\n",
              " (['held:', 'Then'], 'being'),\n",
              " (['Then', 'being'], 'asked,'),\n",
              " (['being', 'asked,'], 'where'),\n",
              " (['asked,', 'where'], 'all'),\n",
              " (['where', 'all'], 'thy'),\n",
              " (['all', 'thy'], 'beauty'),\n",
              " (['thy', 'beauty'], 'lies,'),\n",
              " (['beauty', 'lies,'], 'Where'),\n",
              " (['lies,', 'Where'], 'all'),\n",
              " (['Where', 'all'], 'the'),\n",
              " (['all', 'the'], 'treasure'),\n",
              " (['the', 'treasure'], 'of'),\n",
              " (['treasure', 'of'], 'thy'),\n",
              " (['of', 'thy'], 'lusty'),\n",
              " (['thy', 'lusty'], 'days;'),\n",
              " (['lusty', 'days;'], 'To'),\n",
              " (['days;', 'To'], 'say,'),\n",
              " (['To', 'say,'], 'within'),\n",
              " (['say,', 'within'], 'thine'),\n",
              " (['within', 'thine'], 'own'),\n",
              " (['thine', 'own'], 'deep'),\n",
              " (['own', 'deep'], 'sunken'),\n",
              " (['deep', 'sunken'], 'eyes,'),\n",
              " (['sunken', 'eyes,'], 'Were'),\n",
              " (['eyes,', 'Were'], 'an'),\n",
              " (['Were', 'an'], 'all-eating'),\n",
              " (['an', 'all-eating'], 'shame,'),\n",
              " (['all-eating', 'shame,'], 'and'),\n",
              " (['shame,', 'and'], 'thriftless'),\n",
              " (['and', 'thriftless'], 'praise.'),\n",
              " (['thriftless', 'praise.'], 'How'),\n",
              " (['praise.', 'How'], 'much'),\n",
              " (['How', 'much'], 'more'),\n",
              " (['much', 'more'], 'praise'),\n",
              " (['more', 'praise'], \"deserv'd\"),\n",
              " (['praise', \"deserv'd\"], 'thy'),\n",
              " ([\"deserv'd\", 'thy'], \"beauty's\"),\n",
              " (['thy', \"beauty's\"], 'use,'),\n",
              " ([\"beauty's\", 'use,'], 'If'),\n",
              " (['use,', 'If'], 'thou'),\n",
              " (['If', 'thou'], 'couldst'),\n",
              " (['thou', 'couldst'], 'answer'),\n",
              " (['couldst', 'answer'], \"'This\"),\n",
              " (['answer', \"'This\"], 'fair'),\n",
              " ([\"'This\", 'fair'], 'child'),\n",
              " (['fair', 'child'], 'of'),\n",
              " (['child', 'of'], 'mine'),\n",
              " (['of', 'mine'], 'Shall'),\n",
              " (['mine', 'Shall'], 'sum'),\n",
              " (['Shall', 'sum'], 'my'),\n",
              " (['sum', 'my'], 'count,'),\n",
              " (['my', 'count,'], 'and'),\n",
              " (['count,', 'and'], 'make'),\n",
              " (['and', 'make'], 'my'),\n",
              " (['make', 'my'], 'old'),\n",
              " (['my', 'old'], \"excuse,'\"),\n",
              " (['old', \"excuse,'\"], 'Proving'),\n",
              " ([\"excuse,'\", 'Proving'], 'his'),\n",
              " (['Proving', 'his'], 'beauty'),\n",
              " (['his', 'beauty'], 'by'),\n",
              " (['beauty', 'by'], 'succession'),\n",
              " (['by', 'succession'], 'thine!'),\n",
              " (['succession', 'thine!'], 'This'),\n",
              " (['thine!', 'This'], 'were'),\n",
              " (['This', 'were'], 'to'),\n",
              " (['were', 'to'], 'be'),\n",
              " (['to', 'be'], 'new'),\n",
              " (['be', 'new'], 'made'),\n",
              " (['new', 'made'], 'when'),\n",
              " (['made', 'when'], 'thou'),\n",
              " (['when', 'thou'], 'art'),\n",
              " (['thou', 'art'], 'old,'),\n",
              " (['art', 'old,'], 'And'),\n",
              " (['old,', 'And'], 'see'),\n",
              " (['And', 'see'], 'thy'),\n",
              " (['see', 'thy'], 'blood'),\n",
              " (['thy', 'blood'], 'warm'),\n",
              " (['blood', 'warm'], 'when'),\n",
              " (['warm', 'when'], 'thou'),\n",
              " (['when', 'thou'], \"feel'st\"),\n",
              " (['thou', \"feel'st\"], 'it'),\n",
              " ([\"feel'st\", 'it'], 'cold.')]"
            ]
          },
          "metadata": {
            "tags": []
          },
          "execution_count": 23
        }
      ]
    },
    {
      "cell_type": "markdown",
      "metadata": {
        "colab_type": "text",
        "id": "gFhF69-dXd-L"
      },
      "source": [
        "### Question: what is the role of \"nn.Embedding\"?\n",
        "\n",
        "**Answer:** \n",
        "\n",
        "Generate a simple lookup table that stores embeddings of a fixed dictionary and size, that is going to be used for the neural network."
      ]
    },
    {
      "cell_type": "code",
      "metadata": {
        "colab_type": "code",
        "id": "f_iSLQkZs-vo",
        "outputId": "697ee34f-152b-4c84-c7f9-03cf6bcdefb4",
        "colab": {
          "base_uri": "https://localhost:8080/",
          "height": 54
        }
      },
      "source": [
        "CONTEXT_SIZE = 2 # indicates how many words will be used in the context\n",
        "EMBEDDING_DIM = 10\n",
        "\n",
        "class NGramLanguageModeler(nn.Module):\n",
        "\n",
        "    def __init__(self, vocab_size, embedding_dim, context_size):\n",
        "        super(NGramLanguageModeler, self).__init__()\n",
        "        self.embeddings = nn.Embedding(vocab_size, embedding_dim)\n",
        "        self.linear1 = nn.Linear(context_size * embedding_dim, 128)\n",
        "        self.linear2 = nn.Linear(128, vocab_size)\n",
        "\n",
        "    def forward(self, inputs):\n",
        "        embeds = self.embeddings(inputs).view((1, -1))\n",
        "        out = F.relu(self.linear1(embeds))\n",
        "        out = self.linear2(out)\n",
        "        log_probs = F.log_softmax(out, dim=1)\n",
        "        return log_probs\n",
        "\n",
        "losses = []\n",
        "loss_function = nn.NLLLoss()\n",
        "model = NGramLanguageModeler(len(vocab), EMBEDDING_DIM, CONTEXT_SIZE)\n",
        "optimizer = optim.SGD(model.parameters(), lr=0.001)\n",
        "\n",
        "for epoch in range(10):\n",
        "    total_loss = 0\n",
        "    for context, target in trigrams:\n",
        "\n",
        "        # Step 1. Prepare the inputs to be passed to the model (i.e, turn the words\n",
        "        # into integer indices and wrap them in tensors)\n",
        "        context_idxs = torch.tensor([word_to_ix[w] for w in context], dtype=torch.long)\n",
        "\n",
        "        # Step 2. Recall that torch *accumulates* gradients. Before passing in a\n",
        "        # new instance, you need to zero out the gradients from the old\n",
        "        # instance\n",
        "        model.zero_grad()\n",
        "\n",
        "        # Step 3. Run the forward pass, getting log probabilities over next\n",
        "        # words\n",
        "        log_probs = model(context_idxs)\n",
        "\n",
        "        # Step 4. Compute your loss function. (Again, Torch wants the target\n",
        "        # word wrapped in a tensor)\n",
        "        loss = loss_function(log_probs, torch.tensor([word_to_ix[target]], dtype=torch.long))\n",
        "\n",
        "        # Step 5. Do the backward pass and update the gradient\n",
        "        loss.backward()\n",
        "        optimizer.step()\n",
        "\n",
        "        # Get the Python number from a 1-element Tensor by calling tensor.item()\n",
        "        total_loss += loss.item()\n",
        "    losses.append(total_loss)\n",
        "print(losses)  # The loss decreased every iteration over the training data!"
      ],
      "execution_count": 11,
      "outputs": [
        {
          "output_type": "stream",
          "text": [
            "[518.8735959529877, 516.5372025966644, 514.2159497737885, 511.91007828712463, 509.61842346191406, 507.3396894931793, 505.0738744735718, 502.82053303718567, 500.57798433303833, 498.34599709510803]\n"
          ],
          "name": "stdout"
        }
      ]
    },
    {
      "cell_type": "code",
      "metadata": {
        "colab_type": "code",
        "id": "HRJS7p_Ys-vq",
        "outputId": "f5b0ee48-3dfb-4eb2-d5e6-284ae3fbc9a1",
        "colab": {
          "base_uri": "https://localhost:8080/",
          "height": 52
        }
      },
      "source": [
        "print(context)\n",
        "print(context_idxs)"
      ],
      "execution_count": 12,
      "outputs": [
        {
          "output_type": "stream",
          "text": [
            "[\"feel'st\", 'it']\n",
            "tensor([91, 20])\n"
          ],
          "name": "stdout"
        }
      ]
    },
    {
      "cell_type": "code",
      "metadata": {
        "id": "NvB2y9Kg944H",
        "colab_type": "code",
        "outputId": "6128bbe0-adae-4502-c5cf-a6ebd298e528",
        "colab": {
          "base_uri": "https://localhost:8080/",
          "height": 34
        }
      },
      "source": [
        "context = ['when', 'thou']\n",
        "context_idxs = torch.tensor([word_to_ix[w] for w in context], dtype=torch.long)\n",
        "context_idxs\n",
        "#log_probs = model(context_idxs)"
      ],
      "execution_count": 14,
      "outputs": [
        {
          "output_type": "execute_result",
          "data": {
            "text/plain": [
              "tensor([74, 71])"
            ]
          },
          "metadata": {
            "tags": []
          },
          "execution_count": 14
        }
      ]
    },
    {
      "cell_type": "markdown",
      "metadata": {
        "colab_type": "text",
        "id": "VHLrdMz7s-vr"
      },
      "source": [
        "## Second Example: Continuous Bag-of-Words\n",
        "\n",
        "\n",
        "The Continuous Bag-of-Words model (CBOW) is frequently used in NLP deep\n",
        "learning. It is a model that tries to predict words given the context of\n",
        "a few words before and a few words after the target word. This is\n",
        "distinct from language modeling, since CBOW is not sequential and does\n",
        "not have to be probabilistic. Typcially, CBOW is used to quickly train\n",
        "word embeddings, and these embeddings are used to initialize the\n",
        "embeddings of some more complicated model. Usually, this is referred to\n",
        "as *pretraining embeddings*. It almost always helps performance a couple\n",
        "of percent.\n",
        "\n",
        "The CBOW model is as follows. Given a target word $w_i$ and an\n",
        "$N$ context window on each side, $w_{i-1}, \\dots, w_{i-N}$\n",
        "and $w_{i+1}, \\dots, w_{i+N}$, referring to all context words\n",
        "collectively as $C$, CBOW tries to minimize\n",
        "\n",
        "\\begin{align}-\\log p(w_i | C) = -\\log \\text{Softmax}(A(\\sum_{w \\in C} q_w) + b)\\end{align}\n",
        "\n",
        "where $q_w$ is the embedding for word $w$.\n",
        "\n"
      ]
    },
    {
      "cell_type": "markdown",
      "metadata": {
        "colab_type": "text",
        "id": "TtV4noykYGlB"
      },
      "source": [
        "### Question: what is the role of \"word_to_ix\" and \"ix_to_word\"?\n",
        "\n",
        "**Answer:**\n",
        "word_to_ix -> access an index for the vocabulary given an word\n",
        "ix_to_word -> access the word in the vocabulary given an index"
      ]
    },
    {
      "cell_type": "code",
      "metadata": {
        "colab_type": "code",
        "id": "tfx86HESs-vv",
        "outputId": "cd49a146-6a00-48bb-8626-4301ad16dd6f",
        "colab": {
          "base_uri": "https://localhost:8080/",
          "height": 34
        }
      },
      "source": [
        "import torch\n",
        "import torch.nn as nn\n",
        "import numpy as np\n",
        "\n",
        "def make_context_vector(context, word_to_ix):\n",
        "    idxs = [word_to_ix[w] for w in context]\n",
        "    return torch.tensor(idxs, dtype=torch.long)\n",
        "\n",
        "def get_index_of_max(input):\n",
        "    index = 0\n",
        "    for i in range(1, len(input)):\n",
        "        if input[i] > input[index]:\n",
        "            index = i \n",
        "    return index\n",
        "\n",
        "def get_max_prob_result(input, ix_to_word):\n",
        "    return ix_to_word[get_index_of_max(input)]\n",
        "\n",
        "\n",
        "CONTEXT_SIZE = 2  # 2 words to the left, 2 to the right\n",
        "EMDEDDING_DIM = 100\n",
        "\n",
        "word_to_ix = {}\n",
        "ix_to_word = {}\n",
        "\n",
        "raw_text = \"\"\"We are about to study the idea of a computational process.\n",
        "Computational processes are abstract beings that inhabit computers.\n",
        "As they evolve, processes manipulate other abstract things called data.\n",
        "The evolution of a process is directed by a pattern of rules\n",
        "called a program. People create programs to direct processes. In effect,\n",
        "we conjure the spirits of the computer with our spells.\"\"\".split()\n",
        "\n",
        "\n",
        "# By deriving a set from `raw_text`, we deduplicate the array\n",
        "vocab = set(raw_text)\n",
        "vocab_size = len(vocab)\n",
        "print(vocab_size)\n",
        "\n",
        "for i, word in enumerate(vocab):\n",
        "    word_to_ix[word] = i\n",
        "    ix_to_word[i] = word\n",
        "\n"
      ],
      "execution_count": 15,
      "outputs": [
        {
          "output_type": "stream",
          "text": [
            "49\n"
          ],
          "name": "stdout"
        }
      ]
    },
    {
      "cell_type": "code",
      "metadata": {
        "id": "wXGL5JM6j1vR",
        "colab_type": "code",
        "outputId": "99f8c11c-c13d-4964-d865-c26532093e66",
        "colab": {
          "base_uri": "https://localhost:8080/",
          "height": 52
        }
      },
      "source": [
        "try:\n",
        "  print(word_to_ix['spells'])\n",
        "except: \n",
        "  print('Word spells not found. Check if there is any punctuation marks!')\n",
        "\n",
        "try:\n",
        "  print(\"The word at position 5 is:\", ix_to_word[5])\n",
        "except:\n",
        "  print('Index 5 is out of range!')"
      ],
      "execution_count": 16,
      "outputs": [
        {
          "output_type": "stream",
          "text": [
            "Word spells not found. Check if there is any punctuation marks!\n",
            "The word at position 5 is: to\n"
          ],
          "name": "stdout"
        }
      ]
    },
    {
      "cell_type": "markdown",
      "metadata": {
        "id": "S4GpaIX7dvML",
        "colab_type": "text"
      },
      "source": [
        ""
      ]
    },
    {
      "cell_type": "code",
      "metadata": {
        "colab_type": "code",
        "id": "kafxndUAYWt4",
        "outputId": "3527ecdc-b5bc-46b3-e848-f59a2fb89d0b",
        "colab": {
          "base_uri": "https://localhost:8080/",
          "height": 34
        }
      },
      "source": [
        "data = []\n",
        "for i in range(2, len(raw_text) - 2):\n",
        "    context = [raw_text[i - 2], raw_text[i - 1],\n",
        "               raw_text[i + 1], raw_text[i + 2]]\n",
        "    target = raw_text[i]\n",
        "    data.append((context, target))\n",
        "    \n",
        "    \n",
        "print(context)    "
      ],
      "execution_count": 17,
      "outputs": [
        {
          "output_type": "stream",
          "text": [
            "['the', 'computer', 'our', 'spells.']\n"
          ],
          "name": "stdout"
        }
      ]
    },
    {
      "cell_type": "markdown",
      "metadata": {
        "colab_type": "text",
        "id": "N8DQblb4XJNT"
      },
      "source": [
        "Class CBOW"
      ]
    },
    {
      "cell_type": "markdown",
      "metadata": {
        "id": "0A3R2FQObiBu",
        "colab_type": "text"
      },
      "source": [
        "### Question: what is the difference between the CBOW architecture coded in the following CBOW class and the CBOW architecture described in the lecture?\n",
        "\n",
        "**Answer:**\n",
        "\n",
        "Here we have two layers."
      ]
    },
    {
      "cell_type": "code",
      "metadata": {
        "colab_type": "code",
        "id": "BwX5dZ7jXCl7",
        "colab": {}
      },
      "source": [
        "class CBOW(torch.nn.Module):\n",
        "\n",
        "    def __init__(self, vocab_size, embedding_dim):\n",
        "        super(CBOW, self).__init__()\n",
        "\n",
        "        #out: 1 x emdedding_dim\n",
        "        self.embeddings = nn.Embedding(vocab_size, embedding_dim)\n",
        "\n",
        "        self.linear1 = nn.Linear(embedding_dim, 128)\n",
        "\n",
        "        self.activation_function1 = nn.ReLU()\n",
        "        \n",
        "        #out: 1 x vocab_size\n",
        "        self.linear2 = nn.Linear(128, vocab_size)\n",
        "\n",
        "        self.activation_function2 = nn.LogSoftmax(dim = -1)\n",
        "        \n",
        "\n",
        "    def forward(self, inputs):\n",
        "        embeds = sum(self.embeddings(inputs)).view(1,-1)\n",
        "        out = self.linear1(embeds)\n",
        "        out = self.activation_function1(out)\n",
        "        out = self.linear2(out)\n",
        "        out = self.activation_function2(out)\n",
        "        return out\n",
        "\n",
        "    def get_word_embedding(self, word):\n",
        "        word = torch.LongTensor([word_to_ix[word]])\n",
        "        return self.embeddings(word).view(1,-1)\n",
        "\n",
        "\n",
        "\n"
      ],
      "execution_count": 0,
      "outputs": []
    },
    {
      "cell_type": "markdown",
      "metadata": {
        "id": "MNWqgcgTb0GR",
        "colab_type": "text"
      },
      "source": [
        "Train the CBOW model"
      ]
    },
    {
      "cell_type": "code",
      "metadata": {
        "id": "IRyLty8UbylG",
        "colab_type": "code",
        "colab": {}
      },
      "source": [
        "model = CBOW(vocab_size, EMDEDDING_DIM)\n",
        "\n",
        "loss_function = nn.NLLLoss()\n",
        "optimizer = torch.optim.SGD(model.parameters(), lr=0.001)\n",
        "\n",
        "\n",
        "for epoch in range(50):\n",
        "    total_loss = 0\n",
        "    for context, target in data:\n",
        "        context_vector = make_context_vector(context, word_to_ix)  \n",
        "        model.zero_grad()\n",
        "        log_probs = model(context_vector)\n",
        "        loss = loss_function(log_probs, torch.tensor([word_to_ix[target]], dtype=torch.long))\n",
        "        loss.backward()\n",
        "        optimizer.step()\n",
        "\n",
        "        total_loss += loss.data\n"
      ],
      "execution_count": 0,
      "outputs": []
    },
    {
      "cell_type": "markdown",
      "metadata": {
        "colab_type": "text",
        "id": "5TUgEeLDYmdN"
      },
      "source": [
        "Test the model"
      ]
    },
    {
      "cell_type": "code",
      "metadata": {
        "colab_type": "code",
        "id": "UtpQ5xSIYkgt",
        "outputId": "b000d218-271e-4403-cf5c-f1d558ab407c",
        "colab": {
          "base_uri": "https://localhost:8080/",
          "height": 125
        }
      },
      "source": [
        "# ====================== TEST\n",
        "context = ['People','create','to', 'direct']\n",
        "context_vector = make_context_vector(context, word_to_ix)\n",
        "a = model(context_vector).data.numpy()\n",
        "print('Raw text: {}\\n'.format(' '.join(raw_text)))\n",
        "print('Context: {}\\n'.format(context))\n",
        "print('Prediction: {}'.format(get_max_prob_result(a[0], ix_to_word)))"
      ],
      "execution_count": 20,
      "outputs": [
        {
          "output_type": "stream",
          "text": [
            "Raw text: We are about to study the idea of a computational process. Computational processes are abstract beings that inhabit computers. As they evolve, processes manipulate other abstract things called data. The evolution of a process is directed by a pattern of rules called a program. People create programs to direct processes. In effect, we conjure the spirits of the computer with our spells.\n",
            "\n",
            "Context: ['People', 'create', 'to', 'direct']\n",
            "\n",
            "Prediction: programs\n"
          ],
          "name": "stdout"
        }
      ]
    },
    {
      "cell_type": "code",
      "metadata": {
        "id": "JSeAo2WOyJhq",
        "colab_type": "code",
        "outputId": "ad3aef0e-f083-4db6-be06-91c8c516d89b",
        "colab": {
          "base_uri": "https://localhost:8080/",
          "height": 125
        }
      },
      "source": [
        "# ====================== TEST\n",
        "context = ['to', 'direct','People','create']\n",
        "context_vector = make_context_vector(context, word_to_ix)\n",
        "a = model(context_vector).data.numpy()\n",
        "print('Raw text: {}\\n'.format(' '.join(raw_text)))\n",
        "print('Context: {}\\n'.format(context))\n",
        "print('Prediction: {}'.format(get_max_prob_result(a[0], ix_to_word)))"
      ],
      "execution_count": 21,
      "outputs": [
        {
          "output_type": "stream",
          "text": [
            "Raw text: We are about to study the idea of a computational process. Computational processes are abstract beings that inhabit computers. As they evolve, processes manipulate other abstract things called data. The evolution of a process is directed by a pattern of rules called a program. People create programs to direct processes. In effect, we conjure the spirits of the computer with our spells.\n",
            "\n",
            "Context: ['to', 'direct', 'People', 'create']\n",
            "\n",
            "Prediction: programs\n"
          ],
          "name": "stdout"
        }
      ]
    },
    {
      "cell_type": "markdown",
      "metadata": {
        "colab_type": "text",
        "id": "apEwBGvPZjPJ"
      },
      "source": [
        "### Question: How do we interpret the output \"a\" of \"model\"?\n",
        "\n",
        "Answer\n",
        "\n",
        "The model's output is a LogSoftmax for all the vocabulary, so we are going to see a vector with 49 columns, each one representing the log probability of that word.\n"
      ]
    },
    {
      "cell_type": "code",
      "metadata": {
        "id": "8YF2ls3PfyA4",
        "colab_type": "code",
        "colab": {
          "base_uri": "https://localhost:8080/",
          "height": 34
        },
        "outputId": "5d9d804c-e369-4d31-ae46-0e37337b9984"
      },
      "source": [
        "ix_to_word[a.argmax()]"
      ],
      "execution_count": 29,
      "outputs": [
        {
          "output_type": "execute_result",
          "data": {
            "text/plain": [
              "'programs'"
            ]
          },
          "metadata": {
            "tags": []
          },
          "execution_count": 29
        }
      ]
    },
    {
      "cell_type": "code",
      "metadata": {
        "id": "zuJuWiiFdgEo",
        "colab_type": "code",
        "colab": {
          "base_uri": "https://localhost:8080/",
          "height": 194
        },
        "outputId": "db18441c-db61-4751-cd24-6f823b9dbd0f"
      },
      "source": [
        "print(a)\n",
        "print(a.shape)"
      ],
      "execution_count": 24,
      "outputs": [
        {
          "output_type": "stream",
          "text": [
            "[[-5.967013   -5.98879    -6.0427537  -7.261558   -5.8460364  -4.4023156\n",
            "  -4.8269253  -5.5781717  -5.7604914  -5.0686755  -5.4758644  -5.0846686\n",
            "  -4.9446383  -7.458612   -5.9991937  -5.5067034  -5.306475   -7.5814996\n",
            "  -4.9813957  -7.169093   -5.9201093  -5.017847   -4.248554   -5.7780275\n",
            "  -4.5697885  -6.1756883  -6.7498984  -6.539051   -5.6425614  -6.3343854\n",
            "  -6.0594845  -3.7577832  -5.1462     -4.0101585  -5.7482953  -7.3520827\n",
            "  -5.237054   -4.278888   -5.407286   -4.927964   -5.0052967  -2.9670312\n",
            "  -3.9870594  -4.372441   -6.7310414  -4.7365365  -5.399485   -0.38324493\n",
            "  -7.019016  ]]\n",
            "(1, 49)\n"
          ],
          "name": "stdout"
        }
      ]
    },
    {
      "cell_type": "markdown",
      "metadata": {
        "colab_type": "text",
        "id": "duSX3DmkY4zi"
      },
      "source": [
        "### Question: what is the word embedding of the word \"People\"?"
      ]
    },
    {
      "cell_type": "code",
      "metadata": {
        "colab_type": "code",
        "id": "kHDbW9-3s-vx",
        "outputId": "5fd65a66-310f-4d6d-cbd9-33e8ac17b43b",
        "colab": {
          "base_uri": "https://localhost:8080/",
          "height": 34
        }
      },
      "source": [
        "model.get_word_embedding('People').shape"
      ],
      "execution_count": 37,
      "outputs": [
        {
          "output_type": "execute_result",
          "data": {
            "text/plain": [
              "torch.Size([1, 100])"
            ]
          },
          "metadata": {
            "tags": []
          },
          "execution_count": 37
        }
      ]
    },
    {
      "cell_type": "code",
      "metadata": {
        "id": "DZyyFLCsg14U",
        "colab_type": "code",
        "colab": {
          "base_uri": "https://localhost:8080/",
          "height": 247
        },
        "outputId": "97565c56-04e8-4f3f-9814-a0e4702d09ad"
      },
      "source": [
        "model.get_word_embedding('People')"
      ],
      "execution_count": 38,
      "outputs": [
        {
          "output_type": "execute_result",
          "data": {
            "text/plain": [
              "tensor([[-0.0805,  0.6171, -1.5499,  2.4598,  0.7641,  1.0578,  0.6270,  0.1213,\n",
              "         -0.8816,  0.0626,  0.6886, -1.1877, -0.2955, -0.3985,  0.4648,  0.7233,\n",
              "         -0.8372, -0.1382,  0.5549,  1.1142, -0.2429,  1.9858,  1.1807,  0.4511,\n",
              "          0.8436, -1.1676, -0.3438,  1.4283, -1.1930, -0.1008, -0.9379,  1.1222,\n",
              "         -0.4656,  0.1642, -1.6222,  1.2438,  1.5218, -0.9276,  1.1824,  1.0896,\n",
              "          1.1725,  0.3655, -0.5228, -0.1602, -0.7667,  0.0981,  0.3890,  0.0752,\n",
              "         -2.0034, -0.0535, -1.0049, -0.8309, -0.4052, -0.3760,  0.6839, -1.4845,\n",
              "         -1.3571, -0.8331, -1.1643,  0.7705,  0.7305,  1.8496, -1.0514,  0.7029,\n",
              "          0.5374, -3.0386, -1.1142, -0.6691,  0.5549,  0.4782, -0.0376, -0.9259,\n",
              "          1.2161, -1.0850, -0.0274,  0.3360, -2.0259, -0.5454,  0.8171,  0.0405,\n",
              "         -1.1897, -0.4481, -0.7492,  0.6926, -0.8588, -2.3377, -1.6881, -0.1358,\n",
              "          1.5038, -0.5620, -1.5067, -1.5304,  0.1643,  0.7635, -1.0298, -0.5326,\n",
              "         -0.4690, -0.9940, -0.4725,  0.3024]], grad_fn=<ViewBackward>)"
            ]
          },
          "metadata": {
            "tags": []
          },
          "execution_count": 38
        }
      ]
    },
    {
      "cell_type": "markdown",
      "metadata": {
        "id": "aQsBDdXgcMPq",
        "colab_type": "text"
      },
      "source": [
        "### Question: in the lecture, the CBOW model can propose at least two kinds of embedding for a given word. Which one is used in this code?\n",
        "\n",
        "**Answer**\n",
        "\n",
        "We're using the input of the networks as embedding."
      ]
    },
    {
      "cell_type": "markdown",
      "metadata": {
        "id": "zYR-_l4UeqUd",
        "colab_type": "text"
      },
      "source": [
        "### Question: count all the parameters of the model. Is the embedding matrix learned during the training step?"
      ]
    },
    {
      "cell_type": "code",
      "metadata": {
        "id": "rL90jghw6KmR",
        "colab_type": "code",
        "colab": {
          "base_uri": "https://localhost:8080/",
          "height": 34
        },
        "outputId": "7d76e52a-e1c3-4309-9b0f-42a1ffd69cd0"
      },
      "source": [
        "# Count the parameters in this cell\n",
        "pp=0\n",
        "for p in list(model.parameters()):\n",
        "    nn=1\n",
        "    for s in list(p.size()):\n",
        "      nn = nn*s\n",
        "    pp += nn\n",
        "\n",
        "print(pp)"
      ],
      "execution_count": 41,
      "outputs": [
        {
          "output_type": "stream",
          "text": [
            "24149\n"
          ],
          "name": "stdout"
        }
      ]
    }
  ]
}