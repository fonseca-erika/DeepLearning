{
  "nbformat": 4,
  "nbformat_minor": 0,
  "metadata": {
    "kernelspec": {
      "name": "python3",
      "display_name": "Python 3"
    },
    "language_info": {
      "codemirror_mode": {
        "name": "ipython",
        "version": 3
      },
      "file_extension": ".py",
      "mimetype": "text/x-python",
      "name": "python",
      "nbconvert_exporter": "python",
      "pygments_lexer": "ipython3",
      "version": "3.7.3"
    },
    "colab": {
      "name": "DSTI_DL_Lab03_March2020_Training_Classifier.ipynb",
      "provenance": [],
      "collapsed_sections": []
    },
    "widgets": {
      "application/vnd.jupyter.widget-state+json": {
        "cbfb3c89a5ee4a6fb8ed02f59fc1990b": {
          "model_module": "@jupyter-widgets/controls",
          "model_name": "HBoxModel",
          "state": {
            "_view_name": "HBoxView",
            "_dom_classes": [],
            "_model_name": "HBoxModel",
            "_view_module": "@jupyter-widgets/controls",
            "_model_module_version": "1.5.0",
            "_view_count": null,
            "_view_module_version": "1.5.0",
            "box_style": "",
            "layout": "IPY_MODEL_d74f1226b131498a8a19c4c295faaa9e",
            "_model_module": "@jupyter-widgets/controls",
            "children": [
              "IPY_MODEL_65e8731f24eb4b2ba94dae73f124ff57",
              "IPY_MODEL_54bc35c0013746cc8978649c945560ab"
            ]
          }
        },
        "d74f1226b131498a8a19c4c295faaa9e": {
          "model_module": "@jupyter-widgets/base",
          "model_name": "LayoutModel",
          "state": {
            "_view_name": "LayoutView",
            "grid_template_rows": null,
            "right": null,
            "justify_content": null,
            "_view_module": "@jupyter-widgets/base",
            "overflow": null,
            "_model_module_version": "1.2.0",
            "_view_count": null,
            "flex_flow": null,
            "width": null,
            "min_width": null,
            "border": null,
            "align_items": null,
            "bottom": null,
            "_model_module": "@jupyter-widgets/base",
            "top": null,
            "grid_column": null,
            "overflow_y": null,
            "overflow_x": null,
            "grid_auto_flow": null,
            "grid_area": null,
            "grid_template_columns": null,
            "flex": null,
            "_model_name": "LayoutModel",
            "justify_items": null,
            "grid_row": null,
            "max_height": null,
            "align_content": null,
            "visibility": null,
            "align_self": null,
            "height": null,
            "min_height": null,
            "padding": null,
            "grid_auto_rows": null,
            "grid_gap": null,
            "max_width": null,
            "order": null,
            "_view_module_version": "1.2.0",
            "grid_template_areas": null,
            "object_position": null,
            "object_fit": null,
            "grid_auto_columns": null,
            "margin": null,
            "display": null,
            "left": null
          }
        },
        "65e8731f24eb4b2ba94dae73f124ff57": {
          "model_module": "@jupyter-widgets/controls",
          "model_name": "IntProgressModel",
          "state": {
            "_view_name": "ProgressView",
            "style": "IPY_MODEL_ba6707ecc8f24962bad4baed724512b7",
            "_dom_classes": [],
            "description": "",
            "_model_name": "IntProgressModel",
            "bar_style": "info",
            "max": 1,
            "_view_module": "@jupyter-widgets/controls",
            "_model_module_version": "1.5.0",
            "value": 1,
            "_view_count": null,
            "_view_module_version": "1.5.0",
            "orientation": "horizontal",
            "min": 0,
            "description_tooltip": null,
            "_model_module": "@jupyter-widgets/controls",
            "layout": "IPY_MODEL_02b069252e5d48cabb3749db611a6fce"
          }
        },
        "54bc35c0013746cc8978649c945560ab": {
          "model_module": "@jupyter-widgets/controls",
          "model_name": "HTMLModel",
          "state": {
            "_view_name": "HTMLView",
            "style": "IPY_MODEL_8f0ec50e78924b239301d3d0f0b1b7cc",
            "_dom_classes": [],
            "description": "",
            "_model_name": "HTMLModel",
            "placeholder": "​",
            "_view_module": "@jupyter-widgets/controls",
            "_model_module_version": "1.5.0",
            "value": " 170500096/? [00:20&lt;00:00, 83770413.01it/s]",
            "_view_count": null,
            "_view_module_version": "1.5.0",
            "description_tooltip": null,
            "_model_module": "@jupyter-widgets/controls",
            "layout": "IPY_MODEL_9d62f3cff3aa46a18dbdf812a7360549"
          }
        },
        "ba6707ecc8f24962bad4baed724512b7": {
          "model_module": "@jupyter-widgets/controls",
          "model_name": "ProgressStyleModel",
          "state": {
            "_view_name": "StyleView",
            "_model_name": "ProgressStyleModel",
            "description_width": "initial",
            "_view_module": "@jupyter-widgets/base",
            "_model_module_version": "1.5.0",
            "_view_count": null,
            "_view_module_version": "1.2.0",
            "bar_color": null,
            "_model_module": "@jupyter-widgets/controls"
          }
        },
        "02b069252e5d48cabb3749db611a6fce": {
          "model_module": "@jupyter-widgets/base",
          "model_name": "LayoutModel",
          "state": {
            "_view_name": "LayoutView",
            "grid_template_rows": null,
            "right": null,
            "justify_content": null,
            "_view_module": "@jupyter-widgets/base",
            "overflow": null,
            "_model_module_version": "1.2.0",
            "_view_count": null,
            "flex_flow": null,
            "width": null,
            "min_width": null,
            "border": null,
            "align_items": null,
            "bottom": null,
            "_model_module": "@jupyter-widgets/base",
            "top": null,
            "grid_column": null,
            "overflow_y": null,
            "overflow_x": null,
            "grid_auto_flow": null,
            "grid_area": null,
            "grid_template_columns": null,
            "flex": null,
            "_model_name": "LayoutModel",
            "justify_items": null,
            "grid_row": null,
            "max_height": null,
            "align_content": null,
            "visibility": null,
            "align_self": null,
            "height": null,
            "min_height": null,
            "padding": null,
            "grid_auto_rows": null,
            "grid_gap": null,
            "max_width": null,
            "order": null,
            "_view_module_version": "1.2.0",
            "grid_template_areas": null,
            "object_position": null,
            "object_fit": null,
            "grid_auto_columns": null,
            "margin": null,
            "display": null,
            "left": null
          }
        },
        "8f0ec50e78924b239301d3d0f0b1b7cc": {
          "model_module": "@jupyter-widgets/controls",
          "model_name": "DescriptionStyleModel",
          "state": {
            "_view_name": "StyleView",
            "_model_name": "DescriptionStyleModel",
            "description_width": "",
            "_view_module": "@jupyter-widgets/base",
            "_model_module_version": "1.5.0",
            "_view_count": null,
            "_view_module_version": "1.2.0",
            "_model_module": "@jupyter-widgets/controls"
          }
        },
        "9d62f3cff3aa46a18dbdf812a7360549": {
          "model_module": "@jupyter-widgets/base",
          "model_name": "LayoutModel",
          "state": {
            "_view_name": "LayoutView",
            "grid_template_rows": null,
            "right": null,
            "justify_content": null,
            "_view_module": "@jupyter-widgets/base",
            "overflow": null,
            "_model_module_version": "1.2.0",
            "_view_count": null,
            "flex_flow": null,
            "width": null,
            "min_width": null,
            "border": null,
            "align_items": null,
            "bottom": null,
            "_model_module": "@jupyter-widgets/base",
            "top": null,
            "grid_column": null,
            "overflow_y": null,
            "overflow_x": null,
            "grid_auto_flow": null,
            "grid_area": null,
            "grid_template_columns": null,
            "flex": null,
            "_model_name": "LayoutModel",
            "justify_items": null,
            "grid_row": null,
            "max_height": null,
            "align_content": null,
            "visibility": null,
            "align_self": null,
            "height": null,
            "min_height": null,
            "padding": null,
            "grid_auto_rows": null,
            "grid_gap": null,
            "max_width": null,
            "order": null,
            "_view_module_version": "1.2.0",
            "grid_template_areas": null,
            "object_position": null,
            "object_fit": null,
            "grid_auto_columns": null,
            "margin": null,
            "display": null,
            "left": null
          }
        }
      }
    }
  },
  "cells": [
    {
      "cell_type": "markdown",
      "metadata": {
        "id": "gtBkaur_mwPQ",
        "colab_type": "text"
      },
      "source": [
        "# Training a Classifier\n",
        "\n",
        "\n",
        "This is it. You have seen how to define neural networks, compute loss and make\n",
        "updates to the weights of the network.\n",
        "\n",
        "Now you might be thinking,\n",
        "\n",
        "**What about data?**\n",
        "\n",
        "\n",
        "Generally, when you have to deal with image, text, audio or video data,\n",
        "you can use standard python packages that load data into a numpy array.\n",
        "Then you can convert this array into a ``torch.*Tensor``.\n",
        "\n",
        "-  For images, packages such as Pillow, OpenCV are useful\n",
        "-  For audio, packages such as scipy and librosa\n",
        "-  For text, either raw Python or Cython based loading, or NLTK and\n",
        "   SpaCy are useful\n",
        "\n",
        "Specifically for vision, Pytorch team has created a package called\n",
        "``torchvision``, that has data loaders for common datasets such as\n",
        "Imagenet, CIFAR10, MNIST, etc. and data transformers for images, viz.,\n",
        "``torchvision.datasets`` and ``torch.utils.data.DataLoader``.\n",
        "\n",
        "This provides a huge convenience and avoids writing boilerplate code.\n",
        "\n",
        "For this tutorial, we will use the CIFAR10 dataset.\n",
        "It has the classes: ‘airplane’, ‘automobile’, ‘bird’, ‘cat’, ‘deer’,\n",
        "‘dog’, ‘frog’, ‘horse’, ‘ship’, ‘truck’. The images in CIFAR-10 are of\n",
        "size 3x32x32, i.e. 3-channel color images of 32x32 pixels in size.\n",
        "\n",
        "\n",
        "   ![cifar10](https://miro.medium.com/max/1648/1*SZnidBt7CQ4Xqcag6rd8Ew.png)\n",
        "\n",
        "\n"
      ]
    },
    {
      "cell_type": "markdown",
      "metadata": {
        "id": "qBMuIZjPRSwV",
        "colab_type": "text"
      },
      "source": [
        "# How to use Dataset and DataLoader?"
      ]
    },
    {
      "cell_type": "markdown",
      "metadata": {
        "id": "UYxvilmtRS1D",
        "colab_type": "text"
      },
      "source": [
        "## Data Loading"
      ]
    },
    {
      "cell_type": "markdown",
      "metadata": {
        "id": "kTI5KIOXRS4Q",
        "colab_type": "text"
      },
      "source": [
        "For convenience, PyTorch provides a number of utilities to load, preprocess and interact with datasets. These helper classes and functions are found in the torch.utils.data module. The two major concepts here are:\n",
        "\n",
        "\n",
        "\n",
        "1.   A Dataset, which encapsulates a source of data,\n",
        "2.   A DataLoader, which is responsible for loading a dataset, possibly in parallel.\n",
        "\n"
      ]
    },
    {
      "cell_type": "markdown",
      "metadata": {
        "id": "qgegVUtsRizA",
        "colab_type": "text"
      },
      "source": [
        "New datasets are created by subclassing the torch.utils.data.Dataset class and overriding the \\_\\_len__ method to return the number of samples in the dataset and the \\_\\_getitem__ method to access a single value at a certain index. \n",
        "​\n",
        "For example, this would be a simple dataset encapsulating a range of integers:"
      ]
    },
    {
      "cell_type": "code",
      "metadata": {
        "id": "bOoxqt147pAM",
        "colab_type": "code",
        "colab": {}
      },
      "source": [
        "import math\n",
        "import torch\n",
        "\n",
        "class RangeDataset(torch.utils.data.Dataset):\n",
        "  def __init__(self, start, end, step=1):\n",
        "    self.start = start\n",
        "    self.end = end\n",
        "    self.step = step\n",
        "\n",
        "  def __len__(self):\n",
        "    return math.ceil((self.end - self.start) / self.step)\n",
        "\n",
        "  def __getitem__(self, index):\n",
        "    value = self.start + index * self.step\n",
        "    assert value < self.end\n",
        "    return value"
      ],
      "execution_count": 0,
      "outputs": []
    },
    {
      "cell_type": "markdown",
      "metadata": {
        "id": "GeKseT00RpKU",
        "colab_type": "text"
      },
      "source": [
        "Inside \\_\\_init__ we would usually configure some paths or change the set of samples ultimately returned. \n",
        "\n",
        "In \\_\\_len__, we specify the upper bound for the index with which \\_\\_getitem__ may be called.\n",
        "\n",
        "In \\_\\_getitem__ we return the actual sample, which could be an image or an audio snippet."
      ]
    },
    {
      "cell_type": "code",
      "metadata": {
        "id": "XUwUAiJu7omE",
        "colab_type": "code",
        "outputId": "51e2b013-c8a3-40cc-8ab2-373efe7c3bfe",
        "colab": {
          "base_uri": "https://localhost:8080/",
          "height": 34
        }
      },
      "source": [
        "dataset = RangeDataset(0, 10, 2)\n",
        "print(len(dataset))"
      ],
      "execution_count": 3,
      "outputs": [
        {
          "output_type": "stream",
          "text": [
            "5\n"
          ],
          "name": "stdout"
        }
      ]
    },
    {
      "cell_type": "markdown",
      "metadata": {
        "id": "2h6K3PmbRtAR",
        "colab_type": "text"
      },
      "source": [
        "## DataLoader\n",
        "\n",
        "To iterate over the dataset we could, in theory, simply have a for i in range loop and access samples via \\_\\_getitem__. However, it would be much more convenient if the dataset implemented the iterator protocol itself, so we could simply loop over samples with for sample in dataset. Fortunately, this functionality is provided by the DataLoader class. \n",
        "\n",
        "A DataLoader object takes a dataset and a number of options that configure the way samples are retrieved. For example, it is possible to load samples in parallel, using multiple processes. For this, the DataLoader constructor takes a num_workers argument. Note that DataLoaders always return batches, whose size is set with the batch_size parameter. Here is a simple example:\n",
        "\n"
      ]
    },
    {
      "cell_type": "code",
      "metadata": {
        "id": "Z9uwLC2OR1fB",
        "colab_type": "code",
        "outputId": "cf3a9c32-8a12-4970-fc02-04fb07322be6",
        "colab": {
          "base_uri": "https://localhost:8080/",
          "height": 51
        }
      },
      "source": [
        "dataset = RangeDataset(0, 9)\n",
        "data_loader = torch.utils.data.DataLoader(\n",
        "    dataset, \n",
        "    batch_size=4, \n",
        "    shuffle=True,  # set to True to have the data reshuffled at every epoch\n",
        "    num_workers=2, # how many subprocesses to use for data loading\n",
        "    drop_last=True # set to True to drop the last incomplete batch, if the dataset size is not divisible by the batch size.\n",
        "  )\n",
        "\n",
        "for i, batch in enumerate(data_loader):\n",
        "  print(i, batch)"
      ],
      "execution_count": 4,
      "outputs": [
        {
          "output_type": "stream",
          "text": [
            "0 tensor([8, 2, 1, 4])\n",
            "1 tensor([7, 0, 3, 5])\n"
          ],
          "name": "stdout"
        }
      ]
    },
    {
      "cell_type": "markdown",
      "metadata": {
        "id": "RYlJQOZrRtDw",
        "colab_type": "text"
      },
      "source": [
        "Use an iterator\n",
        "\n",
        "See details [here](https://pytorch.org/docs/stable/data.html#torch.utils.data.IterableDataset)"
      ]
    },
    {
      "cell_type": "code",
      "metadata": {
        "id": "RhhyvxEcR-Zs",
        "colab_type": "code",
        "outputId": "b03b541a-ef16-4dd9-ca79-879b0a1b5145",
        "colab": {
          "base_uri": "https://localhost:8080/",
          "height": 68
        }
      },
      "source": [
        "dataset_iter = iter(dataset)\n",
        "print(next(dataset_iter))\n",
        "print(next(dataset_iter))\n",
        "print(next(dataset_iter))"
      ],
      "execution_count": 5,
      "outputs": [
        {
          "output_type": "stream",
          "text": [
            "0\n",
            "1\n",
            "2\n"
          ],
          "name": "stdout"
        }
      ]
    },
    {
      "cell_type": "code",
      "metadata": {
        "id": "TfrOJoLsSBkl",
        "colab_type": "code",
        "outputId": "e88bd797-1e38-48fa-f7de-2c2693cd3ce4",
        "colab": {
          "base_uri": "https://localhost:8080/",
          "height": 170
        }
      },
      "source": [
        "dataset_iter = iter(dataset)\n",
        "for i in range(len(dataset)):\n",
        "  element = next(iter(dataset_iter))\n",
        "  print(element)"
      ],
      "execution_count": 6,
      "outputs": [
        {
          "output_type": "stream",
          "text": [
            "0\n",
            "1\n",
            "2\n",
            "3\n",
            "4\n",
            "5\n",
            "6\n",
            "7\n",
            "8\n"
          ],
          "name": "stdout"
        }
      ]
    },
    {
      "cell_type": "markdown",
      "metadata": {
        "id": "4N9FdSkbSoLQ",
        "colab_type": "text"
      },
      "source": [
        "# Training an image classifier\n",
        "\n",
        "\n",
        "We will do the following steps in order:\n",
        "\n",
        "1. Load and normalizing the CIFAR10 training and test datasets using\n",
        "   ``torchvision``\n",
        "2. Define a Convolutional Neural Network\n",
        "3. Define a loss function\n",
        "4. Train the network on the training data\n",
        "5. Test the network on the test data\n",
        "\n",
        "1. Loading and normalizing CIFAR10\n",
        "\n",
        "\n",
        "Using ``torchvision``, it’s extremely easy to load CIFAR10.\n",
        "\n",
        "\n"
      ]
    },
    {
      "cell_type": "code",
      "metadata": {
        "id": "6ipT2HN5mwPL",
        "colab_type": "code",
        "colab": {}
      },
      "source": [
        "%matplotlib inline"
      ],
      "execution_count": 0,
      "outputs": []
    },
    {
      "cell_type": "code",
      "metadata": {
        "id": "7E_ryflKmwPR",
        "colab_type": "code",
        "colab": {}
      },
      "source": [
        "import torch\n",
        "import torchvision\n",
        "import torchvision.transforms as transforms"
      ],
      "execution_count": 0,
      "outputs": []
    },
    {
      "cell_type": "markdown",
      "metadata": {
        "id": "Pwgsi7KoqQs6",
        "colab_type": "text"
      },
      "source": [
        "## 1- Load and normalizing the CIFAR10 training and test datasets using ``torchvision``"
      ]
    },
    {
      "cell_type": "markdown",
      "metadata": {
        "id": "y_nODc6EmwPU",
        "colab_type": "text"
      },
      "source": [
        "The output of torchvision datasets are PILImage images of range [0, 1].\n",
        "We transform them to Tensors of normalized range [-1, 1].\n",
        "\n"
      ]
    },
    {
      "cell_type": "code",
      "metadata": {
        "id": "J1ICv1kcmwPV",
        "colab_type": "code",
        "outputId": "77ca1da2-5ccf-4c69-8dc2-153609cb97c2",
        "colab": {
          "base_uri": "https://localhost:8080/",
          "height": 100,
          "referenced_widgets": [
            "cbfb3c89a5ee4a6fb8ed02f59fc1990b",
            "d74f1226b131498a8a19c4c295faaa9e",
            "65e8731f24eb4b2ba94dae73f124ff57",
            "54bc35c0013746cc8978649c945560ab",
            "ba6707ecc8f24962bad4baed724512b7",
            "02b069252e5d48cabb3749db611a6fce",
            "8f0ec50e78924b239301d3d0f0b1b7cc",
            "9d62f3cff3aa46a18dbdf812a7360549"
          ]
        }
      },
      "source": [
        "transform = transforms.Compose(\n",
        "    [transforms.ToTensor(),\n",
        "     transforms.Normalize((0.5, 0.5, 0.5), (0.5, 0.5, 0.5))])\n",
        "\n",
        "trainset = torchvision.datasets.CIFAR10(root='./data', train=True,\n",
        "                                        download=True, transform=transform)\n",
        "trainloader = torch.utils.data.DataLoader(trainset, batch_size=4,\n",
        "                                          shuffle=True, num_workers=2)\n",
        "\n",
        "testset = torchvision.datasets.CIFAR10(root='./data', train=False,\n",
        "                                       download=True, transform=transform)\n",
        "testloader = torch.utils.data.DataLoader(testset, batch_size=4,\n",
        "                                         shuffle=False, num_workers=2)\n",
        "\n",
        "classes = ('plane', 'car', 'bird', 'cat',\n",
        "           'deer', 'dog', 'frog', 'horse', 'ship', 'truck')"
      ],
      "execution_count": 9,
      "outputs": [
        {
          "output_type": "stream",
          "text": [
            "Downloading https://www.cs.toronto.edu/~kriz/cifar-10-python.tar.gz to ./data/cifar-10-python.tar.gz\n"
          ],
          "name": "stdout"
        },
        {
          "output_type": "display_data",
          "data": {
            "application/vnd.jupyter.widget-view+json": {
              "model_id": "cbfb3c89a5ee4a6fb8ed02f59fc1990b",
              "version_minor": 0,
              "version_major": 2
            },
            "text/plain": [
              "HBox(children=(IntProgress(value=1, bar_style='info', max=1), HTML(value='')))"
            ]
          },
          "metadata": {
            "tags": []
          }
        },
        {
          "output_type": "stream",
          "text": [
            "Extracting ./data/cifar-10-python.tar.gz to ./data\n",
            "Files already downloaded and verified\n"
          ],
          "name": "stdout"
        }
      ]
    },
    {
      "cell_type": "markdown",
      "metadata": {
        "id": "zmG2EX-GDRaZ",
        "colab_type": "text"
      },
      "source": [
        "See the location of the downloaded data"
      ]
    },
    {
      "cell_type": "code",
      "metadata": {
        "id": "CMjUo43nC_sl",
        "colab_type": "code",
        "outputId": "0b2851f1-b996-4a2e-cfbc-b3cc487551da",
        "colab": {
          "base_uri": "https://localhost:8080/",
          "height": 272
        }
      },
      "source": [
        "%pwd\n",
        "%ls -l\n",
        "%ls -l ./data\n",
        "%ls -l ./data/cifar-10-batches-py/"
      ],
      "execution_count": 10,
      "outputs": [
        {
          "output_type": "stream",
          "text": [
            "total 8\n",
            "drwxr-xr-x 3 root root 4096 Apr  7 08:54 \u001b[0m\u001b[01;34mdata\u001b[0m/\n",
            "drwxr-xr-x 1 root root 4096 Apr  3 16:24 \u001b[01;34msample_data\u001b[0m/\n",
            "total 166512\n",
            "drwxr-xr-x 2 2156 1103      4096 Jun  4  2009 \u001b[0m\u001b[01;34mcifar-10-batches-py\u001b[0m/\n",
            "-rw-r--r-- 1 root root 170498071 Apr  7 08:54 cifar-10-python.tar.gz\n",
            "total 181876\n",
            "-rw-r--r-- 1 2156 1103      158 Mar 31  2009 batches.meta\n",
            "-rw-r--r-- 1 2156 1103 31035704 Mar 31  2009 data_batch_1\n",
            "-rw-r--r-- 1 2156 1103 31035320 Mar 31  2009 data_batch_2\n",
            "-rw-r--r-- 1 2156 1103 31035999 Mar 31  2009 data_batch_3\n",
            "-rw-r--r-- 1 2156 1103 31035696 Mar 31  2009 data_batch_4\n",
            "-rw-r--r-- 1 2156 1103 31035623 Mar 31  2009 data_batch_5\n",
            "-rw-r--r-- 1 2156 1103       88 Jun  4  2009 readme.html\n",
            "-rw-r--r-- 1 2156 1103 31035526 Mar 31  2009 test_batch\n"
          ],
          "name": "stdout"
        }
      ]
    },
    {
      "cell_type": "markdown",
      "metadata": {
        "id": "JfFh3I32mwPY",
        "colab_type": "text"
      },
      "source": [
        "Let us show some of the training images, for fun.\n",
        "\n"
      ]
    },
    {
      "cell_type": "code",
      "metadata": {
        "id": "HeN57Pz3mwPZ",
        "colab_type": "code",
        "outputId": "ede7114b-9e7b-4682-8992-0227e97904c0",
        "colab": {
          "base_uri": "https://localhost:8080/",
          "height": 155
        }
      },
      "source": [
        "import matplotlib.pyplot as plt\n",
        "import numpy as np\n",
        "\n",
        "# functions to show an image\n",
        "\n",
        "\n",
        "def imshow(img):\n",
        "    img = img / 2 + 0.5     # unnormalize\n",
        "    npimg = img.numpy()\n",
        "    plt.imshow(np.transpose(npimg, (1, 2, 0)))\n",
        "    plt.show()\n",
        "\n",
        "\n",
        "# get some random training images\n",
        "dataiter = iter(trainloader)\n",
        "images, labels = dataiter.next()\n",
        "\n",
        "# show images\n",
        "imshow(torchvision.utils.make_grid(images))\n",
        "# print labels\n",
        "print(' '.join('%5s' % classes[labels[j]] for j in range(4)))"
      ],
      "execution_count": 11,
      "outputs": [
        {
          "output_type": "display_data",
          "data": {
            "image/png": "[encoded data removed]",
            "text/plain": [
              "<Figure size 432x288 with 1 Axes>"
            ]
          },
          "metadata": {
            "tags": []
          }
        },
        {
          "output_type": "stream",
          "text": [
            " deer   dog  frog   cat\n"
          ],
          "name": "stdout"
        }
      ]
    },
    {
      "cell_type": "markdown",
      "metadata": {
        "id": "Yjp0J6lamwPc",
        "colab_type": "text"
      },
      "source": [
        "## 2- Define a Convolutional Neural Network\n",
        "\n",
        "\n",
        "Copy the neural network from the Neural Networks section before and modify it to\n",
        "take 3-channel images (instead of 1-channel images as it was defined).\n",
        "\n"
      ]
    },
    {
      "cell_type": "markdown",
      "metadata": {
        "id": "JVRSlGlmzgOn",
        "colab_type": "text"
      },
      "source": [
        "The following neural network is created as a module. This is the best way to create a customized neural network (automatic differentiation is still working)\n",
        "\n",
        "More information on nn.Module [here](https://pytorch.org/tutorials/beginner/nn_tutorial.html#refactor-using-nn-module)"
      ]
    },
    {
      "cell_type": "code",
      "metadata": {
        "id": "vsPuksk8mwPd",
        "colab_type": "code",
        "colab": {}
      },
      "source": [
        "import torch.nn as nn\n",
        "import torch.nn.functional as F\n",
        "\n",
        "\n",
        "class Net(nn.Module):\n",
        "    def __init__(self):\n",
        "        super(Net, self).__init__()\n",
        "        self.conv1 = nn.Conv2d(3, 6, 5)\n",
        "        self.pool = nn.MaxPool2d(2, 2)\n",
        "        self.conv2 = nn.Conv2d(6, 16, 5)\n",
        "        self.fc1 = nn.Linear(16 * 5 * 5, 120)\n",
        "        self.fc2 = nn.Linear(120, 84)\n",
        "        self.fc3 = nn.Linear(84, 10)\n",
        "\n",
        "    def forward(self, x):\n",
        "        x = self.pool(F.relu(self.conv1(x)))\n",
        "        x = self.pool(F.relu(self.conv2(x)))\n",
        "        x = x.view(-1, 16 * 5 * 5)\n",
        "        x = F.relu(self.fc1(x))\n",
        "        x = F.relu(self.fc2(x))\n",
        "        x = self.fc3(x)\n",
        "        return x\n",
        "\n",
        "\n",
        "net = Net()"
      ],
      "execution_count": 0,
      "outputs": []
    },
    {
      "cell_type": "markdown",
      "metadata": {
        "id": "Wi7kBwBQmwPf",
        "colab_type": "text"
      },
      "source": [
        "## 3- Define a Loss function and optimizer\n",
        "\n",
        "\n",
        "Let's use a Classification Cross-Entropy loss and SGD with momentum.\n",
        "\n"
      ]
    },
    {
      "cell_type": "code",
      "metadata": {
        "id": "L5OT6LRmmwPf",
        "colab_type": "code",
        "colab": {}
      },
      "source": [
        "import torch.optim as optim\n",
        "\n",
        "criterion = nn.CrossEntropyLoss()\n",
        "optimizer = optim.SGD(net.parameters(), lr=0.001, momentum=0.9)"
      ],
      "execution_count": 0,
      "outputs": []
    },
    {
      "cell_type": "markdown",
      "metadata": {
        "id": "esXyBObZmwPh",
        "colab_type": "text"
      },
      "source": [
        "## 4- Train the network\n",
        "\n",
        "\n",
        "\n",
        "This is when things start to get interesting.\n",
        "We simply have to loop over our data iterator, and feed the inputs to the\n",
        "network and optimize.\n",
        "\n"
      ]
    },
    {
      "cell_type": "markdown",
      "metadata": {
        "id": "PQ1w4chdwsr4",
        "colab_type": "text"
      },
      "source": [
        "### Question: code the training of the network. Use the autograd mechanism and the optimizer.\n",
        "Coompute the running loss, i.e., i.e. the average of the loss over N=2000 mini-batches processes."
      ]
    },
    {
      "cell_type": "code",
      "metadata": {
        "id": "kSVsCRB8mwPi",
        "colab_type": "code",
        "outputId": "74256dbb-a42f-4029-ff53-b6c07e200413",
        "colab": {
          "base_uri": "https://localhost:8080/",
          "height": 1000
        }
      },
      "source": [
        "%%time\n",
        "\n",
        "for epoch in range(10):  # loop over the dataset multiple times\n",
        "\n",
        "    running_loss = 0.0\n",
        "    for i, data in enumerate(trainloader, 0):\n",
        "        # get the inputs; data is a list of [inputs, labels]\n",
        "        inputs, labels = data\n",
        "\n",
        "        # COMPLETE THE CELL FROM HERE\n",
        "        # ...\n",
        "        # zero the parameter gradients\n",
        "        optimizer.zero_grad()\n",
        "\n",
        "        # forward + backward + optimize\n",
        "        outputs = net(inputs)                 # calculate y\n",
        "        loss = criterion(outputs, labels)     # calculate the loss\n",
        "        loss.backward()                       # update the gradient\n",
        "        optimizer.step()                      # SGD to find the optimal parameters\n",
        "\n",
        "        # print statistics\n",
        "        running_loss += loss.item()\n",
        "        if i % 2000 == 1999:    # print every 2000 mini-batches\n",
        "            print('[%d, %5d] loss: %.3f' %\n",
        "                  (epoch + 1, i + 1, running_loss / 2000))\n",
        "            running_loss = 0.0\n",
        "\n",
        "print('Finished Training')"
      ],
      "execution_count": 14,
      "outputs": [
        {
          "output_type": "stream",
          "text": [
            "[1,  2000] loss: 2.181\n",
            "[1,  4000] loss: 1.801\n",
            "[1,  6000] loss: 1.622\n",
            "[1,  8000] loss: 1.554\n",
            "[1, 10000] loss: 1.495\n",
            "[1, 12000] loss: 1.445\n",
            "[2,  2000] loss: 1.358\n",
            "[2,  4000] loss: 1.372\n",
            "[2,  6000] loss: 1.321\n",
            "[2,  8000] loss: 1.309\n",
            "[2, 10000] loss: 1.281\n",
            "[2, 12000] loss: 1.254\n",
            "[3,  2000] loss: 1.194\n",
            "[3,  4000] loss: 1.196\n",
            "[3,  6000] loss: 1.184\n",
            "[3,  8000] loss: 1.179\n",
            "[3, 10000] loss: 1.181\n",
            "[3, 12000] loss: 1.153\n",
            "[4,  2000] loss: 1.092\n",
            "[4,  4000] loss: 1.098\n",
            "[4,  6000] loss: 1.084\n",
            "[4,  8000] loss: 1.072\n",
            "[4, 10000] loss: 1.083\n",
            "[4, 12000] loss: 1.103\n",
            "[5,  2000] loss: 1.007\n",
            "[5,  4000] loss: 1.032\n",
            "[5,  6000] loss: 1.021\n",
            "[5,  8000] loss: 1.019\n",
            "[5, 10000] loss: 1.024\n",
            "[5, 12000] loss: 1.051\n",
            "[6,  2000] loss: 0.948\n",
            "[6,  4000] loss: 0.972\n",
            "[6,  6000] loss: 0.967\n",
            "[6,  8000] loss: 0.966\n",
            "[6, 10000] loss: 0.972\n",
            "[6, 12000] loss: 0.992\n",
            "[7,  2000] loss: 0.882\n",
            "[7,  4000] loss: 0.917\n",
            "[7,  6000] loss: 0.924\n",
            "[7,  8000] loss: 0.935\n",
            "[7, 10000] loss: 0.950\n",
            "[7, 12000] loss: 0.932\n",
            "[8,  2000] loss: 0.850\n",
            "[8,  4000] loss: 0.865\n",
            "[8,  6000] loss: 0.894\n",
            "[8,  8000] loss: 0.898\n",
            "[8, 10000] loss: 0.893\n",
            "[8, 12000] loss: 0.906\n",
            "[9,  2000] loss: 0.821\n",
            "[9,  4000] loss: 0.834\n",
            "[9,  6000] loss: 0.849\n",
            "[9,  8000] loss: 0.862\n",
            "[9, 10000] loss: 0.873\n",
            "[9, 12000] loss: 0.865\n",
            "[10,  2000] loss: 0.773\n",
            "[10,  4000] loss: 0.798\n",
            "[10,  6000] loss: 0.823\n",
            "[10,  8000] loss: 0.827\n",
            "[10, 10000] loss: 0.848\n",
            "[10, 12000] loss: 0.866\n",
            "Finished Training\n",
            "CPU times: user 8min 59s, sys: 1min 3s, total: 10min 2s\n",
            "Wall time: 12min 5s\n"
          ],
          "name": "stdout"
        }
      ]
    },
    {
      "cell_type": "markdown",
      "metadata": {
        "id": "gBrU407tmwPj",
        "colab_type": "text"
      },
      "source": [
        "## 5- Test the network on the test data\n",
        "\n",
        "\n",
        "\n",
        "We have trained the network for 2 passes over the training dataset.\n",
        "But we need to check if the network has learnt anything at all.\n",
        "\n",
        "We will check this by predicting the class label that the neural network\n",
        "outputs, and checking it against the ground-truth. If the prediction is\n",
        "correct, we add the sample to the list of correct predictions.\n",
        "\n",
        "Okay, first step. Let us display an image from the test set to get familiar.\n",
        "\n"
      ]
    },
    {
      "cell_type": "code",
      "metadata": {
        "id": "JgiIuVnamwPk",
        "colab_type": "code",
        "outputId": "9e121df2-253d-418b-c6c6-3b0391271246",
        "colab": {
          "base_uri": "https://localhost:8080/",
          "height": 155
        }
      },
      "source": [
        "dataiter = iter(testloader)\n",
        "images, labels = dataiter.next()\n",
        "\n",
        "# print images\n",
        "imshow(torchvision.utils.make_grid(images))\n",
        "print('GroundTruth: ', ' '.join('%5s' % classes[labels[j]] for j in range(4)))"
      ],
      "execution_count": 21,
      "outputs": [
        {
          "output_type": "display_data",
          "data": {
            "image/png": "[encoded data removed]",
            "text/plain": [
              "<Figure size 432x288 with 1 Axes>"
            ]
          },
          "metadata": {
            "tags": []
          }
        },
        {
          "output_type": "stream",
          "text": [
            "GroundTruth:    cat  ship  ship plane\n"
          ],
          "name": "stdout"
        }
      ]
    },
    {
      "cell_type": "markdown",
      "metadata": {
        "id": "S_bykMMbmwPm",
        "colab_type": "text"
      },
      "source": [
        "Okay, now let us see what the neural network thinks these examples above are:\n",
        "\n"
      ]
    },
    {
      "cell_type": "code",
      "metadata": {
        "id": "N-YZvLwVmwPm",
        "colab_type": "code",
        "outputId": "8c35ad5b-3d72-467e-d621-4d58b77e0200",
        "colab": {
          "base_uri": "https://localhost:8080/",
          "height": 170
        }
      },
      "source": [
        "outputs = net(images)\n",
        "print(outputs)"
      ],
      "execution_count": 22,
      "outputs": [
        {
          "output_type": "stream",
          "text": [
            "tensor([[-1.0904e+00, -2.5723e-01, -3.7854e-01,  2.6950e+00,  2.7574e-02,\n",
            "          1.2591e+00,  6.8203e-01, -1.3431e+00,  3.1286e-01,  3.0401e-01],\n",
            "        [ 6.1877e+00,  7.4024e+00, -2.0538e+00, -3.5506e+00, -3.9680e+00,\n",
            "         -7.5017e+00, -2.5326e+00, -6.0279e+00,  9.9680e+00,  4.7458e+00],\n",
            "        [ 1.1612e+00,  1.6480e+00, -6.5931e-01, -3.1070e-03, -1.2446e+00,\n",
            "         -6.5661e-01, -1.5661e+00, -1.2984e+00,  8.7526e-01,  1.9387e+00],\n",
            "        [ 5.7090e+00,  9.3949e-01, -5.0404e-01, -2.7772e+00,  1.4891e+00,\n",
            "         -3.7459e+00, -3.7632e+00, -6.3997e-01,  7.6986e-01,  1.8541e+00]],\n",
            "       grad_fn=<AddmmBackward>)\n"
          ],
          "name": "stdout"
        }
      ]
    },
    {
      "cell_type": "markdown",
      "metadata": {
        "id": "d5I85BB3mwPo",
        "colab_type": "text"
      },
      "source": [
        "The outputs are energies for the 10 classes.\n",
        "The higher the energy for a class, the more the network\n",
        "thinks that the image is of the particular class.\n",
        "So, let's get the index of the highest energy:\n",
        "\n"
      ]
    },
    {
      "cell_type": "markdown",
      "metadata": {
        "id": "LETtlXhsxPpZ",
        "colab_type": "text"
      },
      "source": [
        "### Question: give the decision for all the images in the code cell above. The decision should be a label belonging to the object \"classes\""
      ]
    },
    {
      "cell_type": "code",
      "metadata": {
        "id": "DLlWRQqDmwPp",
        "colab_type": "code",
        "outputId": "68417031-e12c-403b-d712-b2ffc6550994",
        "colab": {
          "base_uri": "https://localhost:8080/",
          "height": 34
        }
      },
      "source": [
        "# COMPLETE THE CELL FROM HERE\n",
        "# ...\n",
        "_, predicted = torch.max(outputs, 1)\n",
        "\n",
        "print('Predicted: ', ' '.join('%5s' % classes[predicted[j]]\n",
        "                              for j in range(4)))"
      ],
      "execution_count": 23,
      "outputs": [
        {
          "output_type": "stream",
          "text": [
            "Predicted:    cat  ship truck plane\n"
          ],
          "name": "stdout"
        }
      ]
    },
    {
      "cell_type": "code",
      "metadata": {
        "id": "4ztDG5tqx0P0",
        "colab_type": "code",
        "outputId": "5814b34d-a08a-4353-fc62-63d667774fb0",
        "colab": {
          "base_uri": "https://localhost:8080/",
          "height": 187
        }
      },
      "source": [
        "classes"
      ],
      "execution_count": 24,
      "outputs": [
        {
          "output_type": "execute_result",
          "data": {
            "text/plain": [
              "('plane',\n",
              " 'car',\n",
              " 'bird',\n",
              " 'cat',\n",
              " 'deer',\n",
              " 'dog',\n",
              " 'frog',\n",
              " 'horse',\n",
              " 'ship',\n",
              " 'truck')"
            ]
          },
          "metadata": {
            "tags": []
          },
          "execution_count": 24
        }
      ]
    },
    {
      "cell_type": "markdown",
      "metadata": {
        "id": "KSLIcznFmwPq",
        "colab_type": "text"
      },
      "source": [
        "The results seem pretty good.\n",
        "\n",
        "Let us look at how the network performs on the whole dataset.\n",
        "\n"
      ]
    },
    {
      "cell_type": "markdown",
      "metadata": {
        "id": "lk52bUGOx5GB",
        "colab_type": "text"
      },
      "source": [
        "### Question: compute the average accuracy over all the testset"
      ]
    },
    {
      "cell_type": "code",
      "metadata": {
        "id": "kbk8PG89mwPr",
        "colab_type": "code",
        "outputId": "bad22ba6-cc54-48bc-f5a7-3234f235b52c",
        "colab": {
          "base_uri": "https://localhost:8080/",
          "height": 34
        }
      },
      "source": [
        "correct = 0\n",
        "total = 0\n",
        "with torch.no_grad():\n",
        "    for data in testloader:\n",
        "        images, labels = data\n",
        "        outputs = net(images)\n",
        "        # COMPLETE THE CELL FROM HERE\n",
        "        # ...\n",
        "        _, predicted = torch.max(outputs.data, 1)\n",
        "        total += labels.size(0)\n",
        "        correct += (predicted == labels).sum().item()\n",
        "\n",
        "print('Accuracy of the network on the 10000 test images: %d %%' % (\n",
        "    100 * correct / total))"
      ],
      "execution_count": 25,
      "outputs": [
        {
          "output_type": "stream",
          "text": [
            "Accuracy of the network on the 10000 test images: 62 %\n"
          ],
          "name": "stdout"
        }
      ]
    },
    {
      "cell_type": "markdown",
      "metadata": {
        "id": "RP083W6ZmwPs",
        "colab_type": "text"
      },
      "source": [
        "That looks way better than chance, which is 10% accuracy (randomly picking\n",
        "a class out of 10 classes).\n",
        "Seems like the network learnt something.\n",
        "\n",
        "What are the classes that performed well, and the classes that did\n",
        "not perform well\n",
        "\n",
        "\n"
      ]
    },
    {
      "cell_type": "markdown",
      "metadata": {
        "id": "NHdyJ2Q5swe8",
        "colab_type": "text"
      },
      "source": [
        "### Question: Compute the average accuracy per class (there are 10 classes)"
      ]
    },
    {
      "cell_type": "code",
      "metadata": {
        "id": "5iKkeOUvmwPs",
        "colab_type": "code",
        "outputId": "9834b395-7918-4298-e7ed-738aa7f8b879",
        "colab": {
          "base_uri": "https://localhost:8080/",
          "height": 187
        }
      },
      "source": [
        "class_correct = list(0. for i in range(10))\n",
        "class_total = list(0. for i in range(10))\n",
        "with torch.no_grad():\n",
        "    for data in testloader:\n",
        "        images, labels = data\n",
        "        outputs = net(images)\n",
        "        # COMPLETE THE CELL FROM HERE\n",
        "        # ...\n",
        "        _, predicted = torch.max(outputs, 1)\n",
        "        c = (predicted == labels).squeeze()\n",
        "        for i in range(4):\n",
        "            label = labels[i]\n",
        "            class_correct[label] += c[i].item()\n",
        "            class_total[label] += 1\n",
        "\n",
        "for i in range(10):\n",
        "    print('Accuracy of %5s : %2d %%' % (\n",
        "        classes[i], 100 * class_correct[i] / class_total[i]))"
      ],
      "execution_count": 26,
      "outputs": [
        {
          "output_type": "stream",
          "text": [
            "Accuracy of plane : 68 %\n",
            "Accuracy of   car : 74 %\n",
            "Accuracy of  bird : 53 %\n",
            "Accuracy of   cat : 43 %\n",
            "Accuracy of  deer : 50 %\n",
            "Accuracy of   dog : 35 %\n",
            "Accuracy of  frog : 77 %\n",
            "Accuracy of horse : 72 %\n",
            "Accuracy of  ship : 76 %\n",
            "Accuracy of truck : 70 %\n"
          ],
          "name": "stdout"
        }
      ]
    }
  ]
}