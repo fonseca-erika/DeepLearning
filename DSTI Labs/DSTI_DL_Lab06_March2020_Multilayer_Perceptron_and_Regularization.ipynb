{
  "nbformat": 4,
  "nbformat_minor": 0,
  "metadata": {
    "kernelspec": {
      "name": "python3",
      "display_name": "Python 3"
    },
    "language_info": {
      "codemirror_mode": {
        "name": "ipython",
        "version": 3
      },
      "file_extension": ".py",
      "mimetype": "text/x-python",
      "name": "python",
      "nbconvert_exporter": "python",
      "pygments_lexer": "ipython3",
      "version": "3.5.2"
    },
    "colab": {
      "name": "DSTI_DL_Lab06_March2020_Multilayer_Perceptron and Regularization.ipynb",
      "provenance": [],
      "collapsed_sections": [],
      "toc_visible": true
    },
    "accelerator": "GPU",
    "widgets": {
      "application/vnd.jupyter.widget-state+json": {
        "bff64ec545eb470586df98bd02287f3f": {
          "model_module": "@jupyter-widgets/controls",
          "model_name": "HBoxModel",
          "state": {
            "_view_name": "HBoxView",
            "_dom_classes": [],
            "_model_name": "HBoxModel",
            "_view_module": "@jupyter-widgets/controls",
            "_model_module_version": "1.5.0",
            "_view_count": null,
            "_view_module_version": "1.5.0",
            "box_style": "",
            "layout": "IPY_MODEL_9faf13c67fff4c13b98cab5d70361500",
            "_model_module": "@jupyter-widgets/controls",
            "children": [
              "IPY_MODEL_bf9a8fbbbd374bf5908e88a824fc4409",
              "IPY_MODEL_db99329a9c0f4d099d44858bf22af6f1"
            ]
          }
        },
        "9faf13c67fff4c13b98cab5d70361500": {
          "model_module": "@jupyter-widgets/base",
          "model_name": "LayoutModel",
          "state": {
            "_view_name": "LayoutView",
            "grid_template_rows": null,
            "right": null,
            "justify_content": null,
            "_view_module": "@jupyter-widgets/base",
            "overflow": null,
            "_model_module_version": "1.2.0",
            "_view_count": null,
            "flex_flow": null,
            "width": null,
            "min_width": null,
            "border": null,
            "align_items": null,
            "bottom": null,
            "_model_module": "@jupyter-widgets/base",
            "top": null,
            "grid_column": null,
            "overflow_y": null,
            "overflow_x": null,
            "grid_auto_flow": null,
            "grid_area": null,
            "grid_template_columns": null,
            "flex": null,
            "_model_name": "LayoutModel",
            "justify_items": null,
            "grid_row": null,
            "max_height": null,
            "align_content": null,
            "visibility": null,
            "align_self": null,
            "height": null,
            "min_height": null,
            "padding": null,
            "grid_auto_rows": null,
            "grid_gap": null,
            "max_width": null,
            "order": null,
            "_view_module_version": "1.2.0",
            "grid_template_areas": null,
            "object_position": null,
            "object_fit": null,
            "grid_auto_columns": null,
            "margin": null,
            "display": null,
            "left": null
          }
        },
        "bf9a8fbbbd374bf5908e88a824fc4409": {
          "model_module": "@jupyter-widgets/controls",
          "model_name": "IntProgressModel",
          "state": {
            "_view_name": "ProgressView",
            "style": "IPY_MODEL_fa58b6a4addc4e2aa6ae20dd40207598",
            "_dom_classes": [],
            "description": "",
            "_model_name": "IntProgressModel",
            "bar_style": "success",
            "max": 1,
            "_view_module": "@jupyter-widgets/controls",
            "_model_module_version": "1.5.0",
            "value": 1,
            "_view_count": null,
            "_view_module_version": "1.5.0",
            "orientation": "horizontal",
            "min": 0,
            "description_tooltip": null,
            "_model_module": "@jupyter-widgets/controls",
            "layout": "IPY_MODEL_589a25883893440d94b940646bc075e1"
          }
        },
        "db99329a9c0f4d099d44858bf22af6f1": {
          "model_module": "@jupyter-widgets/controls",
          "model_name": "HTMLModel",
          "state": {
            "_view_name": "HTMLView",
            "style": "IPY_MODEL_02e6c15b86704ad9938be5aa90005b41",
            "_dom_classes": [],
            "description": "",
            "_model_name": "HTMLModel",
            "placeholder": "​",
            "_view_module": "@jupyter-widgets/controls",
            "_model_module_version": "1.5.0",
            "value": " 9920512/? [00:06&lt;00:00, 1427847.93it/s]",
            "_view_count": null,
            "_view_module_version": "1.5.0",
            "description_tooltip": null,
            "_model_module": "@jupyter-widgets/controls",
            "layout": "IPY_MODEL_d01d0f4cda584cac86cf6e427476fe12"
          }
        },
        "fa58b6a4addc4e2aa6ae20dd40207598": {
          "model_module": "@jupyter-widgets/controls",
          "model_name": "ProgressStyleModel",
          "state": {
            "_view_name": "StyleView",
            "_model_name": "ProgressStyleModel",
            "description_width": "initial",
            "_view_module": "@jupyter-widgets/base",
            "_model_module_version": "1.5.0",
            "_view_count": null,
            "_view_module_version": "1.2.0",
            "bar_color": null,
            "_model_module": "@jupyter-widgets/controls"
          }
        },
        "589a25883893440d94b940646bc075e1": {
          "model_module": "@jupyter-widgets/base",
          "model_name": "LayoutModel",
          "state": {
            "_view_name": "LayoutView",
            "grid_template_rows": null,
            "right": null,
            "justify_content": null,
            "_view_module": "@jupyter-widgets/base",
            "overflow": null,
            "_model_module_version": "1.2.0",
            "_view_count": null,
            "flex_flow": null,
            "width": null,
            "min_width": null,
            "border": null,
            "align_items": null,
            "bottom": null,
            "_model_module": "@jupyter-widgets/base",
            "top": null,
            "grid_column": null,
            "overflow_y": null,
            "overflow_x": null,
            "grid_auto_flow": null,
            "grid_area": null,
            "grid_template_columns": null,
            "flex": null,
            "_model_name": "LayoutModel",
            "justify_items": null,
            "grid_row": null,
            "max_height": null,
            "align_content": null,
            "visibility": null,
            "align_self": null,
            "height": null,
            "min_height": null,
            "padding": null,
            "grid_auto_rows": null,
            "grid_gap": null,
            "max_width": null,
            "order": null,
            "_view_module_version": "1.2.0",
            "grid_template_areas": null,
            "object_position": null,
            "object_fit": null,
            "grid_auto_columns": null,
            "margin": null,
            "display": null,
            "left": null
          }
        },
        "02e6c15b86704ad9938be5aa90005b41": {
          "model_module": "@jupyter-widgets/controls",
          "model_name": "DescriptionStyleModel",
          "state": {
            "_view_name": "StyleView",
            "_model_name": "DescriptionStyleModel",
            "description_width": "",
            "_view_module": "@jupyter-widgets/base",
            "_model_module_version": "1.5.0",
            "_view_count": null,
            "_view_module_version": "1.2.0",
            "_model_module": "@jupyter-widgets/controls"
          }
        },
        "d01d0f4cda584cac86cf6e427476fe12": {
          "model_module": "@jupyter-widgets/base",
          "model_name": "LayoutModel",
          "state": {
            "_view_name": "LayoutView",
            "grid_template_rows": null,
            "right": null,
            "justify_content": null,
            "_view_module": "@jupyter-widgets/base",
            "overflow": null,
            "_model_module_version": "1.2.0",
            "_view_count": null,
            "flex_flow": null,
            "width": null,
            "min_width": null,
            "border": null,
            "align_items": null,
            "bottom": null,
            "_model_module": "@jupyter-widgets/base",
            "top": null,
            "grid_column": null,
            "overflow_y": null,
            "overflow_x": null,
            "grid_auto_flow": null,
            "grid_area": null,
            "grid_template_columns": null,
            "flex": null,
            "_model_name": "LayoutModel",
            "justify_items": null,
            "grid_row": null,
            "max_height": null,
            "align_content": null,
            "visibility": null,
            "align_self": null,
            "height": null,
            "min_height": null,
            "padding": null,
            "grid_auto_rows": null,
            "grid_gap": null,
            "max_width": null,
            "order": null,
            "_view_module_version": "1.2.0",
            "grid_template_areas": null,
            "object_position": null,
            "object_fit": null,
            "grid_auto_columns": null,
            "margin": null,
            "display": null,
            "left": null
          }
        },
        "b31651d6c3ad4f4b83f6a030812c7ef8": {
          "model_module": "@jupyter-widgets/controls",
          "model_name": "HBoxModel",
          "state": {
            "_view_name": "HBoxView",
            "_dom_classes": [],
            "_model_name": "HBoxModel",
            "_view_module": "@jupyter-widgets/controls",
            "_model_module_version": "1.5.0",
            "_view_count": null,
            "_view_module_version": "1.5.0",
            "box_style": "",
            "layout": "IPY_MODEL_bc467a98395746da8b12a55b69756eaa",
            "_model_module": "@jupyter-widgets/controls",
            "children": [
              "IPY_MODEL_256b828f2d3a47de94281ecaa79ee00e",
              "IPY_MODEL_551f31deeba54310859617827567d0fc"
            ]
          }
        },
        "bc467a98395746da8b12a55b69756eaa": {
          "model_module": "@jupyter-widgets/base",
          "model_name": "LayoutModel",
          "state": {
            "_view_name": "LayoutView",
            "grid_template_rows": null,
            "right": null,
            "justify_content": null,
            "_view_module": "@jupyter-widgets/base",
            "overflow": null,
            "_model_module_version": "1.2.0",
            "_view_count": null,
            "flex_flow": null,
            "width": null,
            "min_width": null,
            "border": null,
            "align_items": null,
            "bottom": null,
            "_model_module": "@jupyter-widgets/base",
            "top": null,
            "grid_column": null,
            "overflow_y": null,
            "overflow_x": null,
            "grid_auto_flow": null,
            "grid_area": null,
            "grid_template_columns": null,
            "flex": null,
            "_model_name": "LayoutModel",
            "justify_items": null,
            "grid_row": null,
            "max_height": null,
            "align_content": null,
            "visibility": null,
            "align_self": null,
            "height": null,
            "min_height": null,
            "padding": null,
            "grid_auto_rows": null,
            "grid_gap": null,
            "max_width": null,
            "order": null,
            "_view_module_version": "1.2.0",
            "grid_template_areas": null,
            "object_position": null,
            "object_fit": null,
            "grid_auto_columns": null,
            "margin": null,
            "display": null,
            "left": null
          }
        },
        "256b828f2d3a47de94281ecaa79ee00e": {
          "model_module": "@jupyter-widgets/controls",
          "model_name": "IntProgressModel",
          "state": {
            "_view_name": "ProgressView",
            "style": "IPY_MODEL_345a56973ce6454899c7afced0af3cfa",
            "_dom_classes": [],
            "description": "",
            "_model_name": "IntProgressModel",
            "bar_style": "success",
            "max": 1,
            "_view_module": "@jupyter-widgets/controls",
            "_model_module_version": "1.5.0",
            "value": 1,
            "_view_count": null,
            "_view_module_version": "1.5.0",
            "orientation": "horizontal",
            "min": 0,
            "description_tooltip": null,
            "_model_module": "@jupyter-widgets/controls",
            "layout": "IPY_MODEL_79edc6b4eecb42db88f0a3bc91581527"
          }
        },
        "551f31deeba54310859617827567d0fc": {
          "model_module": "@jupyter-widgets/controls",
          "model_name": "HTMLModel",
          "state": {
            "_view_name": "HTMLView",
            "style": "IPY_MODEL_03a9d1e7ff904e14b60d6103ba4b26ca",
            "_dom_classes": [],
            "description": "",
            "_model_name": "HTMLModel",
            "placeholder": "​",
            "_view_module": "@jupyter-widgets/controls",
            "_model_module_version": "1.5.0",
            "value": " 32768/? [00:03&lt;00:00, 10539.22it/s]",
            "_view_count": null,
            "_view_module_version": "1.5.0",
            "description_tooltip": null,
            "_model_module": "@jupyter-widgets/controls",
            "layout": "IPY_MODEL_fd54f3bca887427c816783809f97c6e2"
          }
        },
        "345a56973ce6454899c7afced0af3cfa": {
          "model_module": "@jupyter-widgets/controls",
          "model_name": "ProgressStyleModel",
          "state": {
            "_view_name": "StyleView",
            "_model_name": "ProgressStyleModel",
            "description_width": "initial",
            "_view_module": "@jupyter-widgets/base",
            "_model_module_version": "1.5.0",
            "_view_count": null,
            "_view_module_version": "1.2.0",
            "bar_color": null,
            "_model_module": "@jupyter-widgets/controls"
          }
        },
        "79edc6b4eecb42db88f0a3bc91581527": {
          "model_module": "@jupyter-widgets/base",
          "model_name": "LayoutModel",
          "state": {
            "_view_name": "LayoutView",
            "grid_template_rows": null,
            "right": null,
            "justify_content": null,
            "_view_module": "@jupyter-widgets/base",
            "overflow": null,
            "_model_module_version": "1.2.0",
            "_view_count": null,
            "flex_flow": null,
            "width": null,
            "min_width": null,
            "border": null,
            "align_items": null,
            "bottom": null,
            "_model_module": "@jupyter-widgets/base",
            "top": null,
            "grid_column": null,
            "overflow_y": null,
            "overflow_x": null,
            "grid_auto_flow": null,
            "grid_area": null,
            "grid_template_columns": null,
            "flex": null,
            "_model_name": "LayoutModel",
            "justify_items": null,
            "grid_row": null,
            "max_height": null,
            "align_content": null,
            "visibility": null,
            "align_self": null,
            "height": null,
            "min_height": null,
            "padding": null,
            "grid_auto_rows": null,
            "grid_gap": null,
            "max_width": null,
            "order": null,
            "_view_module_version": "1.2.0",
            "grid_template_areas": null,
            "object_position": null,
            "object_fit": null,
            "grid_auto_columns": null,
            "margin": null,
            "display": null,
            "left": null
          }
        },
        "03a9d1e7ff904e14b60d6103ba4b26ca": {
          "model_module": "@jupyter-widgets/controls",
          "model_name": "DescriptionStyleModel",
          "state": {
            "_view_name": "StyleView",
            "_model_name": "DescriptionStyleModel",
            "description_width": "",
            "_view_module": "@jupyter-widgets/base",
            "_model_module_version": "1.5.0",
            "_view_count": null,
            "_view_module_version": "1.2.0",
            "_model_module": "@jupyter-widgets/controls"
          }
        },
        "fd54f3bca887427c816783809f97c6e2": {
          "model_module": "@jupyter-widgets/base",
          "model_name": "LayoutModel",
          "state": {
            "_view_name": "LayoutView",
            "grid_template_rows": null,
            "right": null,
            "justify_content": null,
            "_view_module": "@jupyter-widgets/base",
            "overflow": null,
            "_model_module_version": "1.2.0",
            "_view_count": null,
            "flex_flow": null,
            "width": null,
            "min_width": null,
            "border": null,
            "align_items": null,
            "bottom": null,
            "_model_module": "@jupyter-widgets/base",
            "top": null,
            "grid_column": null,
            "overflow_y": null,
            "overflow_x": null,
            "grid_auto_flow": null,
            "grid_area": null,
            "grid_template_columns": null,
            "flex": null,
            "_model_name": "LayoutModel",
            "justify_items": null,
            "grid_row": null,
            "max_height": null,
            "align_content": null,
            "visibility": null,
            "align_self": null,
            "height": null,
            "min_height": null,
            "padding": null,
            "grid_auto_rows": null,
            "grid_gap": null,
            "max_width": null,
            "order": null,
            "_view_module_version": "1.2.0",
            "grid_template_areas": null,
            "object_position": null,
            "object_fit": null,
            "grid_auto_columns": null,
            "margin": null,
            "display": null,
            "left": null
          }
        },
        "7a001225a1c54831a486fe81f0943dfa": {
          "model_module": "@jupyter-widgets/controls",
          "model_name": "HBoxModel",
          "state": {
            "_view_name": "HBoxView",
            "_dom_classes": [],
            "_model_name": "HBoxModel",
            "_view_module": "@jupyter-widgets/controls",
            "_model_module_version": "1.5.0",
            "_view_count": null,
            "_view_module_version": "1.5.0",
            "box_style": "",
            "layout": "IPY_MODEL_0d8183f1116e4d72a482cafc1cafa93a",
            "_model_module": "@jupyter-widgets/controls",
            "children": [
              "IPY_MODEL_38325fb49cbe40c1bca5e805f8a6e648",
              "IPY_MODEL_619d9357824a4161bcb3c74a8c00a216"
            ]
          }
        },
        "0d8183f1116e4d72a482cafc1cafa93a": {
          "model_module": "@jupyter-widgets/base",
          "model_name": "LayoutModel",
          "state": {
            "_view_name": "LayoutView",
            "grid_template_rows": null,
            "right": null,
            "justify_content": null,
            "_view_module": "@jupyter-widgets/base",
            "overflow": null,
            "_model_module_version": "1.2.0",
            "_view_count": null,
            "flex_flow": null,
            "width": null,
            "min_width": null,
            "border": null,
            "align_items": null,
            "bottom": null,
            "_model_module": "@jupyter-widgets/base",
            "top": null,
            "grid_column": null,
            "overflow_y": null,
            "overflow_x": null,
            "grid_auto_flow": null,
            "grid_area": null,
            "grid_template_columns": null,
            "flex": null,
            "_model_name": "LayoutModel",
            "justify_items": null,
            "grid_row": null,
            "max_height": null,
            "align_content": null,
            "visibility": null,
            "align_self": null,
            "height": null,
            "min_height": null,
            "padding": null,
            "grid_auto_rows": null,
            "grid_gap": null,
            "max_width": null,
            "order": null,
            "_view_module_version": "1.2.0",
            "grid_template_areas": null,
            "object_position": null,
            "object_fit": null,
            "grid_auto_columns": null,
            "margin": null,
            "display": null,
            "left": null
          }
        },
        "38325fb49cbe40c1bca5e805f8a6e648": {
          "model_module": "@jupyter-widgets/controls",
          "model_name": "IntProgressModel",
          "state": {
            "_view_name": "ProgressView",
            "style": "IPY_MODEL_fca9fd96d6da48969018f05404991453",
            "_dom_classes": [],
            "description": "",
            "_model_name": "IntProgressModel",
            "bar_style": "success",
            "max": 1,
            "_view_module": "@jupyter-widgets/controls",
            "_model_module_version": "1.5.0",
            "value": 1,
            "_view_count": null,
            "_view_module_version": "1.5.0",
            "orientation": "horizontal",
            "min": 0,
            "description_tooltip": null,
            "_model_module": "@jupyter-widgets/controls",
            "layout": "IPY_MODEL_f21ec3ce4e2c456ca03ec1f2a73f5b15"
          }
        },
        "619d9357824a4161bcb3c74a8c00a216": {
          "model_module": "@jupyter-widgets/controls",
          "model_name": "HTMLModel",
          "state": {
            "_view_name": "HTMLView",
            "style": "IPY_MODEL_bbf8533408f34be8bb6f5621541f512e",
            "_dom_classes": [],
            "description": "",
            "_model_name": "HTMLModel",
            "placeholder": "​",
            "_view_module": "@jupyter-widgets/controls",
            "_model_module_version": "1.5.0",
            "value": " 1654784/? [00:02&lt;00:00, 689365.52it/s]",
            "_view_count": null,
            "_view_module_version": "1.5.0",
            "description_tooltip": null,
            "_model_module": "@jupyter-widgets/controls",
            "layout": "IPY_MODEL_8d2f16f437324557879dd818053c9b40"
          }
        },
        "fca9fd96d6da48969018f05404991453": {
          "model_module": "@jupyter-widgets/controls",
          "model_name": "ProgressStyleModel",
          "state": {
            "_view_name": "StyleView",
            "_model_name": "ProgressStyleModel",
            "description_width": "initial",
            "_view_module": "@jupyter-widgets/base",
            "_model_module_version": "1.5.0",
            "_view_count": null,
            "_view_module_version": "1.2.0",
            "bar_color": null,
            "_model_module": "@jupyter-widgets/controls"
          }
        },
        "f21ec3ce4e2c456ca03ec1f2a73f5b15": {
          "model_module": "@jupyter-widgets/base",
          "model_name": "LayoutModel",
          "state": {
            "_view_name": "LayoutView",
            "grid_template_rows": null,
            "right": null,
            "justify_content": null,
            "_view_module": "@jupyter-widgets/base",
            "overflow": null,
            "_model_module_version": "1.2.0",
            "_view_count": null,
            "flex_flow": null,
            "width": null,
            "min_width": null,
            "border": null,
            "align_items": null,
            "bottom": null,
            "_model_module": "@jupyter-widgets/base",
            "top": null,
            "grid_column": null,
            "overflow_y": null,
            "overflow_x": null,
            "grid_auto_flow": null,
            "grid_area": null,
            "grid_template_columns": null,
            "flex": null,
            "_model_name": "LayoutModel",
            "justify_items": null,
            "grid_row": null,
            "max_height": null,
            "align_content": null,
            "visibility": null,
            "align_self": null,
            "height": null,
            "min_height": null,
            "padding": null,
            "grid_auto_rows": null,
            "grid_gap": null,
            "max_width": null,
            "order": null,
            "_view_module_version": "1.2.0",
            "grid_template_areas": null,
            "object_position": null,
            "object_fit": null,
            "grid_auto_columns": null,
            "margin": null,
            "display": null,
            "left": null
          }
        },
        "bbf8533408f34be8bb6f5621541f512e": {
          "model_module": "@jupyter-widgets/controls",
          "model_name": "DescriptionStyleModel",
          "state": {
            "_view_name": "StyleView",
            "_model_name": "DescriptionStyleModel",
            "description_width": "",
            "_view_module": "@jupyter-widgets/base",
            "_model_module_version": "1.5.0",
            "_view_count": null,
            "_view_module_version": "1.2.0",
            "_model_module": "@jupyter-widgets/controls"
          }
        },
        "8d2f16f437324557879dd818053c9b40": {
          "model_module": "@jupyter-widgets/base",
          "model_name": "LayoutModel",
          "state": {
            "_view_name": "LayoutView",
            "grid_template_rows": null,
            "right": null,
            "justify_content": null,
            "_view_module": "@jupyter-widgets/base",
            "overflow": null,
            "_model_module_version": "1.2.0",
            "_view_count": null,
            "flex_flow": null,
            "width": null,
            "min_width": null,
            "border": null,
            "align_items": null,
            "bottom": null,
            "_model_module": "@jupyter-widgets/base",
            "top": null,
            "grid_column": null,
            "overflow_y": null,
            "overflow_x": null,
            "grid_auto_flow": null,
            "grid_area": null,
            "grid_template_columns": null,
            "flex": null,
            "_model_name": "LayoutModel",
            "justify_items": null,
            "grid_row": null,
            "max_height": null,
            "align_content": null,
            "visibility": null,
            "align_self": null,
            "height": null,
            "min_height": null,
            "padding": null,
            "grid_auto_rows": null,
            "grid_gap": null,
            "max_width": null,
            "order": null,
            "_view_module_version": "1.2.0",
            "grid_template_areas": null,
            "object_position": null,
            "object_fit": null,
            "grid_auto_columns": null,
            "margin": null,
            "display": null,
            "left": null
          }
        },
        "4fe28d6b03c549b39d97f71762d668e0": {
          "model_module": "@jupyter-widgets/controls",
          "model_name": "HBoxModel",
          "state": {
            "_view_name": "HBoxView",
            "_dom_classes": [],
            "_model_name": "HBoxModel",
            "_view_module": "@jupyter-widgets/controls",
            "_model_module_version": "1.5.0",
            "_view_count": null,
            "_view_module_version": "1.5.0",
            "box_style": "",
            "layout": "IPY_MODEL_2c6b2653bc4c4d0c9a3a72557b9abee9",
            "_model_module": "@jupyter-widgets/controls",
            "children": [
              "IPY_MODEL_55fbd417f7a6482cbcdbb85f4ea614d7",
              "IPY_MODEL_94e6832a60b94bf1b94495f94ab295e0"
            ]
          }
        },
        "2c6b2653bc4c4d0c9a3a72557b9abee9": {
          "model_module": "@jupyter-widgets/base",
          "model_name": "LayoutModel",
          "state": {
            "_view_name": "LayoutView",
            "grid_template_rows": null,
            "right": null,
            "justify_content": null,
            "_view_module": "@jupyter-widgets/base",
            "overflow": null,
            "_model_module_version": "1.2.0",
            "_view_count": null,
            "flex_flow": null,
            "width": null,
            "min_width": null,
            "border": null,
            "align_items": null,
            "bottom": null,
            "_model_module": "@jupyter-widgets/base",
            "top": null,
            "grid_column": null,
            "overflow_y": null,
            "overflow_x": null,
            "grid_auto_flow": null,
            "grid_area": null,
            "grid_template_columns": null,
            "flex": null,
            "_model_name": "LayoutModel",
            "justify_items": null,
            "grid_row": null,
            "max_height": null,
            "align_content": null,
            "visibility": null,
            "align_self": null,
            "height": null,
            "min_height": null,
            "padding": null,
            "grid_auto_rows": null,
            "grid_gap": null,
            "max_width": null,
            "order": null,
            "_view_module_version": "1.2.0",
            "grid_template_areas": null,
            "object_position": null,
            "object_fit": null,
            "grid_auto_columns": null,
            "margin": null,
            "display": null,
            "left": null
          }
        },
        "55fbd417f7a6482cbcdbb85f4ea614d7": {
          "model_module": "@jupyter-widgets/controls",
          "model_name": "IntProgressModel",
          "state": {
            "_view_name": "ProgressView",
            "style": "IPY_MODEL_7ec030a7bd80471b8f180e70b9a8147a",
            "_dom_classes": [],
            "description": "",
            "_model_name": "IntProgressModel",
            "bar_style": "success",
            "max": 1,
            "_view_module": "@jupyter-widgets/controls",
            "_model_module_version": "1.5.0",
            "value": 1,
            "_view_count": null,
            "_view_module_version": "1.5.0",
            "orientation": "horizontal",
            "min": 0,
            "description_tooltip": null,
            "_model_module": "@jupyter-widgets/controls",
            "layout": "IPY_MODEL_b91c777f16114df3b84364789645c797"
          }
        },
        "94e6832a60b94bf1b94495f94ab295e0": {
          "model_module": "@jupyter-widgets/controls",
          "model_name": "HTMLModel",
          "state": {
            "_view_name": "HTMLView",
            "style": "IPY_MODEL_091924a7dd184485b1bab6f13d7a9907",
            "_dom_classes": [],
            "description": "",
            "_model_name": "HTMLModel",
            "placeholder": "​",
            "_view_module": "@jupyter-widgets/controls",
            "_model_module_version": "1.5.0",
            "value": " 8192/? [00:00&lt;00:00, 13811.04it/s]",
            "_view_count": null,
            "_view_module_version": "1.5.0",
            "description_tooltip": null,
            "_model_module": "@jupyter-widgets/controls",
            "layout": "IPY_MODEL_c3172dd9386146e88d5b2a8c9f50d37b"
          }
        },
        "7ec030a7bd80471b8f180e70b9a8147a": {
          "model_module": "@jupyter-widgets/controls",
          "model_name": "ProgressStyleModel",
          "state": {
            "_view_name": "StyleView",
            "_model_name": "ProgressStyleModel",
            "description_width": "initial",
            "_view_module": "@jupyter-widgets/base",
            "_model_module_version": "1.5.0",
            "_view_count": null,
            "_view_module_version": "1.2.0",
            "bar_color": null,
            "_model_module": "@jupyter-widgets/controls"
          }
        },
        "b91c777f16114df3b84364789645c797": {
          "model_module": "@jupyter-widgets/base",
          "model_name": "LayoutModel",
          "state": {
            "_view_name": "LayoutView",
            "grid_template_rows": null,
            "right": null,
            "justify_content": null,
            "_view_module": "@jupyter-widgets/base",
            "overflow": null,
            "_model_module_version": "1.2.0",
            "_view_count": null,
            "flex_flow": null,
            "width": null,
            "min_width": null,
            "border": null,
            "align_items": null,
            "bottom": null,
            "_model_module": "@jupyter-widgets/base",
            "top": null,
            "grid_column": null,
            "overflow_y": null,
            "overflow_x": null,
            "grid_auto_flow": null,
            "grid_area": null,
            "grid_template_columns": null,
            "flex": null,
            "_model_name": "LayoutModel",
            "justify_items": null,
            "grid_row": null,
            "max_height": null,
            "align_content": null,
            "visibility": null,
            "align_self": null,
            "height": null,
            "min_height": null,
            "padding": null,
            "grid_auto_rows": null,
            "grid_gap": null,
            "max_width": null,
            "order": null,
            "_view_module_version": "1.2.0",
            "grid_template_areas": null,
            "object_position": null,
            "object_fit": null,
            "grid_auto_columns": null,
            "margin": null,
            "display": null,
            "left": null
          }
        },
        "091924a7dd184485b1bab6f13d7a9907": {
          "model_module": "@jupyter-widgets/controls",
          "model_name": "DescriptionStyleModel",
          "state": {
            "_view_name": "StyleView",
            "_model_name": "DescriptionStyleModel",
            "description_width": "",
            "_view_module": "@jupyter-widgets/base",
            "_model_module_version": "1.5.0",
            "_view_count": null,
            "_view_module_version": "1.2.0",
            "_model_module": "@jupyter-widgets/controls"
          }
        },
        "c3172dd9386146e88d5b2a8c9f50d37b": {
          "model_module": "@jupyter-widgets/base",
          "model_name": "LayoutModel",
          "state": {
            "_view_name": "LayoutView",
            "grid_template_rows": null,
            "right": null,
            "justify_content": null,
            "_view_module": "@jupyter-widgets/base",
            "overflow": null,
            "_model_module_version": "1.2.0",
            "_view_count": null,
            "flex_flow": null,
            "width": null,
            "min_width": null,
            "border": null,
            "align_items": null,
            "bottom": null,
            "_model_module": "@jupyter-widgets/base",
            "top": null,
            "grid_column": null,
            "overflow_y": null,
            "overflow_x": null,
            "grid_auto_flow": null,
            "grid_area": null,
            "grid_template_columns": null,
            "flex": null,
            "_model_name": "LayoutModel",
            "justify_items": null,
            "grid_row": null,
            "max_height": null,
            "align_content": null,
            "visibility": null,
            "align_self": null,
            "height": null,
            "min_height": null,
            "padding": null,
            "grid_auto_rows": null,
            "grid_gap": null,
            "max_width": null,
            "order": null,
            "_view_module_version": "1.2.0",
            "grid_template_areas": null,
            "object_position": null,
            "object_fit": null,
            "grid_auto_columns": null,
            "margin": null,
            "display": null,
            "left": null
          }
        }
      }
    }
  },
  "cells": [
    {
      "cell_type": "markdown",
      "metadata": {
        "id": "QYZjzA-LQ3yq",
        "colab_type": "text"
      },
      "source": [
        "# MNIST handwritten digits classification with regularized MLPs\n",
        "\n",
        "In this notebook, we'll train a multi-layer perceptron model to classify MNIST digits using **PyTorch**.\n",
        "\n",
        "The neural network will be regularized with\n",
        "\n",
        "\n",
        "1.   Dropout\n",
        "2.   Batchnormalization\n",
        "\n",
        "\n",
        "\n"
      ]
    },
    {
      "cell_type": "markdown",
      "metadata": {
        "id": "uEtfy2Y5KrXS",
        "colab_type": "text"
      },
      "source": [
        "First, the needed imports. "
      ]
    },
    {
      "cell_type": "code",
      "metadata": {
        "id": "qrZvRCTBQ3yt",
        "colab_type": "code",
        "outputId": "bee07b6f-4bc7-414d-f173-d56e8ed24800",
        "colab": {
          "base_uri": "https://localhost:8080/",
          "height": 34
        }
      },
      "source": [
        "%matplotlib inline\n",
        "\n",
        "import torch\n",
        "import torch.nn as nn\n",
        "import torch.nn.functional as F\n",
        "from torchvision import datasets, transforms\n",
        "#import seaborn as sns\n",
        "#sns.set()\n",
        "\n",
        "import numpy as np\n",
        "import matplotlib.pyplot as plt\n",
        "\n",
        "if torch.cuda.is_available():\n",
        "    device = torch.device('cuda')\n",
        "else:\n",
        "    device = torch.device('cpu')\n",
        "    \n",
        "print('Using PyTorch version:', torch.__version__, ' Device:', device)"
      ],
      "execution_count": 9,
      "outputs": [
        {
          "output_type": "stream",
          "text": [
            "Using PyTorch version: 1.4.0  Device: cuda\n"
          ],
          "name": "stdout"
        }
      ]
    },
    {
      "cell_type": "markdown",
      "metadata": {
        "id": "Y0chwSkbQ3yx",
        "colab_type": "text"
      },
      "source": [
        "## Data\n",
        "\n",
        "Next we'll load the MNIST data.  First time we may have to download the data, which can take a while.\n",
        "\n",
        "Note that we are here using the MNIST test data for *validation*, instead of for testing the final model."
      ]
    },
    {
      "cell_type": "code",
      "metadata": {
        "id": "CyqByXDlQ3yy",
        "colab_type": "code",
        "colab": {
          "base_uri": "https://localhost:8080/",
          "height": 366,
          "referenced_widgets": [
            "bff64ec545eb470586df98bd02287f3f",
            "9faf13c67fff4c13b98cab5d70361500",
            "bf9a8fbbbd374bf5908e88a824fc4409",
            "db99329a9c0f4d099d44858bf22af6f1",
            "fa58b6a4addc4e2aa6ae20dd40207598",
            "589a25883893440d94b940646bc075e1",
            "02e6c15b86704ad9938be5aa90005b41",
            "d01d0f4cda584cac86cf6e427476fe12",
            "b31651d6c3ad4f4b83f6a030812c7ef8",
            "bc467a98395746da8b12a55b69756eaa",
            "256b828f2d3a47de94281ecaa79ee00e",
            "551f31deeba54310859617827567d0fc",
            "345a56973ce6454899c7afced0af3cfa",
            "79edc6b4eecb42db88f0a3bc91581527",
            "03a9d1e7ff904e14b60d6103ba4b26ca",
            "fd54f3bca887427c816783809f97c6e2",
            "7a001225a1c54831a486fe81f0943dfa",
            "0d8183f1116e4d72a482cafc1cafa93a",
            "38325fb49cbe40c1bca5e805f8a6e648",
            "619d9357824a4161bcb3c74a8c00a216",
            "fca9fd96d6da48969018f05404991453",
            "f21ec3ce4e2c456ca03ec1f2a73f5b15",
            "bbf8533408f34be8bb6f5621541f512e",
            "8d2f16f437324557879dd818053c9b40",
            "4fe28d6b03c549b39d97f71762d668e0",
            "2c6b2653bc4c4d0c9a3a72557b9abee9",
            "55fbd417f7a6482cbcdbb85f4ea614d7",
            "94e6832a60b94bf1b94495f94ab295e0",
            "7ec030a7bd80471b8f180e70b9a8147a",
            "b91c777f16114df3b84364789645c797",
            "091924a7dd184485b1bab6f13d7a9907",
            "c3172dd9386146e88d5b2a8c9f50d37b"
          ]
        },
        "outputId": "3bc7c1a0-5e26-4f43-809a-d59f14d17fb6"
      },
      "source": [
        "batch_size = 32\n",
        "\n",
        "train_dataset = datasets.MNIST('./data', \n",
        "                               train=True, \n",
        "                               download=True, \n",
        "                               transform=transforms.ToTensor())\n",
        "\n",
        "validation_dataset = datasets.MNIST('./data', \n",
        "                                    train=False, \n",
        "                                    transform=transforms.ToTensor())\n",
        "\n",
        "train_loader = torch.utils.data.DataLoader(dataset=train_dataset, \n",
        "                                           batch_size=batch_size, \n",
        "                                           shuffle=True)\n",
        "\n",
        "validation_loader = torch.utils.data.DataLoader(dataset=validation_dataset, \n",
        "                                                batch_size=batch_size, \n",
        "                                                shuffle=False)"
      ],
      "execution_count": 10,
      "outputs": [
        {
          "output_type": "stream",
          "text": [
            "Downloading http://yann.lecun.com/exdb/mnist/train-images-idx3-ubyte.gz to ./data/MNIST/raw/train-images-idx3-ubyte.gz\n"
          ],
          "name": "stdout"
        },
        {
          "output_type": "display_data",
          "data": {
            "application/vnd.jupyter.widget-view+json": {
              "model_id": "bff64ec545eb470586df98bd02287f3f",
              "version_minor": 0,
              "version_major": 2
            },
            "text/plain": [
              "HBox(children=(IntProgress(value=1, bar_style='info', max=1), HTML(value='')))"
            ]
          },
          "metadata": {
            "tags": []
          }
        },
        {
          "output_type": "stream",
          "text": [
            "Extracting ./data/MNIST/raw/train-images-idx3-ubyte.gz to ./data/MNIST/raw\n",
            "Downloading http://yann.lecun.com/exdb/mnist/train-labels-idx1-ubyte.gz to ./data/MNIST/raw/train-labels-idx1-ubyte.gz\n"
          ],
          "name": "stdout"
        },
        {
          "output_type": "display_data",
          "data": {
            "application/vnd.jupyter.widget-view+json": {
              "model_id": "b31651d6c3ad4f4b83f6a030812c7ef8",
              "version_minor": 0,
              "version_major": 2
            },
            "text/plain": [
              "HBox(children=(IntProgress(value=1, bar_style='info', max=1), HTML(value='')))"
            ]
          },
          "metadata": {
            "tags": []
          }
        },
        {
          "output_type": "stream",
          "text": [
            "Extracting ./data/MNIST/raw/train-labels-idx1-ubyte.gz to ./data/MNIST/raw\n",
            "Downloading http://yann.lecun.com/exdb/mnist/t10k-images-idx3-ubyte.gz to ./data/MNIST/raw/t10k-images-idx3-ubyte.gz\n"
          ],
          "name": "stdout"
        },
        {
          "output_type": "display_data",
          "data": {
            "application/vnd.jupyter.widget-view+json": {
              "model_id": "7a001225a1c54831a486fe81f0943dfa",
              "version_minor": 0,
              "version_major": 2
            },
            "text/plain": [
              "HBox(children=(IntProgress(value=1, bar_style='info', max=1), HTML(value='')))"
            ]
          },
          "metadata": {
            "tags": []
          }
        },
        {
          "output_type": "stream",
          "text": [
            "Extracting ./data/MNIST/raw/t10k-images-idx3-ubyte.gz to ./data/MNIST/raw\n",
            "Downloading http://yann.lecun.com/exdb/mnist/t10k-labels-idx1-ubyte.gz to ./data/MNIST/raw/t10k-labels-idx1-ubyte.gz\n"
          ],
          "name": "stdout"
        },
        {
          "output_type": "display_data",
          "data": {
            "application/vnd.jupyter.widget-view+json": {
              "model_id": "4fe28d6b03c549b39d97f71762d668e0",
              "version_minor": 0,
              "version_major": 2
            },
            "text/plain": [
              "HBox(children=(IntProgress(value=1, bar_style='info', max=1), HTML(value='')))"
            ]
          },
          "metadata": {
            "tags": []
          }
        },
        {
          "output_type": "stream",
          "text": [
            "Extracting ./data/MNIST/raw/t10k-labels-idx1-ubyte.gz to ./data/MNIST/raw\n",
            "Processing...\n",
            "Done!\n",
            "\n",
            "\n",
            "\n"
          ],
          "name": "stdout"
        }
      ]
    },
    {
      "cell_type": "markdown",
      "metadata": {
        "id": "R5RUIpKiQ3y1",
        "colab_type": "text"
      },
      "source": [
        "The train and test data are provided via data loaders that provide iterators over the datasets. The first element of training data (`X_train`) is a 4th-order tensor of size (`batch_size`, 1, 28, 28), i.e. it consists of a batch of images of size 1x28x28 pixels. `y_train` is a vector containing the correct classes (\"0\", \"1\", ..., \"9\") for each training digit."
      ]
    },
    {
      "cell_type": "code",
      "metadata": {
        "id": "rpWAQsC5Q3y2",
        "colab_type": "code",
        "outputId": "6b55b8f1-56ea-4c7e-d820-91df0d716424",
        "colab": {
          "base_uri": "https://localhost:8080/",
          "height": 51
        }
      },
      "source": [
        "for (X_train, y_train) in train_loader:\n",
        "    print('X_train:', X_train.size(), 'type:', X_train.type())\n",
        "    print('y_train:', y_train.size(), 'type:', y_train.type())\n",
        "    break"
      ],
      "execution_count": 11,
      "outputs": [
        {
          "output_type": "stream",
          "text": [
            "X_train: torch.Size([32, 1, 28, 28]) type: torch.FloatTensor\n",
            "y_train: torch.Size([32]) type: torch.LongTensor\n"
          ],
          "name": "stdout"
        }
      ]
    },
    {
      "cell_type": "markdown",
      "metadata": {
        "id": "l-HI9wwyQ3y4",
        "colab_type": "text"
      },
      "source": [
        "Here are the first 10 training digits:"
      ]
    },
    {
      "cell_type": "code",
      "metadata": {
        "id": "bEwHbv16Q3y6",
        "colab_type": "code",
        "outputId": "946f67c9-7bd2-4d13-f9c6-87061aff7b93",
        "colab": {
          "base_uri": "https://localhost:8080/",
          "height": 111
        }
      },
      "source": [
        "pltsize=1\n",
        "plt.figure(figsize=(10*pltsize, pltsize))\n",
        "\n",
        "for i in range(10):\n",
        "    plt.subplot(1,10,i+1)\n",
        "    plt.axis('off')\n",
        "    plt.imshow(X_train[i,:,:,:].numpy().reshape(28,28), cmap=\"gray\")\n",
        "    plt.title('Class: '+str(y_train[i].item()))"
      ],
      "execution_count": 12,
      "outputs": [
        {
          "output_type": "stream",
          "text": [
            "\n"
          ],
          "name": "stdout"
        },
        {
          "output_type": "display_data",
          "data": {
            "image/png": "[encoded data removed]",
            "text/plain": [
              "<Figure size 720x72 with 10 Axes>"
            ]
          },
          "metadata": {
            "tags": []
          }
        }
      ]
    },
    {
      "cell_type": "markdown",
      "metadata": {
        "id": "Lj0u1Y9uQ3y9",
        "colab_type": "text"
      },
      "source": [
        "## MLP network definition\n",
        "\n",
        "Let's define the network as a Python class.  We have to write the `__init__()` and `forward()` methods, and PyTorch will automatically generate a `backward()` method for computing the gradients for the backward pass.\n",
        "\n",
        "Finally, we define an optimizer to update the model parameters based on the computed gradients.  We select *stochastic gradient descent (with momentum)* as the optimization algorithm, and set *learning rate* to 0.01.  Note that there are [several different options](http://pytorch.org/docs/optim.html#algorithms) for the optimizer in PyTorch that we could use instead of *SGD*."
      ]
    },
    {
      "cell_type": "markdown",
      "metadata": {
        "id": "FB_060a0LkaB",
        "colab_type": "text"
      },
      "source": [
        "#### Question: Complete the missing blocks in the definition of the  convNet architecture \n",
        "\n",
        "The neural network should be composed as (FullyConnected 256 -> ReLU -> Fully Connected 256 -> ReLU -> Fully Connected 10 -> softmax)"
      ]
    },
    {
      "cell_type": "code",
      "metadata": {
        "id": "ERvvxFlPQ3y-",
        "colab_type": "code",
        "outputId": "3d214d22-cce4-4b79-c3c2-06b648544036",
        "colab": {
          "base_uri": "https://localhost:8080/",
          "height": 102
        }
      },
      "source": [
        "H1 = 256\n",
        "H2 = 256 \n",
        "\n",
        "class Net(nn.Module):\n",
        "    def __init__(self):\n",
        "        super(Net, self).__init__()\n",
        "        # To complete\n",
        "        self.fc1 = nn.Linear(28*28, H1)\n",
        "        self.fc2 = nn.Linear(H1, H2)\n",
        "        self.fc3 = nn.Linear(H2, 10)\n",
        "                \n",
        "    def forward(self, x):\n",
        "        # To complete\n",
        "        x = x.view(-1,28*28)\n",
        "        x = F.relu(self.fc1(x))\n",
        "        x = F.relu(self.fc2(x))\n",
        "        x = F.log_softmax(self.fc3(x), dim=1)\n",
        "\n",
        "        return x\n",
        "\n",
        "model = Net().to(device)\n",
        "optimizer = torch.optim.SGD(model.parameters(), lr=0.01, momentum=0.)\n",
        "criterion = nn.CrossEntropyLoss()\n",
        "\n",
        "print(model)"
      ],
      "execution_count": 13,
      "outputs": [
        {
          "output_type": "stream",
          "text": [
            "Net(\n",
            "  (fc1): Linear(in_features=784, out_features=256, bias=True)\n",
            "  (fc2): Linear(in_features=256, out_features=256, bias=True)\n",
            "  (fc3): Linear(in_features=256, out_features=10, bias=True)\n",
            ")\n"
          ],
          "name": "stdout"
        }
      ]
    },
    {
      "cell_type": "markdown",
      "metadata": {
        "id": "bbnPlkshVtS1",
        "colab_type": "text"
      },
      "source": [
        "### Question: Complete the missing blocks in the definition of the \"DropoutNet\" architecture\n",
        "\n",
        "The neural network should be composed as (FullyConnected 256 -> ReLU -> Dropout (0.2) -> Fully Connected 256 -> ReLU -> Dropout (0.5) -> Fully Connected 10 -> softmax)"
      ]
    },
    {
      "cell_type": "code",
      "metadata": {
        "id": "bEK5kptoSYfe",
        "colab_type": "code",
        "outputId": "6c98aaad-f6d2-403e-b933-d792f11973fe",
        "colab": {
          "base_uri": "https://localhost:8080/",
          "height": 136
        }
      },
      "source": [
        "class NetDrop(nn.Module):\n",
        "    def __init__(self):\n",
        "        super(NetDrop, self).__init__()\n",
        "        # To complete\n",
        "\n",
        "        self.fc1 = nn.Linear(28*28, H1)\n",
        "        self.dp1 = nn.Dropout(p=0.2)\n",
        "        self.fc2 = nn.Linear(H1, H2)\n",
        "        self.dp2 = nn.Dropout(p=0.5)\n",
        "        self.fc3 = nn.Linear(H2, 10)\n",
        "\n",
        "\n",
        "    def forward(self, x):\n",
        "        # To complete\n",
        "        x = x.view(-1,28*28)\n",
        "        x = F.relu(self.fc1(x))\n",
        "        x = self.dp1(x)\n",
        "        x = F.relu(self.fc2(x))\n",
        "        x = self.dp2(x)\n",
        "        x = F.log_softmax(self.fc3(x),dim=1)\n",
        "        return  x # To complete\n",
        "\n",
        "modelDrop = NetDrop().to(device)\n",
        "optimizerDrop = torch.optim.SGD(modelDrop.parameters(), lr=0.01, momentum=0.)\n",
        "\n",
        "print(modelDrop)"
      ],
      "execution_count": 14,
      "outputs": [
        {
          "output_type": "stream",
          "text": [
            "NetDrop(\n",
            "  (fc1): Linear(in_features=784, out_features=256, bias=True)\n",
            "  (dp1): Dropout(p=0.2, inplace=False)\n",
            "  (fc2): Linear(in_features=256, out_features=256, bias=True)\n",
            "  (dp2): Dropout(p=0.5, inplace=False)\n",
            "  (fc3): Linear(in_features=256, out_features=10, bias=True)\n",
            ")\n"
          ],
          "name": "stdout"
        }
      ]
    },
    {
      "cell_type": "markdown",
      "metadata": {
        "id": "p1u8Y6ydL_L8",
        "colab_type": "text"
      },
      "source": [
        "### Question: Complete the missing blocks in the definition of the  \"Batchnormalization\" architecture\n",
        "\n",
        "The neural network should be composed as (FullyConnected 256 -> ReLU -> Batchnorm -> Fully Connected 256 -> ReLU -> Batchnorm -> Fully Connected 10 -> softmax)"
      ]
    },
    {
      "cell_type": "code",
      "metadata": {
        "id": "rcnP7ZRwMIu_",
        "colab_type": "code",
        "outputId": "d17bab5e-f11a-4c9d-b27b-da63b3633807",
        "colab": {
          "base_uri": "https://localhost:8080/",
          "height": 136
        }
      },
      "source": [
        "class NetBatchNorm(nn.Module):\n",
        "    def __init__(self):\n",
        "        super(NetBatchNorm, self).__init__()\n",
        "        # To complete\n",
        "        self.fc1 = nn.Linear(28*28, H1)\n",
        "        self.bn1 = nn.BatchNorm1d(H1)\n",
        "        self.fc2 = nn.Linear(H1, H2)\n",
        "        self.bn2 = nn.BatchNorm1d(H2)\n",
        "        self.fc3 = nn.Linear(H2, 10)\n",
        "\n",
        "    def forward(self, x):\n",
        "        # To complete\n",
        "        x = x.view(-1,28*28)\n",
        "        x = F.relu(self.fc1(x))\n",
        "        x = self.bn1(x)\n",
        "        x = F.relu(self.fc2(x))\n",
        "        x = self.bn2(x)\n",
        "        x = F.log_softmax(self.fc3(x),dim=1)\n",
        "        return x# To complete\n",
        "\n",
        "modelBatchNorm = NetBatchNorm().to(device)\n",
        "optimizerBatchNorm = torch.optim.SGD(modelBatchNorm.parameters(), lr=0.01, momentum=0.)\n",
        "\n",
        "print(modelBatchNorm)"
      ],
      "execution_count": 15,
      "outputs": [
        {
          "output_type": "stream",
          "text": [
            "NetBatchNorm(\n",
            "  (fc1): Linear(in_features=784, out_features=256, bias=True)\n",
            "  (bn1): BatchNorm1d(256, eps=1e-05, momentum=0.1, affine=True, track_running_stats=True)\n",
            "  (fc2): Linear(in_features=256, out_features=256, bias=True)\n",
            "  (bn2): BatchNorm1d(256, eps=1e-05, momentum=0.1, affine=True, track_running_stats=True)\n",
            "  (fc3): Linear(in_features=256, out_features=10, bias=True)\n",
            ")\n"
          ],
          "name": "stdout"
        }
      ]
    },
    {
      "cell_type": "markdown",
      "metadata": {
        "id": "jOwerJmYQ3zA",
        "colab_type": "text"
      },
      "source": [
        "## Learning\n",
        "\n",
        "Let's now define functions to `train()` and `test()` the model. "
      ]
    },
    {
      "cell_type": "code",
      "metadata": {
        "id": "eyA6cc6kQ3zB",
        "colab_type": "code",
        "colab": {}
      },
      "source": [
        "def train(model, optimizer, epoch, log_interval=200):\n",
        "    # Set model to training mode\n",
        "    model.train()\n",
        "    \n",
        "    # Loop over each batch from the training set\n",
        "    for batch_idx, (data, target) in enumerate(train_loader):\n",
        "        # Copy data to GPU if needed\n",
        "        data = data.to(device)\n",
        "        target = target.to(device)\n",
        "\n",
        "        # Zero gradient buffers\n",
        "        optimizer.zero_grad() \n",
        "        \n",
        "        # Pass data through the network\n",
        "        output = model(data)\n",
        "\n",
        "        # Calculate loss\n",
        "        loss = criterion(output, target)\n",
        "\n",
        "        # Backpropagate\n",
        "        loss.backward()\n",
        "        \n",
        "        # Update weights\n",
        "        optimizer.step()\n",
        "        \n",
        "        if batch_idx % log_interval == 0:\n",
        "            print('Train Epoch: {} [{}/{} ({:.0f}%)]\\tLoss: {:.6f}'.format(\n",
        "                epoch, batch_idx * len(data), len(train_loader.dataset),\n",
        "                100. * batch_idx / len(train_loader), loss.data.item()))"
      ],
      "execution_count": 0,
      "outputs": []
    },
    {
      "cell_type": "code",
      "metadata": {
        "id": "GZpI82dgQ3zE",
        "colab_type": "code",
        "colab": {}
      },
      "source": [
        "def validate(model, loss_vector, accuracy_vector):\n",
        "    model.eval()\n",
        "    val_loss, correct = 0, 0\n",
        "    for data, target in validation_loader:\n",
        "        data = data.to(device)\n",
        "        target = target.to(device)\n",
        "        output = model(data)\n",
        "        val_loss += criterion(output, target).data.item()\n",
        "        pred = output.data.max(1)[1] # get the index of the max log-probability\n",
        "        correct += pred.eq(target.data).cpu().sum()\n",
        "\n",
        "    val_loss /= len(validation_loader)\n",
        "    loss_vector.append(val_loss)\n",
        "\n",
        "    accuracy = 100. * correct.to(torch.float32) / len(validation_loader.dataset)\n",
        "    accuracy_vector.append(accuracy)\n",
        "    \n",
        "    print('\\nValidation set: Average loss: {:.4f}, Accuracy: {}/{} ({:.0f}%)\\n'.format(\n",
        "        val_loss, correct, len(validation_loader.dataset), accuracy))\n"
      ],
      "execution_count": 0,
      "outputs": []
    },
    {
      "cell_type": "markdown",
      "metadata": {
        "id": "RpE7EGviQ3zF",
        "colab_type": "text"
      },
      "source": [
        "Now we are ready to train our model using the `train()` function.  An *epoch* means one pass through the whole training data. After each epoch, we evaluate the model using `test()`. "
      ]
    },
    {
      "cell_type": "markdown",
      "metadata": {
        "id": "Ls0lR3WvVVZQ",
        "colab_type": "text"
      },
      "source": [
        "Training without Dropout"
      ]
    },
    {
      "cell_type": "code",
      "metadata": {
        "id": "uFPAF_CNQ3zG",
        "colab_type": "code",
        "outputId": "0b9f03ad-e14a-4b7e-8c60-4016565eec97",
        "colab": {
          "base_uri": "https://localhost:8080/",
          "height": 714
        }
      },
      "source": [
        "%%time\n",
        "epochs = 3\n",
        "\n",
        "lossv, accv = [], []\n",
        "for epoch in range(1, epochs + 1):\n",
        "    train(model, optimizer, epoch)\n",
        "    validate(model, lossv, accv)"
      ],
      "execution_count": 18,
      "outputs": [
        {
          "output_type": "stream",
          "text": [
            "Train Epoch: 1 [0/60000 (0%)]\tLoss: 2.284146\n",
            "Train Epoch: 1 [6400/60000 (11%)]\tLoss: 2.210761\n",
            "Train Epoch: 1 [12800/60000 (21%)]\tLoss: 1.988475\n",
            "Train Epoch: 1 [19200/60000 (32%)]\tLoss: 1.346035\n",
            "Train Epoch: 1 [25600/60000 (43%)]\tLoss: 0.932998\n",
            "Train Epoch: 1 [32000/60000 (53%)]\tLoss: 0.485248\n",
            "Train Epoch: 1 [38400/60000 (64%)]\tLoss: 0.370535\n",
            "Train Epoch: 1 [44800/60000 (75%)]\tLoss: 0.513165\n",
            "Train Epoch: 1 [51200/60000 (85%)]\tLoss: 0.537996\n",
            "Train Epoch: 1 [57600/60000 (96%)]\tLoss: 0.341967\n",
            "\n",
            "Validation set: Average loss: 0.4061, Accuracy: 8871/10000 (89%)\n",
            "\n",
            "Train Epoch: 2 [0/60000 (0%)]\tLoss: 0.474515\n",
            "Train Epoch: 2 [6400/60000 (11%)]\tLoss: 0.812244\n",
            "Train Epoch: 2 [12800/60000 (21%)]\tLoss: 0.437089\n",
            "Train Epoch: 2 [19200/60000 (32%)]\tLoss: 0.272379\n",
            "Train Epoch: 2 [25600/60000 (43%)]\tLoss: 1.253858\n",
            "Train Epoch: 2 [32000/60000 (53%)]\tLoss: 0.458769\n",
            "Train Epoch: 2 [38400/60000 (64%)]\tLoss: 0.385385\n",
            "Train Epoch: 2 [44800/60000 (75%)]\tLoss: 0.405153\n",
            "Train Epoch: 2 [51200/60000 (85%)]\tLoss: 0.207254\n",
            "Train Epoch: 2 [57600/60000 (96%)]\tLoss: 0.318621\n",
            "\n",
            "Validation set: Average loss: 0.3192, Accuracy: 9082/10000 (91%)\n",
            "\n",
            "Train Epoch: 3 [0/60000 (0%)]\tLoss: 0.268960\n",
            "Train Epoch: 3 [6400/60000 (11%)]\tLoss: 0.137882\n",
            "Train Epoch: 3 [12800/60000 (21%)]\tLoss: 0.358082\n",
            "Train Epoch: 3 [19200/60000 (32%)]\tLoss: 0.319009\n",
            "Train Epoch: 3 [25600/60000 (43%)]\tLoss: 0.274037\n",
            "Train Epoch: 3 [32000/60000 (53%)]\tLoss: 0.168550\n",
            "Train Epoch: 3 [38400/60000 (64%)]\tLoss: 0.380694\n",
            "Train Epoch: 3 [44800/60000 (75%)]\tLoss: 0.579484\n",
            "Train Epoch: 3 [51200/60000 (85%)]\tLoss: 0.840365\n",
            "Train Epoch: 3 [57600/60000 (96%)]\tLoss: 0.213185\n",
            "\n",
            "Validation set: Average loss: 0.2725, Accuracy: 9208/10000 (92%)\n",
            "\n",
            "CPU times: user 33.7 s, sys: 437 ms, total: 34.2 s\n",
            "Wall time: 34.6 s\n"
          ],
          "name": "stdout"
        }
      ]
    },
    {
      "cell_type": "markdown",
      "metadata": {
        "id": "fqI_dIneVR-o",
        "colab_type": "text"
      },
      "source": [
        "Training with Dropout"
      ]
    },
    {
      "cell_type": "code",
      "metadata": {
        "id": "RPiJfdeqTJqb",
        "colab_type": "code",
        "outputId": "a5b209d1-3143-4dc2-f381-e543f23d2f59",
        "colab": {
          "base_uri": "https://localhost:8080/",
          "height": 714
        }
      },
      "source": [
        "%%time\n",
        "\n",
        "lossvDrop, accvDrop = [], []\n",
        "for epoch in range(1, epochs + 1):\n",
        "    train(modelDrop, optimizerDrop, epoch)\n",
        "    validate(modelDrop, lossvDrop, accvDrop)"
      ],
      "execution_count": 19,
      "outputs": [
        {
          "output_type": "stream",
          "text": [
            "Train Epoch: 1 [0/60000 (0%)]\tLoss: 2.287098\n",
            "Train Epoch: 1 [6400/60000 (11%)]\tLoss: 2.208879\n",
            "Train Epoch: 1 [12800/60000 (21%)]\tLoss: 2.007894\n",
            "Train Epoch: 1 [19200/60000 (32%)]\tLoss: 1.308116\n",
            "Train Epoch: 1 [25600/60000 (43%)]\tLoss: 1.122079\n",
            "Train Epoch: 1 [32000/60000 (53%)]\tLoss: 0.933245\n",
            "Train Epoch: 1 [38400/60000 (64%)]\tLoss: 0.787024\n",
            "Train Epoch: 1 [44800/60000 (75%)]\tLoss: 0.918901\n",
            "Train Epoch: 1 [51200/60000 (85%)]\tLoss: 0.717536\n",
            "Train Epoch: 1 [57600/60000 (96%)]\tLoss: 0.622069\n",
            "\n",
            "Validation set: Average loss: 0.4599, Accuracy: 8738/10000 (87%)\n",
            "\n",
            "Train Epoch: 2 [0/60000 (0%)]\tLoss: 0.484029\n",
            "Train Epoch: 2 [6400/60000 (11%)]\tLoss: 0.645562\n",
            "Train Epoch: 2 [12800/60000 (21%)]\tLoss: 0.726571\n",
            "Train Epoch: 2 [19200/60000 (32%)]\tLoss: 0.612781\n",
            "Train Epoch: 2 [25600/60000 (43%)]\tLoss: 0.550043\n",
            "Train Epoch: 2 [32000/60000 (53%)]\tLoss: 0.669646\n",
            "Train Epoch: 2 [38400/60000 (64%)]\tLoss: 0.258005\n",
            "Train Epoch: 2 [44800/60000 (75%)]\tLoss: 0.273352\n",
            "Train Epoch: 2 [51200/60000 (85%)]\tLoss: 0.468008\n",
            "Train Epoch: 2 [57600/60000 (96%)]\tLoss: 0.427529\n",
            "\n",
            "Validation set: Average loss: 0.3236, Accuracy: 9080/10000 (91%)\n",
            "\n",
            "Train Epoch: 3 [0/60000 (0%)]\tLoss: 0.409640\n",
            "Train Epoch: 3 [6400/60000 (11%)]\tLoss: 0.243491\n",
            "Train Epoch: 3 [12800/60000 (21%)]\tLoss: 0.396135\n",
            "Train Epoch: 3 [19200/60000 (32%)]\tLoss: 0.411061\n",
            "Train Epoch: 3 [25600/60000 (43%)]\tLoss: 0.306031\n",
            "Train Epoch: 3 [32000/60000 (53%)]\tLoss: 0.343424\n",
            "Train Epoch: 3 [38400/60000 (64%)]\tLoss: 0.333368\n",
            "Train Epoch: 3 [44800/60000 (75%)]\tLoss: 0.443644\n",
            "Train Epoch: 3 [51200/60000 (85%)]\tLoss: 0.614594\n",
            "Train Epoch: 3 [57600/60000 (96%)]\tLoss: 0.345621\n",
            "\n",
            "Validation set: Average loss: 0.2687, Accuracy: 9211/10000 (92%)\n",
            "\n",
            "CPU times: user 34.1 s, sys: 439 ms, total: 34.6 s\n",
            "Wall time: 34.8 s\n"
          ],
          "name": "stdout"
        }
      ]
    },
    {
      "cell_type": "markdown",
      "metadata": {
        "id": "nhG5ZvXIMpZ2",
        "colab_type": "text"
      },
      "source": [
        "Training with Batchnormalization"
      ]
    },
    {
      "cell_type": "code",
      "metadata": {
        "id": "IUWKOAvjM0QI",
        "colab_type": "code",
        "outputId": "4d0628ce-335a-4860-d43c-1f3bcf6f3948",
        "colab": {
          "base_uri": "https://localhost:8080/",
          "height": 714
        }
      },
      "source": [
        "%%time\n",
        "\n",
        "lossvBN, accvBN = [], []\n",
        "for epoch in range(1, epochs + 1):\n",
        "    train(modelBatchNorm, optimizerBatchNorm, epoch)\n",
        "    validate(modelBatchNorm, lossvBN, accvBN)"
      ],
      "execution_count": 20,
      "outputs": [
        {
          "output_type": "stream",
          "text": [
            "Train Epoch: 1 [0/60000 (0%)]\tLoss: 2.300468\n",
            "Train Epoch: 1 [6400/60000 (11%)]\tLoss: 0.350177\n",
            "Train Epoch: 1 [12800/60000 (21%)]\tLoss: 0.385787\n",
            "Train Epoch: 1 [19200/60000 (32%)]\tLoss: 0.275286\n",
            "Train Epoch: 1 [25600/60000 (43%)]\tLoss: 0.188213\n",
            "Train Epoch: 1 [32000/60000 (53%)]\tLoss: 0.098011\n",
            "Train Epoch: 1 [38400/60000 (64%)]\tLoss: 0.390403\n",
            "Train Epoch: 1 [44800/60000 (75%)]\tLoss: 0.132832\n",
            "Train Epoch: 1 [51200/60000 (85%)]\tLoss: 0.071553\n",
            "Train Epoch: 1 [57600/60000 (96%)]\tLoss: 0.281846\n",
            "\n",
            "Validation set: Average loss: 0.1242, Accuracy: 9645/10000 (96%)\n",
            "\n",
            "Train Epoch: 2 [0/60000 (0%)]\tLoss: 0.048242\n",
            "Train Epoch: 2 [6400/60000 (11%)]\tLoss: 0.046468\n",
            "Train Epoch: 2 [12800/60000 (21%)]\tLoss: 0.142319\n",
            "Train Epoch: 2 [19200/60000 (32%)]\tLoss: 0.046512\n",
            "Train Epoch: 2 [25600/60000 (43%)]\tLoss: 0.067410\n",
            "Train Epoch: 2 [32000/60000 (53%)]\tLoss: 0.012859\n",
            "Train Epoch: 2 [38400/60000 (64%)]\tLoss: 0.301374\n",
            "Train Epoch: 2 [44800/60000 (75%)]\tLoss: 0.134520\n",
            "Train Epoch: 2 [51200/60000 (85%)]\tLoss: 0.036648\n",
            "Train Epoch: 2 [57600/60000 (96%)]\tLoss: 0.038540\n",
            "\n",
            "Validation set: Average loss: 0.0936, Accuracy: 9723/10000 (97%)\n",
            "\n",
            "Train Epoch: 3 [0/60000 (0%)]\tLoss: 0.082825\n",
            "Train Epoch: 3 [6400/60000 (11%)]\tLoss: 0.086211\n",
            "Train Epoch: 3 [12800/60000 (21%)]\tLoss: 0.050718\n",
            "Train Epoch: 3 [19200/60000 (32%)]\tLoss: 0.032054\n",
            "Train Epoch: 3 [25600/60000 (43%)]\tLoss: 0.177578\n",
            "Train Epoch: 3 [32000/60000 (53%)]\tLoss: 0.036987\n",
            "Train Epoch: 3 [38400/60000 (64%)]\tLoss: 0.141768\n",
            "Train Epoch: 3 [44800/60000 (75%)]\tLoss: 0.032526\n",
            "Train Epoch: 3 [51200/60000 (85%)]\tLoss: 0.118445\n",
            "Train Epoch: 3 [57600/60000 (96%)]\tLoss: 0.008273\n",
            "\n",
            "Validation set: Average loss: 0.0803, Accuracy: 9754/10000 (98%)\n",
            "\n",
            "CPU times: user 36.4 s, sys: 398 ms, total: 36.8 s\n",
            "Wall time: 37 s\n"
          ],
          "name": "stdout"
        }
      ]
    },
    {
      "cell_type": "markdown",
      "metadata": {
        "id": "l0YZ4vNbQ3zI",
        "colab_type": "text"
      },
      "source": [
        "Let's now visualize how the training progressed. \n",
        "\n",
        "* *Loss* is a function of the difference of the network output and the target values.  We are minimizing the loss function during training so it should decrease over time.\n",
        "* *Accuracy* is the classification accuracy for the test data."
      ]
    },
    {
      "cell_type": "code",
      "metadata": {
        "id": "MN2LcmsHQ3zJ",
        "colab_type": "code",
        "outputId": "64d10313-45ea-478a-9a98-6e58fd58a567",
        "colab": {
          "base_uri": "https://localhost:8080/",
          "height": 465
        }
      },
      "source": [
        "plt.figure(figsize=(5,3))\n",
        "plt.plot(np.arange(1,epochs+1), lossv, label='no dropout')\n",
        "plt.plot(np.arange(1,epochs+1), lossvDrop, label='with dropout')\n",
        "plt.plot(np.arange(1,epochs+1), lossvBN, label='with batchnormalization')\n",
        "plt.legend(loc='upper left');\n",
        "plt.xlabel('epoch')\n",
        "plt.title('validation loss')\n",
        "plt.show()\n",
        "\n",
        "plt.figure(figsize=(5,3))\n",
        "plt.plot(np.arange(1,epochs+1), accv, label='no dropout')\n",
        "plt.plot(np.arange(1,epochs+1), accvDrop, label='with dropout')\n",
        "plt.plot(np.arange(1,epochs+1), accvBN, label='with batchnormalization')\n",
        "plt.legend(loc='upper left');\n",
        "plt.xlabel('epoch')\n",
        "plt.title('validation accuracy');"
      ],
      "execution_count": 21,
      "outputs": [
        {
          "output_type": "display_data",
          "data": {
            "image/png": "[encoded data removed]",
            "text/plain": [
              "<Figure size 360x216 with 1 Axes>"
            ]
          },
          "metadata": {
            "tags": []
          }
        },
        {
          "output_type": "display_data",
          "data": {
            "image/png": "[encoded data removed]",
            "text/plain": [
              "<Figure size 360x216 with 1 Axes>"
            ]
          },
          "metadata": {
            "tags": []
          }
        }
      ]
    },
    {
      "cell_type": "markdown",
      "metadata": {
        "id": "1-o8iKwlQ3zM",
        "colab_type": "text"
      },
      "source": [
        "### Question (model tuning): compare the gain when the first layer has less neurons (50 instead of 256)\n",
        "\n",
        "**Answer:**\n",
        "\n",
        "It seems that if we have 50 neurons in the hidden layers we still have a good result, especially using batch normalization that we kept the same accuracy.\n"
      ]
    },
    {
      "cell_type": "code",
      "metadata": {
        "id": "HMFNLmR_Lg11",
        "colab_type": "code",
        "outputId": "5f7cde85-2983-482d-dca4-f5b0fde141c5",
        "colab": {
          "base_uri": "https://localhost:8080/",
          "height": 102
        }
      },
      "source": [
        "H1 = 50\n",
        "H2 = 50\n",
        "\n",
        "class Net(nn.Module):\n",
        "    def __init__(self):\n",
        "        super(Net, self).__init__()\n",
        "        # To complete\n",
        "        self.fc1 = nn.Linear(28*28, H1)\n",
        "        self.fc2 = nn.Linear(H1, H2)\n",
        "        self.fc3 = nn.Linear(H2, 10)\n",
        "                \n",
        "    def forward(self, x):\n",
        "        # To complete\n",
        "        x = x.view(-1,28*28)\n",
        "        x = F.relu(self.fc1(x))\n",
        "        x = F.relu(self.fc2(x))\n",
        "        x = F.log_softmax(self.fc3(x), dim=1)\n",
        "\n",
        "        return x\n",
        "\n",
        "model = Net().to(device)\n",
        "optimizer = torch.optim.SGD(model.parameters(), lr=0.01, momentum=0.)\n",
        "criterion = nn.CrossEntropyLoss()\n",
        "\n",
        "print(model)"
      ],
      "execution_count": 22,
      "outputs": [
        {
          "output_type": "stream",
          "text": [
            "Net(\n",
            "  (fc1): Linear(in_features=784, out_features=50, bias=True)\n",
            "  (fc2): Linear(in_features=50, out_features=50, bias=True)\n",
            "  (fc3): Linear(in_features=50, out_features=10, bias=True)\n",
            ")\n"
          ],
          "name": "stdout"
        }
      ]
    },
    {
      "cell_type": "markdown",
      "metadata": {
        "id": "ct9lZMenLwIE",
        "colab_type": "text"
      },
      "source": [
        "Training without dropout"
      ]
    },
    {
      "cell_type": "code",
      "metadata": {
        "id": "BLZkHxaXLuEH",
        "colab_type": "code",
        "outputId": "b4796803-e10d-45b5-9b56-2e49cf8267b4",
        "colab": {
          "base_uri": "https://localhost:8080/",
          "height": 714
        }
      },
      "source": [
        "%%time\n",
        "epochs = 3\n",
        "\n",
        "lossv, accv = [], []\n",
        "for epoch in range(1, epochs + 1):\n",
        "    train(model, optimizer, epoch)\n",
        "    validate(model, lossv, accv)"
      ],
      "execution_count": 23,
      "outputs": [
        {
          "output_type": "stream",
          "text": [
            "Train Epoch: 1 [0/60000 (0%)]\tLoss: 2.283574\n",
            "Train Epoch: 1 [6400/60000 (11%)]\tLoss: 2.266637\n",
            "Train Epoch: 1 [12800/60000 (21%)]\tLoss: 2.161770\n",
            "Train Epoch: 1 [19200/60000 (32%)]\tLoss: 1.806515\n",
            "Train Epoch: 1 [25600/60000 (43%)]\tLoss: 1.283439\n",
            "Train Epoch: 1 [32000/60000 (53%)]\tLoss: 0.983176\n",
            "Train Epoch: 1 [38400/60000 (64%)]\tLoss: 0.700347\n",
            "Train Epoch: 1 [44800/60000 (75%)]\tLoss: 0.632986\n",
            "Train Epoch: 1 [51200/60000 (85%)]\tLoss: 0.386514\n",
            "Train Epoch: 1 [57600/60000 (96%)]\tLoss: 0.492953\n",
            "\n",
            "Validation set: Average loss: 0.4549, Accuracy: 8755/10000 (88%)\n",
            "\n",
            "Train Epoch: 2 [0/60000 (0%)]\tLoss: 0.493719\n",
            "Train Epoch: 2 [6400/60000 (11%)]\tLoss: 0.427150\n",
            "Train Epoch: 2 [12800/60000 (21%)]\tLoss: 0.501196\n",
            "Train Epoch: 2 [19200/60000 (32%)]\tLoss: 0.208001\n",
            "Train Epoch: 2 [25600/60000 (43%)]\tLoss: 0.257262\n",
            "Train Epoch: 2 [32000/60000 (53%)]\tLoss: 0.384105\n",
            "Train Epoch: 2 [38400/60000 (64%)]\tLoss: 0.204651\n",
            "Train Epoch: 2 [44800/60000 (75%)]\tLoss: 0.221024\n",
            "Train Epoch: 2 [51200/60000 (85%)]\tLoss: 0.210044\n",
            "Train Epoch: 2 [57600/60000 (96%)]\tLoss: 0.162683\n",
            "\n",
            "Validation set: Average loss: 0.3250, Accuracy: 9046/10000 (90%)\n",
            "\n",
            "Train Epoch: 3 [0/60000 (0%)]\tLoss: 0.355635\n",
            "Train Epoch: 3 [6400/60000 (11%)]\tLoss: 0.381140\n",
            "Train Epoch: 3 [12800/60000 (21%)]\tLoss: 0.565338\n",
            "Train Epoch: 3 [19200/60000 (32%)]\tLoss: 0.220481\n",
            "Train Epoch: 3 [25600/60000 (43%)]\tLoss: 0.510846\n",
            "Train Epoch: 3 [32000/60000 (53%)]\tLoss: 0.404449\n",
            "Train Epoch: 3 [38400/60000 (64%)]\tLoss: 0.225882\n",
            "Train Epoch: 3 [44800/60000 (75%)]\tLoss: 0.810360\n",
            "Train Epoch: 3 [51200/60000 (85%)]\tLoss: 0.393274\n",
            "Train Epoch: 3 [57600/60000 (96%)]\tLoss: 0.304349\n",
            "\n",
            "Validation set: Average loss: 0.2783, Accuracy: 9184/10000 (92%)\n",
            "\n",
            "CPU times: user 33.1 s, sys: 458 ms, total: 33.6 s\n",
            "Wall time: 33.8 s\n"
          ],
          "name": "stdout"
        }
      ]
    },
    {
      "cell_type": "markdown",
      "metadata": {
        "id": "xVvgKUDkL6vq",
        "colab_type": "text"
      },
      "source": [
        "Training with dropout"
      ]
    },
    {
      "cell_type": "code",
      "metadata": {
        "id": "dvbhFTWJL5zQ",
        "colab_type": "code",
        "outputId": "f9226343-9e80-4508-f284-537df590e97b",
        "colab": {
          "base_uri": "https://localhost:8080/",
          "height": 714
        }
      },
      "source": [
        "%%time\n",
        "\n",
        "lossvDrop, accvDrop = [], []\n",
        "for epoch in range(1, epochs + 1):\n",
        "    train(modelDrop, optimizerDrop, epoch)\n",
        "    validate(modelDrop, lossvDrop, accvDrop)"
      ],
      "execution_count": 24,
      "outputs": [
        {
          "output_type": "stream",
          "text": [
            "Train Epoch: 1 [0/60000 (0%)]\tLoss: 0.668243\n",
            "Train Epoch: 1 [6400/60000 (11%)]\tLoss: 0.665797\n",
            "Train Epoch: 1 [12800/60000 (21%)]\tLoss: 0.197865\n",
            "Train Epoch: 1 [19200/60000 (32%)]\tLoss: 0.169687\n",
            "Train Epoch: 1 [25600/60000 (43%)]\tLoss: 0.178556\n",
            "Train Epoch: 1 [32000/60000 (53%)]\tLoss: 0.379997\n",
            "Train Epoch: 1 [38400/60000 (64%)]\tLoss: 0.198834\n",
            "Train Epoch: 1 [44800/60000 (75%)]\tLoss: 0.304628\n",
            "Train Epoch: 1 [51200/60000 (85%)]\tLoss: 0.118316\n",
            "Train Epoch: 1 [57600/60000 (96%)]\tLoss: 0.632494\n",
            "\n",
            "Validation set: Average loss: 0.2287, Accuracy: 9327/10000 (93%)\n",
            "\n",
            "Train Epoch: 2 [0/60000 (0%)]\tLoss: 0.420296\n",
            "Train Epoch: 2 [6400/60000 (11%)]\tLoss: 0.145339\n",
            "Train Epoch: 2 [12800/60000 (21%)]\tLoss: 0.172910\n",
            "Train Epoch: 2 [19200/60000 (32%)]\tLoss: 0.436713\n",
            "Train Epoch: 2 [25600/60000 (43%)]\tLoss: 0.285901\n",
            "Train Epoch: 2 [32000/60000 (53%)]\tLoss: 0.397371\n",
            "Train Epoch: 2 [38400/60000 (64%)]\tLoss: 0.353827\n",
            "Train Epoch: 2 [44800/60000 (75%)]\tLoss: 0.435137\n",
            "Train Epoch: 2 [51200/60000 (85%)]\tLoss: 0.232148\n",
            "Train Epoch: 2 [57600/60000 (96%)]\tLoss: 0.240784\n",
            "\n",
            "Validation set: Average loss: 0.1988, Accuracy: 9415/10000 (94%)\n",
            "\n",
            "Train Epoch: 3 [0/60000 (0%)]\tLoss: 0.195390\n",
            "Train Epoch: 3 [6400/60000 (11%)]\tLoss: 0.127126\n",
            "Train Epoch: 3 [12800/60000 (21%)]\tLoss: 0.214048\n",
            "Train Epoch: 3 [19200/60000 (32%)]\tLoss: 0.058205\n",
            "Train Epoch: 3 [25600/60000 (43%)]\tLoss: 0.107527\n",
            "Train Epoch: 3 [32000/60000 (53%)]\tLoss: 0.081629\n",
            "Train Epoch: 3 [38400/60000 (64%)]\tLoss: 0.318587\n",
            "Train Epoch: 3 [44800/60000 (75%)]\tLoss: 0.319714\n",
            "Train Epoch: 3 [51200/60000 (85%)]\tLoss: 0.161374\n",
            "Train Epoch: 3 [57600/60000 (96%)]\tLoss: 0.158996\n",
            "\n",
            "Validation set: Average loss: 0.1764, Accuracy: 9468/10000 (95%)\n",
            "\n",
            "CPU times: user 34.6 s, sys: 398 ms, total: 35 s\n",
            "Wall time: 35.2 s\n"
          ],
          "name": "stdout"
        }
      ]
    },
    {
      "cell_type": "markdown",
      "metadata": {
        "id": "x9SuJgt1MBPi",
        "colab_type": "text"
      },
      "source": [
        "Training with batch normalization"
      ]
    },
    {
      "cell_type": "code",
      "metadata": {
        "id": "nKrXdNUQMA2G",
        "colab_type": "code",
        "outputId": "5a314e4f-8b05-4bdf-8927-63ca7a28b547",
        "colab": {
          "base_uri": "https://localhost:8080/",
          "height": 714
        }
      },
      "source": [
        "%%time\n",
        "\n",
        "lossvBN, accvBN = [], []\n",
        "for epoch in range(1, epochs + 1):\n",
        "    train(modelBatchNorm, optimizerBatchNorm, epoch)\n",
        "    validate(modelBatchNorm, lossvBN, accvBN)"
      ],
      "execution_count": 25,
      "outputs": [
        {
          "output_type": "stream",
          "text": [
            "Train Epoch: 1 [0/60000 (0%)]\tLoss: 0.171337\n",
            "Train Epoch: 1 [6400/60000 (11%)]\tLoss: 0.087335\n",
            "Train Epoch: 1 [12800/60000 (21%)]\tLoss: 0.035765\n",
            "Train Epoch: 1 [19200/60000 (32%)]\tLoss: 0.023363\n",
            "Train Epoch: 1 [25600/60000 (43%)]\tLoss: 0.380381\n",
            "Train Epoch: 1 [32000/60000 (53%)]\tLoss: 0.086931\n",
            "Train Epoch: 1 [38400/60000 (64%)]\tLoss: 0.037303\n",
            "Train Epoch: 1 [44800/60000 (75%)]\tLoss: 0.063043\n",
            "Train Epoch: 1 [51200/60000 (85%)]\tLoss: 0.040657\n",
            "Train Epoch: 1 [57600/60000 (96%)]\tLoss: 0.044988\n",
            "\n",
            "Validation set: Average loss: 0.0739, Accuracy: 9778/10000 (98%)\n",
            "\n",
            "Train Epoch: 2 [0/60000 (0%)]\tLoss: 0.036398\n",
            "Train Epoch: 2 [6400/60000 (11%)]\tLoss: 0.143514\n",
            "Train Epoch: 2 [12800/60000 (21%)]\tLoss: 0.081000\n",
            "Train Epoch: 2 [19200/60000 (32%)]\tLoss: 0.064783\n",
            "Train Epoch: 2 [25600/60000 (43%)]\tLoss: 0.054721\n",
            "Train Epoch: 2 [32000/60000 (53%)]\tLoss: 0.016513\n",
            "Train Epoch: 2 [38400/60000 (64%)]\tLoss: 0.013145\n",
            "Train Epoch: 2 [44800/60000 (75%)]\tLoss: 0.025301\n",
            "Train Epoch: 2 [51200/60000 (85%)]\tLoss: 0.107672\n",
            "Train Epoch: 2 [57600/60000 (96%)]\tLoss: 0.094290\n",
            "\n",
            "Validation set: Average loss: 0.0738, Accuracy: 9777/10000 (98%)\n",
            "\n",
            "Train Epoch: 3 [0/60000 (0%)]\tLoss: 0.101681\n",
            "Train Epoch: 3 [6400/60000 (11%)]\tLoss: 0.044354\n",
            "Train Epoch: 3 [12800/60000 (21%)]\tLoss: 0.034201\n",
            "Train Epoch: 3 [19200/60000 (32%)]\tLoss: 0.037452\n",
            "Train Epoch: 3 [25600/60000 (43%)]\tLoss: 0.056713\n",
            "Train Epoch: 3 [32000/60000 (53%)]\tLoss: 0.067647\n",
            "Train Epoch: 3 [38400/60000 (64%)]\tLoss: 0.171750\n",
            "Train Epoch: 3 [44800/60000 (75%)]\tLoss: 0.022931\n",
            "Train Epoch: 3 [51200/60000 (85%)]\tLoss: 0.036910\n",
            "Train Epoch: 3 [57600/60000 (96%)]\tLoss: 0.111560\n",
            "\n",
            "Validation set: Average loss: 0.0637, Accuracy: 9798/10000 (98%)\n",
            "\n",
            "CPU times: user 36.8 s, sys: 424 ms, total: 37.2 s\n",
            "Wall time: 37.4 s\n"
          ],
          "name": "stdout"
        }
      ]
    },
    {
      "cell_type": "code",
      "metadata": {
        "id": "716Wh58TQlun",
        "colab_type": "code",
        "outputId": "31a59157-c054-4be8-d4ff-70707970c780",
        "colab": {
          "base_uri": "https://localhost:8080/",
          "height": 465
        }
      },
      "source": [
        "plt.figure(figsize=(5,3))\n",
        "plt.plot(np.arange(1,epochs+1), lossv, label='no dropout')\n",
        "plt.plot(np.arange(1,epochs+1), lossvDrop, label='with dropout')\n",
        "plt.plot(np.arange(1,epochs+1), lossvBN, label='with batchnormalization')\n",
        "plt.legend(loc='upper left');\n",
        "plt.xlabel('epoch')\n",
        "plt.title('validation loss')\n",
        "plt.show()\n",
        "\n",
        "plt.figure(figsize=(5,3))\n",
        "plt.plot(np.arange(1,epochs+1), accv, label='no dropout')\n",
        "plt.plot(np.arange(1,epochs+1), accvDrop, label='with dropout')\n",
        "plt.plot(np.arange(1,epochs+1), accvBN, label='with batchnormalization')\n",
        "plt.legend(loc='upper left');\n",
        "plt.xlabel('epoch')\n",
        "plt.title('validation accuracy');"
      ],
      "execution_count": 26,
      "outputs": [
        {
          "output_type": "display_data",
          "data": {
            "image/png": "[encoded data removed]",
            "text/plain": [
              "<Figure size 360x216 with 1 Axes>"
            ]
          },
          "metadata": {
            "tags": []
          }
        },
        {
          "output_type": "display_data",
          "data": {
            "image/png": "[encoded data removed]",
            "text/plain": [
              "<Figure size 360x216 with 1 Axes>"
            ]
          },
          "metadata": {
            "tags": []
          }
        }
      ]
    },
    {
      "cell_type": "markdown",
      "metadata": {
        "id": "8E1SmvXmOcMn",
        "colab_type": "text"
      },
      "source": [
        "### Question (model tuning): increase the number of epochs for the training (10 instead of 3)"
      ]
    },
    {
      "cell_type": "code",
      "metadata": {
        "id": "49L3Rv1Rbf0F",
        "colab_type": "code",
        "outputId": "01aee704-ebcb-4a97-b762-f1724bf7f843",
        "colab": {
          "base_uri": "https://localhost:8080/",
          "height": 1000
        }
      },
      "source": [
        "%%time\n",
        "epochs = 10\n",
        "\n",
        "lossv, accv = [], []\n",
        "for epoch in range(1, epochs + 1):\n",
        "    train(model, optimizer, epoch)\n",
        "    validate(model, lossv, accv)"
      ],
      "execution_count": 27,
      "outputs": [
        {
          "output_type": "stream",
          "text": [
            "Train Epoch: 1 [0/60000 (0%)]\tLoss: 0.533468\n",
            "Train Epoch: 1 [6400/60000 (11%)]\tLoss: 0.262451\n",
            "Train Epoch: 1 [12800/60000 (21%)]\tLoss: 0.250248\n",
            "Train Epoch: 1 [19200/60000 (32%)]\tLoss: 0.124032\n",
            "Train Epoch: 1 [25600/60000 (43%)]\tLoss: 0.553450\n",
            "Train Epoch: 1 [32000/60000 (53%)]\tLoss: 0.420737\n",
            "Train Epoch: 1 [38400/60000 (64%)]\tLoss: 0.189371\n",
            "Train Epoch: 1 [44800/60000 (75%)]\tLoss: 0.316960\n",
            "Train Epoch: 1 [51200/60000 (85%)]\tLoss: 0.254160\n",
            "Train Epoch: 1 [57600/60000 (96%)]\tLoss: 0.199123\n",
            "\n",
            "Validation set: Average loss: 0.2547, Accuracy: 9285/10000 (93%)\n",
            "\n",
            "Train Epoch: 2 [0/60000 (0%)]\tLoss: 0.253424\n",
            "Train Epoch: 2 [6400/60000 (11%)]\tLoss: 0.135862\n",
            "Train Epoch: 2 [12800/60000 (21%)]\tLoss: 0.210848\n",
            "Train Epoch: 2 [19200/60000 (32%)]\tLoss: 0.643015\n",
            "Train Epoch: 2 [25600/60000 (43%)]\tLoss: 0.455499\n",
            "Train Epoch: 2 [32000/60000 (53%)]\tLoss: 0.164481\n",
            "Train Epoch: 2 [38400/60000 (64%)]\tLoss: 0.109748\n",
            "Train Epoch: 2 [44800/60000 (75%)]\tLoss: 0.484800\n",
            "Train Epoch: 2 [51200/60000 (85%)]\tLoss: 0.089039\n",
            "Train Epoch: 2 [57600/60000 (96%)]\tLoss: 0.295151\n",
            "\n",
            "Validation set: Average loss: 0.2217, Accuracy: 9363/10000 (94%)\n",
            "\n",
            "Train Epoch: 3 [0/60000 (0%)]\tLoss: 0.209691\n",
            "Train Epoch: 3 [6400/60000 (11%)]\tLoss: 0.306313\n",
            "Train Epoch: 3 [12800/60000 (21%)]\tLoss: 0.116583\n",
            "Train Epoch: 3 [19200/60000 (32%)]\tLoss: 0.706572\n",
            "Train Epoch: 3 [25600/60000 (43%)]\tLoss: 0.242927\n",
            "Train Epoch: 3 [32000/60000 (53%)]\tLoss: 0.073886\n",
            "Train Epoch: 3 [38400/60000 (64%)]\tLoss: 0.078057\n",
            "Train Epoch: 3 [44800/60000 (75%)]\tLoss: 0.438003\n",
            "Train Epoch: 3 [51200/60000 (85%)]\tLoss: 0.225464\n",
            "Train Epoch: 3 [57600/60000 (96%)]\tLoss: 0.246201\n",
            "\n",
            "Validation set: Average loss: 0.2112, Accuracy: 9394/10000 (94%)\n",
            "\n",
            "Train Epoch: 4 [0/60000 (0%)]\tLoss: 0.146961\n",
            "Train Epoch: 4 [6400/60000 (11%)]\tLoss: 0.118089\n",
            "Train Epoch: 4 [12800/60000 (21%)]\tLoss: 0.373049\n",
            "Train Epoch: 4 [19200/60000 (32%)]\tLoss: 0.159353\n",
            "Train Epoch: 4 [25600/60000 (43%)]\tLoss: 0.339647\n",
            "Train Epoch: 4 [32000/60000 (53%)]\tLoss: 0.397081\n",
            "Train Epoch: 4 [38400/60000 (64%)]\tLoss: 0.144128\n",
            "Train Epoch: 4 [44800/60000 (75%)]\tLoss: 0.088436\n",
            "Train Epoch: 4 [51200/60000 (85%)]\tLoss: 0.172608\n",
            "Train Epoch: 4 [57600/60000 (96%)]\tLoss: 0.054498\n",
            "\n",
            "Validation set: Average loss: 0.1940, Accuracy: 9432/10000 (94%)\n",
            "\n",
            "Train Epoch: 5 [0/60000 (0%)]\tLoss: 0.089834\n",
            "Train Epoch: 5 [6400/60000 (11%)]\tLoss: 0.349436\n",
            "Train Epoch: 5 [12800/60000 (21%)]\tLoss: 0.052590\n",
            "Train Epoch: 5 [19200/60000 (32%)]\tLoss: 0.164269\n",
            "Train Epoch: 5 [25600/60000 (43%)]\tLoss: 0.174162\n",
            "Train Epoch: 5 [32000/60000 (53%)]\tLoss: 0.052198\n",
            "Train Epoch: 5 [38400/60000 (64%)]\tLoss: 0.105547\n",
            "Train Epoch: 5 [44800/60000 (75%)]\tLoss: 0.099689\n",
            "Train Epoch: 5 [51200/60000 (85%)]\tLoss: 0.152559\n",
            "Train Epoch: 5 [57600/60000 (96%)]\tLoss: 0.236913\n",
            "\n",
            "Validation set: Average loss: 0.1739, Accuracy: 9498/10000 (95%)\n",
            "\n",
            "Train Epoch: 6 [0/60000 (0%)]\tLoss: 0.176200\n",
            "Train Epoch: 6 [6400/60000 (11%)]\tLoss: 0.323305\n",
            "Train Epoch: 6 [12800/60000 (21%)]\tLoss: 0.172907\n",
            "Train Epoch: 6 [19200/60000 (32%)]\tLoss: 0.022265\n",
            "Train Epoch: 6 [25600/60000 (43%)]\tLoss: 0.122465\n",
            "Train Epoch: 6 [32000/60000 (53%)]\tLoss: 0.100708\n",
            "Train Epoch: 6 [38400/60000 (64%)]\tLoss: 0.479878\n",
            "Train Epoch: 6 [44800/60000 (75%)]\tLoss: 0.096905\n",
            "Train Epoch: 6 [51200/60000 (85%)]\tLoss: 0.049103\n",
            "Train Epoch: 6 [57600/60000 (96%)]\tLoss: 0.249718\n",
            "\n",
            "Validation set: Average loss: 0.1641, Accuracy: 9523/10000 (95%)\n",
            "\n",
            "Train Epoch: 7 [0/60000 (0%)]\tLoss: 0.074693\n",
            "Train Epoch: 7 [6400/60000 (11%)]\tLoss: 0.097236\n",
            "Train Epoch: 7 [12800/60000 (21%)]\tLoss: 0.230839\n",
            "Train Epoch: 7 [19200/60000 (32%)]\tLoss: 0.263132\n",
            "Train Epoch: 7 [25600/60000 (43%)]\tLoss: 0.195869\n",
            "Train Epoch: 7 [32000/60000 (53%)]\tLoss: 0.171569\n",
            "Train Epoch: 7 [38400/60000 (64%)]\tLoss: 0.105762\n",
            "Train Epoch: 7 [44800/60000 (75%)]\tLoss: 0.207063\n",
            "Train Epoch: 7 [51200/60000 (85%)]\tLoss: 0.053909\n",
            "Train Epoch: 7 [57600/60000 (96%)]\tLoss: 0.442630\n",
            "\n",
            "Validation set: Average loss: 0.1597, Accuracy: 9542/10000 (95%)\n",
            "\n",
            "Train Epoch: 8 [0/60000 (0%)]\tLoss: 0.095071\n",
            "Train Epoch: 8 [6400/60000 (11%)]\tLoss: 0.431704\n",
            "Train Epoch: 8 [12800/60000 (21%)]\tLoss: 0.113619\n",
            "Train Epoch: 8 [19200/60000 (32%)]\tLoss: 0.193366\n",
            "Train Epoch: 8 [25600/60000 (43%)]\tLoss: 0.223420\n",
            "Train Epoch: 8 [32000/60000 (53%)]\tLoss: 0.260952\n",
            "Train Epoch: 8 [38400/60000 (64%)]\tLoss: 0.074139\n",
            "Train Epoch: 8 [44800/60000 (75%)]\tLoss: 0.299531\n",
            "Train Epoch: 8 [51200/60000 (85%)]\tLoss: 0.061003\n",
            "Train Epoch: 8 [57600/60000 (96%)]\tLoss: 0.038124\n",
            "\n",
            "Validation set: Average loss: 0.1515, Accuracy: 9553/10000 (96%)\n",
            "\n",
            "Train Epoch: 9 [0/60000 (0%)]\tLoss: 0.127596\n",
            "Train Epoch: 9 [6400/60000 (11%)]\tLoss: 0.020757\n",
            "Train Epoch: 9 [12800/60000 (21%)]\tLoss: 0.381521\n",
            "Train Epoch: 9 [19200/60000 (32%)]\tLoss: 0.229426\n",
            "Train Epoch: 9 [25600/60000 (43%)]\tLoss: 0.181763\n",
            "Train Epoch: 9 [32000/60000 (53%)]\tLoss: 0.135740\n",
            "Train Epoch: 9 [38400/60000 (64%)]\tLoss: 0.112468\n",
            "Train Epoch: 9 [44800/60000 (75%)]\tLoss: 0.069847\n",
            "Train Epoch: 9 [51200/60000 (85%)]\tLoss: 0.096750\n",
            "Train Epoch: 9 [57600/60000 (96%)]\tLoss: 0.157720\n",
            "\n",
            "Validation set: Average loss: 0.1438, Accuracy: 9567/10000 (96%)\n",
            "\n",
            "Train Epoch: 10 [0/60000 (0%)]\tLoss: 0.133019\n",
            "Train Epoch: 10 [6400/60000 (11%)]\tLoss: 0.110187\n",
            "Train Epoch: 10 [12800/60000 (21%)]\tLoss: 0.062580\n",
            "Train Epoch: 10 [19200/60000 (32%)]\tLoss: 0.168074\n",
            "Train Epoch: 10 [25600/60000 (43%)]\tLoss: 0.147508\n",
            "Train Epoch: 10 [32000/60000 (53%)]\tLoss: 0.099202\n",
            "Train Epoch: 10 [38400/60000 (64%)]\tLoss: 0.055838\n",
            "Train Epoch: 10 [44800/60000 (75%)]\tLoss: 0.170391\n",
            "Train Epoch: 10 [51200/60000 (85%)]\tLoss: 0.448163\n",
            "Train Epoch: 10 [57600/60000 (96%)]\tLoss: 0.337717\n",
            "\n",
            "Validation set: Average loss: 0.1380, Accuracy: 9598/10000 (96%)\n",
            "\n",
            "CPU times: user 1min 49s, sys: 1.36 s, total: 1min 51s\n",
            "Wall time: 1min 51s\n"
          ],
          "name": "stdout"
        }
      ]
    },
    {
      "cell_type": "code",
      "metadata": {
        "id": "E7DONev0hNoj",
        "colab_type": "code",
        "outputId": "5ce1ac18-dc3d-433d-f9ec-5dc8cad498f9",
        "colab": {
          "base_uri": "https://localhost:8080/",
          "height": 1000
        }
      },
      "source": [
        "%%time\n",
        "\n",
        "lossvDrop, accvDrop = [], []\n",
        "for epoch in range(1, epochs + 1):\n",
        "    train(modelDrop, optimizerDrop, epoch)\n",
        "    validate(modelDrop, lossvDrop, accvDrop)"
      ],
      "execution_count": 28,
      "outputs": [
        {
          "output_type": "stream",
          "text": [
            "Train Epoch: 1 [0/60000 (0%)]\tLoss: 0.175830\n",
            "Train Epoch: 1 [6400/60000 (11%)]\tLoss: 0.440752\n",
            "Train Epoch: 1 [12800/60000 (21%)]\tLoss: 0.421567\n",
            "Train Epoch: 1 [19200/60000 (32%)]\tLoss: 0.137551\n",
            "Train Epoch: 1 [25600/60000 (43%)]\tLoss: 0.189649\n",
            "Train Epoch: 1 [32000/60000 (53%)]\tLoss: 0.182242\n",
            "Train Epoch: 1 [38400/60000 (64%)]\tLoss: 0.103740\n",
            "Train Epoch: 1 [44800/60000 (75%)]\tLoss: 0.085681\n",
            "Train Epoch: 1 [51200/60000 (85%)]\tLoss: 0.212867\n",
            "Train Epoch: 1 [57600/60000 (96%)]\tLoss: 0.375766\n",
            "\n",
            "Validation set: Average loss: 0.1620, Accuracy: 9502/10000 (95%)\n",
            "\n",
            "Train Epoch: 2 [0/60000 (0%)]\tLoss: 0.099807\n",
            "Train Epoch: 2 [6400/60000 (11%)]\tLoss: 0.054455\n",
            "Train Epoch: 2 [12800/60000 (21%)]\tLoss: 0.171602\n",
            "Train Epoch: 2 [19200/60000 (32%)]\tLoss: 0.204868\n",
            "Train Epoch: 2 [25600/60000 (43%)]\tLoss: 0.151723\n",
            "Train Epoch: 2 [32000/60000 (53%)]\tLoss: 0.109239\n",
            "Train Epoch: 2 [38400/60000 (64%)]\tLoss: 0.154648\n",
            "Train Epoch: 2 [44800/60000 (75%)]\tLoss: 0.038348\n",
            "Train Epoch: 2 [51200/60000 (85%)]\tLoss: 0.091159\n",
            "Train Epoch: 2 [57600/60000 (96%)]\tLoss: 0.179392\n",
            "\n",
            "Validation set: Average loss: 0.1460, Accuracy: 9553/10000 (96%)\n",
            "\n",
            "Train Epoch: 3 [0/60000 (0%)]\tLoss: 0.264501\n",
            "Train Epoch: 3 [6400/60000 (11%)]\tLoss: 0.147056\n",
            "Train Epoch: 3 [12800/60000 (21%)]\tLoss: 0.135949\n",
            "Train Epoch: 3 [19200/60000 (32%)]\tLoss: 0.173343\n",
            "Train Epoch: 3 [25600/60000 (43%)]\tLoss: 0.025211\n",
            "Train Epoch: 3 [32000/60000 (53%)]\tLoss: 0.256428\n",
            "Train Epoch: 3 [38400/60000 (64%)]\tLoss: 0.289533\n",
            "Train Epoch: 3 [44800/60000 (75%)]\tLoss: 0.077807\n",
            "Train Epoch: 3 [51200/60000 (85%)]\tLoss: 0.111982\n",
            "Train Epoch: 3 [57600/60000 (96%)]\tLoss: 0.076870\n",
            "\n",
            "Validation set: Average loss: 0.1363, Accuracy: 9588/10000 (96%)\n",
            "\n",
            "Train Epoch: 4 [0/60000 (0%)]\tLoss: 0.210663\n",
            "Train Epoch: 4 [6400/60000 (11%)]\tLoss: 0.344288\n",
            "Train Epoch: 4 [12800/60000 (21%)]\tLoss: 0.137503\n",
            "Train Epoch: 4 [19200/60000 (32%)]\tLoss: 0.067978\n",
            "Train Epoch: 4 [25600/60000 (43%)]\tLoss: 0.130154\n",
            "Train Epoch: 4 [32000/60000 (53%)]\tLoss: 0.327382\n",
            "Train Epoch: 4 [38400/60000 (64%)]\tLoss: 0.363725\n",
            "Train Epoch: 4 [44800/60000 (75%)]\tLoss: 0.091219\n",
            "Train Epoch: 4 [51200/60000 (85%)]\tLoss: 0.046910\n",
            "Train Epoch: 4 [57600/60000 (96%)]\tLoss: 0.411312\n",
            "\n",
            "Validation set: Average loss: 0.1262, Accuracy: 9610/10000 (96%)\n",
            "\n",
            "Train Epoch: 5 [0/60000 (0%)]\tLoss: 0.098462\n",
            "Train Epoch: 5 [6400/60000 (11%)]\tLoss: 0.082895\n",
            "Train Epoch: 5 [12800/60000 (21%)]\tLoss: 0.113698\n",
            "Train Epoch: 5 [19200/60000 (32%)]\tLoss: 0.049257\n",
            "Train Epoch: 5 [25600/60000 (43%)]\tLoss: 0.058620\n",
            "Train Epoch: 5 [32000/60000 (53%)]\tLoss: 0.130419\n",
            "Train Epoch: 5 [38400/60000 (64%)]\tLoss: 0.286969\n",
            "Train Epoch: 5 [44800/60000 (75%)]\tLoss: 0.146867\n",
            "Train Epoch: 5 [51200/60000 (85%)]\tLoss: 0.163523\n",
            "Train Epoch: 5 [57600/60000 (96%)]\tLoss: 0.074648\n",
            "\n",
            "Validation set: Average loss: 0.1173, Accuracy: 9640/10000 (96%)\n",
            "\n",
            "Train Epoch: 6 [0/60000 (0%)]\tLoss: 0.099356\n",
            "Train Epoch: 6 [6400/60000 (11%)]\tLoss: 0.053915\n",
            "Train Epoch: 6 [12800/60000 (21%)]\tLoss: 0.142023\n",
            "Train Epoch: 6 [19200/60000 (32%)]\tLoss: 0.141265\n",
            "Train Epoch: 6 [25600/60000 (43%)]\tLoss: 0.265057\n",
            "Train Epoch: 6 [32000/60000 (53%)]\tLoss: 0.050215\n",
            "Train Epoch: 6 [38400/60000 (64%)]\tLoss: 0.157705\n",
            "Train Epoch: 6 [44800/60000 (75%)]\tLoss: 0.059494\n",
            "Train Epoch: 6 [51200/60000 (85%)]\tLoss: 0.292975\n",
            "Train Epoch: 6 [57600/60000 (96%)]\tLoss: 0.040733\n",
            "\n",
            "Validation set: Average loss: 0.1121, Accuracy: 9668/10000 (97%)\n",
            "\n",
            "Train Epoch: 7 [0/60000 (0%)]\tLoss: 0.067492\n",
            "Train Epoch: 7 [6400/60000 (11%)]\tLoss: 0.211984\n",
            "Train Epoch: 7 [12800/60000 (21%)]\tLoss: 0.135730\n",
            "Train Epoch: 7 [19200/60000 (32%)]\tLoss: 0.105583\n",
            "Train Epoch: 7 [25600/60000 (43%)]\tLoss: 0.098865\n",
            "Train Epoch: 7 [32000/60000 (53%)]\tLoss: 0.067183\n",
            "Train Epoch: 7 [38400/60000 (64%)]\tLoss: 0.148401\n",
            "Train Epoch: 7 [44800/60000 (75%)]\tLoss: 0.035185\n",
            "Train Epoch: 7 [51200/60000 (85%)]\tLoss: 0.036416\n",
            "Train Epoch: 7 [57600/60000 (96%)]\tLoss: 0.043461\n",
            "\n",
            "Validation set: Average loss: 0.1071, Accuracy: 9664/10000 (97%)\n",
            "\n",
            "Train Epoch: 8 [0/60000 (0%)]\tLoss: 0.146884\n",
            "Train Epoch: 8 [6400/60000 (11%)]\tLoss: 0.057322\n",
            "Train Epoch: 8 [12800/60000 (21%)]\tLoss: 0.177240\n",
            "Train Epoch: 8 [19200/60000 (32%)]\tLoss: 0.130010\n",
            "Train Epoch: 8 [25600/60000 (43%)]\tLoss: 0.294095\n",
            "Train Epoch: 8 [32000/60000 (53%)]\tLoss: 0.057337\n",
            "Train Epoch: 8 [38400/60000 (64%)]\tLoss: 0.023298\n",
            "Train Epoch: 8 [44800/60000 (75%)]\tLoss: 0.173758\n",
            "Train Epoch: 8 [51200/60000 (85%)]\tLoss: 0.043887\n",
            "Train Epoch: 8 [57600/60000 (96%)]\tLoss: 0.116687\n",
            "\n",
            "Validation set: Average loss: 0.1022, Accuracy: 9688/10000 (97%)\n",
            "\n",
            "Train Epoch: 9 [0/60000 (0%)]\tLoss: 0.112781\n",
            "Train Epoch: 9 [6400/60000 (11%)]\tLoss: 0.023603\n",
            "Train Epoch: 9 [12800/60000 (21%)]\tLoss: 0.153123\n",
            "Train Epoch: 9 [19200/60000 (32%)]\tLoss: 0.132317\n",
            "Train Epoch: 9 [25600/60000 (43%)]\tLoss: 0.019292\n",
            "Train Epoch: 9 [32000/60000 (53%)]\tLoss: 0.275558\n",
            "Train Epoch: 9 [38400/60000 (64%)]\tLoss: 0.032479\n",
            "Train Epoch: 9 [44800/60000 (75%)]\tLoss: 0.023717\n",
            "Train Epoch: 9 [51200/60000 (85%)]\tLoss: 0.038305\n",
            "Train Epoch: 9 [57600/60000 (96%)]\tLoss: 0.169600\n",
            "\n",
            "Validation set: Average loss: 0.0978, Accuracy: 9699/10000 (97%)\n",
            "\n",
            "Train Epoch: 10 [0/60000 (0%)]\tLoss: 0.152736\n",
            "Train Epoch: 10 [6400/60000 (11%)]\tLoss: 0.100848\n",
            "Train Epoch: 10 [12800/60000 (21%)]\tLoss: 0.071097\n",
            "Train Epoch: 10 [19200/60000 (32%)]\tLoss: 0.111287\n",
            "Train Epoch: 10 [25600/60000 (43%)]\tLoss: 0.091622\n",
            "Train Epoch: 10 [32000/60000 (53%)]\tLoss: 0.094771\n",
            "Train Epoch: 10 [38400/60000 (64%)]\tLoss: 0.204245\n",
            "Train Epoch: 10 [44800/60000 (75%)]\tLoss: 0.073319\n",
            "Train Epoch: 10 [51200/60000 (85%)]\tLoss: 0.111040\n",
            "Train Epoch: 10 [57600/60000 (96%)]\tLoss: 0.144037\n",
            "\n",
            "Validation set: Average loss: 0.0933, Accuracy: 9719/10000 (97%)\n",
            "\n",
            "CPU times: user 1min 53s, sys: 1.43 s, total: 1min 55s\n",
            "Wall time: 1min 55s\n"
          ],
          "name": "stdout"
        }
      ]
    },
    {
      "cell_type": "code",
      "metadata": {
        "id": "tGG5N0lIP_Pk",
        "colab_type": "code",
        "outputId": "4bfc5ca0-66cd-448a-958d-abae2c421636",
        "colab": {
          "base_uri": "https://localhost:8080/",
          "height": 1000
        }
      },
      "source": [
        "%%time\n",
        "\n",
        "lossvBN, accvBN = [], []\n",
        "for epoch in range(1, epochs + 1):\n",
        "    train(modelBatchNorm, optimizerBatchNorm, epoch)\n",
        "    validate(modelBatchNorm, lossvBN, accvBN)"
      ],
      "execution_count": 29,
      "outputs": [
        {
          "output_type": "stream",
          "text": [
            "Train Epoch: 1 [0/60000 (0%)]\tLoss: 0.070607\n",
            "Train Epoch: 1 [6400/60000 (11%)]\tLoss: 0.005392\n",
            "Train Epoch: 1 [12800/60000 (21%)]\tLoss: 0.032110\n",
            "Train Epoch: 1 [19200/60000 (32%)]\tLoss: 0.018163\n",
            "Train Epoch: 1 [25600/60000 (43%)]\tLoss: 0.010969\n",
            "Train Epoch: 1 [32000/60000 (53%)]\tLoss: 0.018565\n",
            "Train Epoch: 1 [38400/60000 (64%)]\tLoss: 0.025043\n",
            "Train Epoch: 1 [44800/60000 (75%)]\tLoss: 0.022020\n",
            "Train Epoch: 1 [51200/60000 (85%)]\tLoss: 0.126408\n",
            "Train Epoch: 1 [57600/60000 (96%)]\tLoss: 0.068242\n",
            "\n",
            "Validation set: Average loss: 0.0664, Accuracy: 9786/10000 (98%)\n",
            "\n",
            "Train Epoch: 2 [0/60000 (0%)]\tLoss: 0.009179\n",
            "Train Epoch: 2 [6400/60000 (11%)]\tLoss: 0.157844\n",
            "Train Epoch: 2 [12800/60000 (21%)]\tLoss: 0.003591\n",
            "Train Epoch: 2 [19200/60000 (32%)]\tLoss: 0.003342\n",
            "Train Epoch: 2 [25600/60000 (43%)]\tLoss: 0.016747\n",
            "Train Epoch: 2 [32000/60000 (53%)]\tLoss: 0.022635\n",
            "Train Epoch: 2 [38400/60000 (64%)]\tLoss: 0.015810\n",
            "Train Epoch: 2 [44800/60000 (75%)]\tLoss: 0.029343\n",
            "Train Epoch: 2 [51200/60000 (85%)]\tLoss: 0.055077\n",
            "Train Epoch: 2 [57600/60000 (96%)]\tLoss: 0.004148\n",
            "\n",
            "Validation set: Average loss: 0.0637, Accuracy: 9799/10000 (98%)\n",
            "\n",
            "Train Epoch: 3 [0/60000 (0%)]\tLoss: 0.057293\n",
            "Train Epoch: 3 [6400/60000 (11%)]\tLoss: 0.069842\n",
            "Train Epoch: 3 [12800/60000 (21%)]\tLoss: 0.149021\n",
            "Train Epoch: 3 [19200/60000 (32%)]\tLoss: 0.003941\n",
            "Train Epoch: 3 [25600/60000 (43%)]\tLoss: 0.007523\n",
            "Train Epoch: 3 [32000/60000 (53%)]\tLoss: 0.031598\n",
            "Train Epoch: 3 [38400/60000 (64%)]\tLoss: 0.087293\n",
            "Train Epoch: 3 [44800/60000 (75%)]\tLoss: 0.011835\n",
            "Train Epoch: 3 [51200/60000 (85%)]\tLoss: 0.024785\n",
            "Train Epoch: 3 [57600/60000 (96%)]\tLoss: 0.011975\n",
            "\n",
            "Validation set: Average loss: 0.0623, Accuracy: 9806/10000 (98%)\n",
            "\n",
            "Train Epoch: 4 [0/60000 (0%)]\tLoss: 0.081535\n",
            "Train Epoch: 4 [6400/60000 (11%)]\tLoss: 0.024194\n",
            "Train Epoch: 4 [12800/60000 (21%)]\tLoss: 0.029471\n",
            "Train Epoch: 4 [19200/60000 (32%)]\tLoss: 0.013832\n",
            "Train Epoch: 4 [25600/60000 (43%)]\tLoss: 0.027465\n",
            "Train Epoch: 4 [32000/60000 (53%)]\tLoss: 0.078010\n",
            "Train Epoch: 4 [38400/60000 (64%)]\tLoss: 0.001868\n",
            "Train Epoch: 4 [44800/60000 (75%)]\tLoss: 0.040443\n",
            "Train Epoch: 4 [51200/60000 (85%)]\tLoss: 0.154477\n",
            "Train Epoch: 4 [57600/60000 (96%)]\tLoss: 0.014439\n",
            "\n",
            "Validation set: Average loss: 0.0681, Accuracy: 9798/10000 (98%)\n",
            "\n",
            "Train Epoch: 5 [0/60000 (0%)]\tLoss: 0.006576\n",
            "Train Epoch: 5 [6400/60000 (11%)]\tLoss: 0.021760\n",
            "Train Epoch: 5 [12800/60000 (21%)]\tLoss: 0.007211\n",
            "Train Epoch: 5 [19200/60000 (32%)]\tLoss: 0.036692\n",
            "Train Epoch: 5 [25600/60000 (43%)]\tLoss: 0.013309\n",
            "Train Epoch: 5 [32000/60000 (53%)]\tLoss: 0.006564\n",
            "Train Epoch: 5 [38400/60000 (64%)]\tLoss: 0.047763\n",
            "Train Epoch: 5 [44800/60000 (75%)]\tLoss: 0.069294\n",
            "Train Epoch: 5 [51200/60000 (85%)]\tLoss: 0.001471\n",
            "Train Epoch: 5 [57600/60000 (96%)]\tLoss: 0.008101\n",
            "\n",
            "Validation set: Average loss: 0.0750, Accuracy: 9816/10000 (98%)\n",
            "\n",
            "Train Epoch: 6 [0/60000 (0%)]\tLoss: 0.005867\n",
            "Train Epoch: 6 [6400/60000 (11%)]\tLoss: 0.006993\n",
            "Train Epoch: 6 [12800/60000 (21%)]\tLoss: 0.007804\n",
            "Train Epoch: 6 [19200/60000 (32%)]\tLoss: 0.006325\n",
            "Train Epoch: 6 [25600/60000 (43%)]\tLoss: 0.103167\n",
            "Train Epoch: 6 [32000/60000 (53%)]\tLoss: 0.012300\n",
            "Train Epoch: 6 [38400/60000 (64%)]\tLoss: 0.014164\n",
            "Train Epoch: 6 [44800/60000 (75%)]\tLoss: 0.042947\n",
            "Train Epoch: 6 [51200/60000 (85%)]\tLoss: 0.109542\n",
            "Train Epoch: 6 [57600/60000 (96%)]\tLoss: 0.016824\n",
            "\n",
            "Validation set: Average loss: 0.0584, Accuracy: 9826/10000 (98%)\n",
            "\n",
            "Train Epoch: 7 [0/60000 (0%)]\tLoss: 0.033111\n",
            "Train Epoch: 7 [6400/60000 (11%)]\tLoss: 0.009162\n",
            "Train Epoch: 7 [12800/60000 (21%)]\tLoss: 0.003240\n",
            "Train Epoch: 7 [19200/60000 (32%)]\tLoss: 0.004363\n",
            "Train Epoch: 7 [25600/60000 (43%)]\tLoss: 0.049986\n",
            "Train Epoch: 7 [32000/60000 (53%)]\tLoss: 0.005001\n",
            "Train Epoch: 7 [38400/60000 (64%)]\tLoss: 0.001375\n",
            "Train Epoch: 7 [44800/60000 (75%)]\tLoss: 0.012421\n",
            "Train Epoch: 7 [51200/60000 (85%)]\tLoss: 0.120454\n",
            "Train Epoch: 7 [57600/60000 (96%)]\tLoss: 0.025968\n",
            "\n",
            "Validation set: Average loss: 0.0598, Accuracy: 9823/10000 (98%)\n",
            "\n",
            "Train Epoch: 8 [0/60000 (0%)]\tLoss: 0.035301\n",
            "Train Epoch: 8 [6400/60000 (11%)]\tLoss: 0.004648\n",
            "Train Epoch: 8 [12800/60000 (21%)]\tLoss: 0.011056\n",
            "Train Epoch: 8 [19200/60000 (32%)]\tLoss: 0.003616\n",
            "Train Epoch: 8 [25600/60000 (43%)]\tLoss: 0.020483\n",
            "Train Epoch: 8 [32000/60000 (53%)]\tLoss: 0.023285\n",
            "Train Epoch: 8 [38400/60000 (64%)]\tLoss: 0.001061\n",
            "Train Epoch: 8 [44800/60000 (75%)]\tLoss: 0.002950\n",
            "Train Epoch: 8 [51200/60000 (85%)]\tLoss: 0.063894\n",
            "Train Epoch: 8 [57600/60000 (96%)]\tLoss: 0.081765\n",
            "\n",
            "Validation set: Average loss: 0.0597, Accuracy: 9830/10000 (98%)\n",
            "\n",
            "Train Epoch: 9 [0/60000 (0%)]\tLoss: 0.044283\n",
            "Train Epoch: 9 [6400/60000 (11%)]\tLoss: 0.003838\n",
            "Train Epoch: 9 [12800/60000 (21%)]\tLoss: 0.011204\n",
            "Train Epoch: 9 [19200/60000 (32%)]\tLoss: 0.000892\n",
            "Train Epoch: 9 [25600/60000 (43%)]\tLoss: 0.010574\n",
            "Train Epoch: 9 [32000/60000 (53%)]\tLoss: 0.000693\n",
            "Train Epoch: 9 [38400/60000 (64%)]\tLoss: 0.001060\n",
            "Train Epoch: 9 [44800/60000 (75%)]\tLoss: 0.002740\n",
            "Train Epoch: 9 [51200/60000 (85%)]\tLoss: 0.063180\n",
            "Train Epoch: 9 [57600/60000 (96%)]\tLoss: 0.001937\n",
            "\n",
            "Validation set: Average loss: 0.0621, Accuracy: 9820/10000 (98%)\n",
            "\n",
            "Train Epoch: 10 [0/60000 (0%)]\tLoss: 0.009939\n",
            "Train Epoch: 10 [6400/60000 (11%)]\tLoss: 0.000597\n",
            "Train Epoch: 10 [12800/60000 (21%)]\tLoss: 0.002163\n",
            "Train Epoch: 10 [19200/60000 (32%)]\tLoss: 0.003587\n",
            "Train Epoch: 10 [25600/60000 (43%)]\tLoss: 0.002788\n",
            "Train Epoch: 10 [32000/60000 (53%)]\tLoss: 0.015652\n",
            "Train Epoch: 10 [38400/60000 (64%)]\tLoss: 0.002601\n",
            "Train Epoch: 10 [44800/60000 (75%)]\tLoss: 0.015259\n",
            "Train Epoch: 10 [51200/60000 (85%)]\tLoss: 0.036068\n",
            "Train Epoch: 10 [57600/60000 (96%)]\tLoss: 0.114584\n",
            "\n",
            "Validation set: Average loss: 0.0614, Accuracy: 9825/10000 (98%)\n",
            "\n",
            "CPU times: user 2min 2s, sys: 1.41 s, total: 2min 3s\n",
            "Wall time: 2min 4s\n"
          ],
          "name": "stdout"
        }
      ]
    },
    {
      "cell_type": "code",
      "metadata": {
        "id": "FY7Cbj2dbko2",
        "colab_type": "code",
        "outputId": "6232c277-830b-463e-bca7-43c60e410f50",
        "colab": {
          "base_uri": "https://localhost:8080/",
          "height": 465
        }
      },
      "source": [
        "plt.figure(figsize=(5,3))\n",
        "plt.plot(np.arange(1,epochs+1), lossv, label='no dropout')\n",
        "plt.plot(np.arange(1,epochs+1), lossvDrop, label='with dropout')\n",
        "plt.plot(np.arange(1,epochs+1), lossvBN, label='with batchnormalization')\n",
        "plt.legend(loc='upper left');\n",
        "plt.xlabel('epoch')\n",
        "plt.title('validation loss')\n",
        "plt.show()\n",
        "\n",
        "plt.figure(figsize=(5,3))\n",
        "plt.plot(np.arange(1,epochs+1), accv, label='no dropout')\n",
        "plt.plot(np.arange(1,epochs+1), accvDrop, label='with dropout')\n",
        "plt.plot(np.arange(1,epochs+1), accvBN, label='with batchnormalization')\n",
        "plt.legend(loc='upper left');\n",
        "plt.xlabel('epoch')\n",
        "plt.title('validation accuracy');"
      ],
      "execution_count": 30,
      "outputs": [
        {
          "output_type": "display_data",
          "data": {
            "image/png": "[encoded data removed]",
            "text/plain": [
              "<Figure size 360x216 with 1 Axes>"
            ]
          },
          "metadata": {
            "tags": []
          }
        },
        {
          "output_type": "display_data",
          "data": {
            "image/png": "[encoded data removed]",
            "text/plain": [
              "<Figure size 360x216 with 1 Axes>"
            ]
          },
          "metadata": {
            "tags": []
          }
        }
      ]
    },
    {
      "cell_type": "markdown",
      "metadata": {
        "id": "r1iJp5WlP_pp",
        "colab_type": "text"
      },
      "source": [
        "### Question: Try a model using convolution layer"
      ]
    },
    {
      "cell_type": "code",
      "metadata": {
        "id": "EH1YkpqyQJKG",
        "colab_type": "code",
        "outputId": "bfb7c5bc-3e4b-4fb3-b00e-fdff4347a084",
        "colab": {
          "base_uri": "https://localhost:8080/",
          "height": 119
        }
      },
      "source": [
        "D_in = 28*28 # images with 28*28\n",
        "D_out = 10 # 10 classes\n",
        "class ConvNet(nn.Module):\n",
        "\n",
        "    def __init__(self):\n",
        "        super(ConvNet, self).__init__()\n",
        "        \n",
        "        self.conv1 = nn.Conv2d(1, 3, 5)\n",
        "        self.pool = nn.MaxPool2d(2,2)\n",
        "        self.linear1 = nn.Linear(12*12*3, 12) \n",
        "        self.linear2 = nn.Linear(12, D_out)\n",
        "        \n",
        "    def forward(self, x):\n",
        "\n",
        "        x = F.relu(self.conv1(x))\n",
        "        x = self.pool(x)\n",
        "        x = x.view(-1, 12 * 12 * 3)\n",
        "        x = self.linear1(x)\n",
        "        x = F.relu(x)\n",
        "        x = F.log_softmax(self.linear2(x),dim=1)\n",
        "        return x\n",
        "\n",
        "cnn_model = ConvNet().to(device)\n",
        "optimizer_cnn = torch.optim.SGD(cnn_model.parameters(), lr=0.01, momentum=0.)\n",
        "criterion = nn.CrossEntropyLoss()\n",
        "\n",
        "print(cnn_model)"
      ],
      "execution_count": 31,
      "outputs": [
        {
          "output_type": "stream",
          "text": [
            "ConvNet(\n",
            "  (conv1): Conv2d(1, 3, kernel_size=(5, 5), stride=(1, 1))\n",
            "  (pool): MaxPool2d(kernel_size=2, stride=2, padding=0, dilation=1, ceil_mode=False)\n",
            "  (linear1): Linear(in_features=432, out_features=12, bias=True)\n",
            "  (linear2): Linear(in_features=12, out_features=10, bias=True)\n",
            ")\n"
          ],
          "name": "stdout"
        }
      ]
    },
    {
      "cell_type": "code",
      "metadata": {
        "id": "vXIA-xJUxltX",
        "colab_type": "code",
        "outputId": "f81759a1-e217-44f9-9986-ca1c4345288e",
        "colab": {
          "base_uri": "https://localhost:8080/",
          "height": 34
        }
      },
      "source": [
        "  for epoch in range(1, epochs + 1):  # loop over the dataset multiple times\n",
        "\n",
        "    running_loss = 0.0\n",
        "    for i, data in enumerate(train_loader, 0):\n",
        "        # get the inputs; data is a list of [inputs, labels]\n",
        "        inputs, labels = data\n",
        "\n",
        "        inputs = inputs.to(device)\n",
        "        labels = labels.to(device)\n",
        "\n",
        "        # zero the parameter gradients\n",
        "        optimizer_cnn.zero_grad()\n",
        "\n",
        "        # forward + backward + optimize\n",
        "        outputs = cnn_model(inputs)                 # calculate y\n",
        "        loss = criterion(outputs, labels)     # calculate the loss\n",
        "        loss.backward()                       # update the gradient\n",
        "        optimizer_cnn.step()                      # SGD to find the optimal parameters\n",
        "        \n",
        "print('Finished Training')"
      ],
      "execution_count": 32,
      "outputs": [
        {
          "output_type": "stream",
          "text": [
            "Finished Training\n"
          ],
          "name": "stdout"
        }
      ]
    },
    {
      "cell_type": "code",
      "metadata": {
        "colab_type": "code",
        "id": "al1oB_I0yBM1",
        "outputId": "1955b37f-9a61-427d-df5e-81261e13bf51",
        "colab": {
          "base_uri": "https://localhost:8080/",
          "height": 68
        }
      },
      "source": [
        "val_loss, correct = 0, 0\n",
        "loss_vector_cnn, accuracy_vector_cnn = [], []\n",
        "for data, target in validation_loader:\n",
        "    data = data.to(device)\n",
        "    target = target.to(device)\n",
        "    output = cnn_model(data)\n",
        "    val_loss += criterion(output, target).data.item()\n",
        "    pred = output.data.max(1)[1] # get the index of the max log-probability\n",
        "    correct += pred.eq(target.data).cpu().sum()\n",
        "\n",
        "val_loss /= len(validation_loader)\n",
        "loss_vector_cnn.append(val_loss)\n",
        "\n",
        "accuracy = 100. * correct.to(torch.float32) / len(validation_loader.dataset)\n",
        "accuracy_vector_cnn.append(accuracy)\n",
        "    \n",
        "print('\\nValidation set: Average loss: {:.4f}, Accuracy: {}/{} ({:.0f}%)\\n'.format(\n",
        "    val_loss, correct, len(validation_loader.dataset), accuracy))\n"
      ],
      "execution_count": 33,
      "outputs": [
        {
          "output_type": "stream",
          "text": [
            "\n",
            "Validation set: Average loss: 0.1274, Accuracy: 9624/10000 (96%)\n",
            "\n"
          ],
          "name": "stdout"
        }
      ]
    },
    {
      "cell_type": "code",
      "metadata": {
        "id": "_4jdN0iT6pjK",
        "colab_type": "code",
        "outputId": "0c89ca8d-0e7a-4c08-9318-0d37b97d283d",
        "colab": {
          "base_uri": "https://localhost:8080/",
          "height": 119
        }
      },
      "source": [
        "for parameter in cnn_model.parameters():\n",
        "    print(parameter.size())"
      ],
      "execution_count": 38,
      "outputs": [
        {
          "output_type": "stream",
          "text": [
            "torch.Size([3, 1, 5, 5])\n",
            "torch.Size([3])\n",
            "torch.Size([12, 432])\n",
            "torch.Size([12])\n",
            "torch.Size([10, 12])\n",
            "torch.Size([10])\n"
          ],
          "name": "stdout"
        }
      ]
    },
    {
      "cell_type": "code",
      "metadata": {
        "id": "UURKS9rEa2HW",
        "colab_type": "code",
        "colab": {
          "base_uri": "https://localhost:8080/",
          "height": 119
        },
        "outputId": "c3d6c08b-5e08-4d56-9e4d-cc3ae9f0d837"
      },
      "source": [
        "for parameter in model.parameters():\n",
        "    print(parameter.size())"
      ],
      "execution_count": 39,
      "outputs": [
        {
          "output_type": "stream",
          "text": [
            "torch.Size([50, 784])\n",
            "torch.Size([50])\n",
            "torch.Size([50, 50])\n",
            "torch.Size([50])\n",
            "torch.Size([10, 50])\n",
            "torch.Size([10])\n"
          ],
          "name": "stdout"
        }
      ]
    },
    {
      "cell_type": "markdown",
      "metadata": {
        "id": "l3KIGEgFbyeU",
        "colab_type": "text"
      },
      "source": [
        "**Remark:** Using a CNN we lost 2 points in accuracym but reduced the computations, as we can see we have less parameters."
      ]
    }
  ]
}