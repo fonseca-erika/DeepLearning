{
  "nbformat": 4,
  "nbformat_minor": 0,
  "metadata": {
    "kernelspec": {
      "name": "python3",
      "display_name": "Python 3"
    },
    "language_info": {
      "codemirror_mode": {
        "name": "ipython",
        "version": 3
      },
      "file_extension": ".py",
      "mimetype": "text/x-python",
      "name": "python",
      "nbconvert_exporter": "python",
      "pygments_lexer": "ipython3",
      "version": "3.7.3"
    },
    "colab": {
      "name": "DSTI_DL_Lab05_March2020_Deep_Neural_Network.ipynb",
      "provenance": [],
      "collapsed_sections": [],
      "toc_visible": true
    }
  },
  "cells": [
    {
      "cell_type": "markdown",
      "metadata": {
        "id": "BPbtmfqMqsVj",
        "colab_type": "text"
      },
      "source": [
        "# Function approximation with a deep neural network"
      ]
    },
    {
      "cell_type": "markdown",
      "metadata": {
        "id": "lA-dG5TvNT9U",
        "colab_type": "text"
      },
      "source": [
        "## Quartic function and training dataset"
      ]
    },
    {
      "cell_type": "markdown",
      "metadata": {
        "id": "Ze4-03KGq2Gx",
        "colab_type": "text"
      },
      "source": [
        "In algebra, a quartic function is a function of the form\n",
        "$$\n",
        "f(t)=at^{4}+bt^{3}+ct^{2}+dt+e,\n",
        "$$\n",
        "where $a$ is nonzero, which is defined by a polynomial of degree four, called a quartic polynomial."
      ]
    },
    {
      "cell_type": "code",
      "metadata": {
        "id": "XSxuWuabouDj",
        "colab_type": "code",
        "colab": {}
      },
      "source": [
        "%matplotlib inline\n",
        "import numpy as np\n",
        "import matplotlib.pyplot as plt\n",
        "import torch\n"
      ],
      "execution_count": 0,
      "outputs": []
    },
    {
      "cell_type": "markdown",
      "metadata": {
        "id": "uYRSPAtGouDo",
        "colab_type": "text"
      },
      "source": [
        "Define and plot a quartic function"
      ]
    },
    {
      "cell_type": "code",
      "metadata": {
        "id": "JhCmQNviouDu",
        "colab_type": "code",
        "colab": {}
      },
      "source": [
        "D_in = 1\n",
        "D_out = 1\n",
        "\n",
        "# Create random Tensors to hold inputs and outputs\n",
        "x = torch.arange(-9,3.5,0.1).view(-1,1) #(-5,3.5,0.1)\n",
        "y = x**4 + 2*x**3 - 12*x**2 -2*x + 6\n",
        "y = torch.where(x < -5, torch.zeros_like(x), y)\n",
        "N = x.shape[0]"
      ],
      "execution_count": 0,
      "outputs": []
    },
    {
      "cell_type": "code",
      "metadata": {
        "id": "8Upa4fCuouD5",
        "colab_type": "code",
        "outputId": "db74fb7c-494e-408a-e244-98f6a6ccea97",
        "colab": {
          "base_uri": "https://localhost:8080/",
          "height": 51
        }
      },
      "source": [
        "print(x.size())\n",
        "print(y.size())\n"
      ],
      "execution_count": 16,
      "outputs": [
        {
          "output_type": "stream",
          "text": [
            "torch.Size([125, 1])\n",
            "torch.Size([125, 1])\n"
          ],
          "name": "stdout"
        }
      ]
    },
    {
      "cell_type": "markdown",
      "metadata": {
        "id": "IY7bxmOpsRYq",
        "colab_type": "text"
      },
      "source": [
        "Converting Torch Tensor to NumPy Array for plotting the function"
      ]
    },
    {
      "cell_type": "code",
      "metadata": {
        "id": "L80Arv5FuLj-",
        "colab_type": "code",
        "outputId": "8708e854-58a3-4ad9-bf29-dc9cd236cc0c",
        "colab": {
          "base_uri": "https://localhost:8080/",
          "height": 279
        }
      },
      "source": [
        "fig, ax = plt.subplots()\n",
        "plt.plot(x.numpy(), y.numpy(),'r-',label='Quartic function')\n",
        "plt.xlabel('$x$')\n",
        "plt.ylabel('$f(x)$')\n",
        "plt.show()\n",
        "ax.legend()\n",
        "plt.show()"
      ],
      "execution_count": 17,
      "outputs": [
        {
          "output_type": "display_data",
          "data": {
            "image/png": "[encoded data removed]",
            "text/plain": [
              "<Figure size 432x288 with 1 Axes>"
            ]
          },
          "metadata": {
            "tags": []
          }
        }
      ]
    },
    {
      "cell_type": "markdown",
      "metadata": {
        "id": "vI35l73mNZ0w",
        "colab_type": "text"
      },
      "source": [
        "## Approximation with a deep neural network"
      ]
    },
    {
      "cell_type": "markdown",
      "metadata": {
        "id": "8tJWe_-W1khM",
        "colab_type": "text"
      },
      "source": [
        "### Question: code a deep neural network to approximate the function. The network will have 3 full-connected layers (followed by a ReLU activation function) and a final full-connected layer without any activation function. You will use the Adam optimizer. Choose the most appropriate loss function. You must compute the loss at each epoch."
      ]
    },
    {
      "cell_type": "code",
      "metadata": {
        "id": "IWija8I3ouDy",
        "colab_type": "code",
        "outputId": "d10aec64-8209-4bbc-fd53-a8d0d14babb6",
        "colab": {
          "base_uri": "https://localhost:8080/",
          "height": 221
        }
      },
      "source": [
        "# Complete this cell: model and training\n",
        "\n",
        "%time\n",
        "Niter = 10000\n",
        "H1 = 50\n",
        "H2 = 40\n",
        "H3 = 20\n",
        "\n",
        "x.requires_grad_(True)\n",
        "\n",
        "# Use the nn package to define our model and loss function.\n",
        "model = torch.nn.Sequential(\n",
        "    torch.nn.Linear(D_in, H1),\n",
        "    torch.nn.ReLU(),\n",
        "    torch.nn.Linear(H1, H2),\n",
        "    torch.nn.ReLU(),\n",
        "    torch.nn.Linear(H2, H3),  \n",
        "    torch.nn.ReLU(),\n",
        "    torch.nn.Linear(H3, D_out)\n",
        ")\n",
        "\n",
        "saveLoss = np.zeros(Niter)\n",
        "loss_fn = torch.nn.MSELoss(reduction='mean')\n",
        "\n",
        "# Use the optim package to define an Optimizer that will update the weights of\n",
        "# the model for us. Here we will use Adam; the optim package contains many other\n",
        "# optimization algoriths. The first argument to the Adam constructor tells the\n",
        "# optimizer which Tensors it should update.\n",
        "learning_rate = 1e-3\n",
        "\n",
        "optimizer = torch.optim.Adam(model.parameters(), lr=learning_rate)\n",
        "\n",
        "for t in range(Niter):\n",
        "\n",
        "    # Forward pass: compute predicted y by passing x to the model.\n",
        "    y_pred = model(x)\n",
        "\n",
        "    # Compute and print loss.\n",
        "    loss = loss_fn(y_pred, y)\n",
        "    saveLoss[t] = loss.item()\n",
        "    if t % 1000 == 0:\n",
        "        # Print Loss\n",
        "        print('Iteration: {}. Loss: {}.'.format(iter, loss.item()))\n",
        "\n",
        "    optimizer.zero_grad()\n",
        "    \n",
        "    #Backward\n",
        "    loss.backward()\n",
        "    optimizer.step()    \n"
      ],
      "execution_count": 18,
      "outputs": [
        {
          "output_type": "stream",
          "text": [
            "CPU times: user 3 µs, sys: 0 ns, total: 3 µs\n",
            "Wall time: 6.68 µs\n",
            "Iteration: <built-in function iter>. Loss: 948.439697265625.\n",
            "Iteration: <built-in function iter>. Loss: 74.92158508300781.\n",
            "Iteration: <built-in function iter>. Loss: 21.23672103881836.\n",
            "Iteration: <built-in function iter>. Loss: 7.411784648895264.\n",
            "Iteration: <built-in function iter>. Loss: 0.6711149215698242.\n",
            "Iteration: <built-in function iter>. Loss: 0.2585134208202362.\n",
            "Iteration: <built-in function iter>. Loss: 0.12378253787755966.\n",
            "Iteration: <built-in function iter>. Loss: 0.06133127585053444.\n",
            "Iteration: <built-in function iter>. Loss: 0.21618150174617767.\n",
            "Iteration: <built-in function iter>. Loss: 0.03235378861427307.\n"
          ],
          "name": "stdout"
        }
      ]
    },
    {
      "cell_type": "markdown",
      "metadata": {
        "id": "VW-RbXaP2OrE",
        "colab_type": "text"
      },
      "source": [
        "Plot the training error as a function of the epoch"
      ]
    },
    {
      "cell_type": "code",
      "metadata": {
        "id": "aam3YN7VouD-",
        "colab_type": "code",
        "outputId": "e28ecdec-0db3-4ede-ff7a-2b9a8b12129c",
        "colab": {
          "base_uri": "https://localhost:8080/",
          "height": 279
        }
      },
      "source": [
        "fig, ax = plt.subplots()\n",
        "plt.plot(range(Niter),saveLoss,'b-',label='Training error')\n",
        "plt.xlabel('Epoch')\n",
        "plt.ylabel('MSE')\n",
        "plt.plot(saveLoss)\n",
        "ax.legend()\n",
        "plt.show()"
      ],
      "execution_count": 19,
      "outputs": [
        {
          "output_type": "display_data",
          "data": {
            "image/png": "[encoded data removed]",
            "text/plain": [
              "<Figure size 432x288 with 1 Axes>"
            ]
          },
          "metadata": {
            "tags": []
          }
        }
      ]
    },
    {
      "cell_type": "markdown",
      "metadata": {
        "id": "FnjcbWrJ0CV3",
        "colab_type": "text"
      },
      "source": [
        "### Question: plot on the same graph the quartic function and its approximation"
      ]
    },
    {
      "cell_type": "code",
      "metadata": {
        "scrolled": true,
        "id": "AnvnNn-touEB",
        "colab_type": "code",
        "outputId": "01fe122e-5c89-4a3e-f4b6-c24ad91699f6",
        "colab": {
          "base_uri": "https://localhost:8080/",
          "height": 295
        }
      },
      "source": [
        "# Complete this cell\n",
        "\n",
        "plt.figure(figsize=(6, 4))\n",
        "plt.plot(y.detach().numpy(),'b-')\n",
        "plt.plot(y_pred.detach().numpy(),'r-*')\n",
        "plt.xlabel('$x$')\n",
        "plt.ylabel('$y$')\n",
        "plt.title('Approximation with the neural network')\n",
        "plt.show()"
      ],
      "execution_count": 20,
      "outputs": [
        {
          "output_type": "display_data",
          "data": {
            "image/png": "[encoded data removed]",
            "text/plain": [
              "<Figure size 432x288 with 1 Axes>"
            ]
          },
          "metadata": {
            "tags": []
          }
        }
      ]
    },
    {
      "cell_type": "markdown",
      "metadata": {
        "id": "_MpXhTY1rwGE",
        "colab_type": "text"
      },
      "source": [
        "How many parameters?"
      ]
    },
    {
      "cell_type": "code",
      "metadata": {
        "id": "OhpZsJxeouD1",
        "colab_type": "code",
        "colab": {}
      },
      "source": [
        "# Function to count the number of parameters\n",
        "def count_parameters(model):\n",
        "    return sum(p.numel() for p in model.parameters() if p.requires_grad)\n"
      ],
      "execution_count": 0,
      "outputs": []
    },
    {
      "cell_type": "code",
      "metadata": {
        "id": "xsEJhkeUr107",
        "colab_type": "code",
        "outputId": "d0782ef8-cee3-44fc-b6ce-d6f24eb9165b",
        "colab": {
          "base_uri": "https://localhost:8080/",
          "height": 221
        }
      },
      "source": [
        "print(model.parameters)\n",
        "print(\"\\nTotal number of parameters {}\\n\".format(count_parameters(model)))"
      ],
      "execution_count": 22,
      "outputs": [
        {
          "output_type": "stream",
          "text": [
            "<bound method Module.parameters of Sequential(\n",
            "  (0): Linear(in_features=1, out_features=50, bias=True)\n",
            "  (1): ReLU()\n",
            "  (2): Linear(in_features=50, out_features=40, bias=True)\n",
            "  (3): ReLU()\n",
            "  (4): Linear(in_features=40, out_features=20, bias=True)\n",
            "  (5): ReLU()\n",
            "  (6): Linear(in_features=20, out_features=1, bias=True)\n",
            ")>\n",
            "\n",
            "Total number of parameters 2981\n",
            "\n"
          ],
          "name": "stdout"
        }
      ]
    },
    {
      "cell_type": "markdown",
      "metadata": {
        "id": "uRKKUiGMMAGL",
        "colab_type": "text"
      },
      "source": [
        "Print all the parameters (just for seeing them)"
      ]
    },
    {
      "cell_type": "code",
      "metadata": {
        "id": "hstPktpFLuYl",
        "colab_type": "code",
        "outputId": "793c7374-36ef-4d0e-d468-9390cf516b08",
        "colab": {
          "base_uri": "https://localhost:8080/",
          "height": 1000
        }
      },
      "source": [
        "for parameter in model.parameters():\n",
        "    print(parameter)"
      ],
      "execution_count": 23,
      "outputs": [
        {
          "output_type": "stream",
          "text": [
            "Parameter containing:\n",
            "tensor([[-1.4379e-01],\n",
            "        [ 2.0061e-01],\n",
            "        [ 2.0493e-02],\n",
            "        [ 1.4720e-03],\n",
            "        [ 7.4357e-01],\n",
            "        [-1.1018e+00],\n",
            "        [-3.3161e-01],\n",
            "        [-4.3613e-01],\n",
            "        [ 1.1552e+00],\n",
            "        [-1.6675e-01],\n",
            "        [ 8.7479e-03],\n",
            "        [ 4.3677e-01],\n",
            "        [ 2.2742e-01],\n",
            "        [ 1.1072e+00],\n",
            "        [ 4.5268e-02],\n",
            "        [ 3.2711e-01],\n",
            "        [-5.8035e-01],\n",
            "        [-1.3952e+00],\n",
            "        [-1.0102e+00],\n",
            "        [-5.4382e-01],\n",
            "        [ 3.0222e-01],\n",
            "        [ 1.4871e+00],\n",
            "        [ 5.2394e-01],\n",
            "        [ 1.4740e+00],\n",
            "        [ 2.2557e-01],\n",
            "        [-9.5683e-02],\n",
            "        [-4.9756e-01],\n",
            "        [-8.0204e-01],\n",
            "        [ 4.1183e-01],\n",
            "        [-1.9688e-01],\n",
            "        [-1.3456e+00],\n",
            "        [ 5.7919e-01],\n",
            "        [ 1.9636e-01],\n",
            "        [ 1.3894e-01],\n",
            "        [-8.2957e-01],\n",
            "        [-6.3451e-01],\n",
            "        [ 3.0161e-01],\n",
            "        [-1.2437e+00],\n",
            "        [-4.0047e-02],\n",
            "        [-1.3225e+00],\n",
            "        [ 1.3536e+00],\n",
            "        [ 7.8056e-01],\n",
            "        [ 3.0630e-01],\n",
            "        [-1.2792e+00],\n",
            "        [-1.2634e+00],\n",
            "        [-4.1348e-01],\n",
            "        [-1.1891e+00],\n",
            "        [ 8.5025e-01],\n",
            "        [-6.9812e-01],\n",
            "        [-1.2220e+00]], requires_grad=True)\n",
            "Parameter containing:\n",
            "tensor([ 1.5001,  1.8228,  2.0666, -0.3079, -1.2642, -1.2976, -1.5202,  0.8518,\n",
            "        -0.8723,  1.8568,  1.7833,  1.1577,  2.0541, -0.4742, -0.5814, -0.8418,\n",
            "         1.5653, -1.2092, -1.9735, -1.9847,  2.1924, -0.0622, -1.2380,  0.5765,\n",
            "        -0.9021,  2.2085, -1.3535,  1.3797,  1.4475,  1.8544, -1.8192,  0.8990,\n",
            "         1.7761,  1.5779, -1.4782,  1.7122, -0.7724, -1.9986,  2.0661, -0.4974,\n",
            "         1.0229, -1.2410, -0.8263, -1.0552, -0.8486, -1.7255, -1.6232, -1.1021,\n",
            "         1.5105, -1.9886], requires_grad=True)\n",
            "Parameter containing:\n",
            "tensor([[ 0.6410,  0.5284,  0.5553,  ...,  0.2197,  0.5253, -0.7408],\n",
            "        [ 0.2602,  0.5810,  0.2779,  ..., -0.1731,  0.1170, -0.2880],\n",
            "        [-0.3761, -0.5113, -0.3056,  ...,  0.4706, -0.0997,  0.4847],\n",
            "        ...,\n",
            "        [-0.6320, -0.3856, -0.4069,  ...,  0.4688, -0.0579,  0.0411],\n",
            "        [-0.3291,  0.5273,  0.1408,  ...,  0.0385, -0.3597,  0.3922],\n",
            "        [ 0.0268, -0.0196, -0.1261,  ...,  0.0406, -0.0394,  0.1131]],\n",
            "       requires_grad=True)\n",
            "Parameter containing:\n",
            "tensor([ 0.5038,  0.2870, -0.4687,  0.0522,  0.7859, -0.5289,  0.5928,  0.0169,\n",
            "        -0.0660,  0.8727,  0.4663, -0.1293, -0.1137,  0.2122,  0.1094,  0.3594,\n",
            "        -0.1085, -0.0804,  0.8317,  0.3099,  0.5452, -0.1351,  0.3912,  0.7180,\n",
            "         0.6382,  0.0684, -0.0425,  0.0950,  0.4570,  0.4093, -0.1018,  0.3993,\n",
            "        -0.3821,  0.2792, -0.0770,  0.4594,  0.0200, -0.3893, -0.0945,  0.1410],\n",
            "       requires_grad=True)\n",
            "Parameter containing:\n",
            "tensor([[ 6.1556e-01, -5.5074e-01,  4.4826e-01,  4.6565e-02,  8.2871e-01,\n",
            "          3.5138e-01, -6.3638e-01, -9.4395e-02, -2.0015e-02,  5.1168e-01,\n",
            "         -6.8540e-01,  1.0583e-01, -1.0949e-01,  4.6247e-01,  1.0929e-02,\n",
            "         -7.0823e-01,  6.7812e-02,  6.6144e-02,  6.4492e-01, -6.7741e-01,\n",
            "         -8.0446e-01, -1.2617e-01,  5.8560e-01,  7.9936e-01, -7.0847e-01,\n",
            "         -6.2984e-02,  6.9951e-02, -4.0861e-02,  5.5232e-01, -5.8939e-01,\n",
            "          1.2599e-01,  4.7024e-01,  5.1024e-01,  4.2383e-01, -1.1200e-01,\n",
            "         -7.5837e-01,  8.2792e-02,  3.8148e-01,  6.7742e-02,  6.2195e-02],\n",
            "        [-1.0196e-01, -2.3841e-02,  1.1255e-01,  1.5071e-01, -1.1851e-01,\n",
            "         -1.1876e-01,  6.8474e-02,  1.6659e-02,  1.4456e-01, -8.0301e-02,\n",
            "         -5.0149e-02, -5.1416e-02, -1.7574e-02,  6.2415e-02, -1.0360e-01,\n",
            "          5.3689e-03,  4.3230e-02,  8.8897e-04, -8.1752e-02, -7.8940e-02,\n",
            "         -4.9823e-02,  8.1349e-02, -1.2806e-01,  1.2673e-01,  1.3108e-01,\n",
            "          7.2821e-02,  7.7620e-02,  8.9143e-02, -3.9130e-02, -1.3123e-01,\n",
            "          1.2851e-01,  6.8300e-02,  4.4647e-02, -4.6428e-02, -6.0481e-02,\n",
            "         -1.8809e-02, -1.9422e-02, -7.0137e-02, -7.4609e-02,  1.4371e-01],\n",
            "        [-5.2142e-02, -6.5595e-01,  5.4598e-01, -1.0451e-01, -3.4255e+00,\n",
            "         -3.3443e-02, -8.6611e-01, -6.4857e-02,  6.4801e-02, -2.9554e+00,\n",
            "         -5.3609e-02,  1.3581e-01, -1.9735e-02, -1.3655e-01,  1.3354e-01,\n",
            "         -8.9077e-01,  1.1002e-01,  3.8756e-02, -3.2810e+00, -6.2255e-01,\n",
            "         -5.7230e-01,  1.0644e-01,  9.9140e-02, -3.5633e+00, -7.2795e-01,\n",
            "         -5.2972e-02,  3.2069e-02, -3.1585e-02, -7.4876e-02, -3.9565e-01,\n",
            "          3.6405e-02, -7.4476e-02, -4.7413e-02,  7.1216e-02,  4.3011e-02,\n",
            "         -7.2070e-01,  2.8372e-02, -7.4565e-02,  3.9167e-01, -1.5129e-01],\n",
            "        [-4.2374e-01,  5.9287e-01, -3.9848e-01,  7.5409e-03, -2.8114e-01,\n",
            "         -3.4289e-01,  6.9815e-01,  6.3142e-02,  1.5843e-01, -8.9655e-02,\n",
            "          5.7347e-01,  1.1168e-01, -3.1730e-02, -4.0957e-01, -7.2976e-02,\n",
            "          5.2113e-01,  1.1782e-01,  1.0882e-02, -9.0727e-02,  4.9150e-01,\n",
            "          4.6318e-01,  4.1581e-02, -4.3752e-01, -2.6837e-01,  7.1429e-01,\n",
            "          2.1670e-03,  1.4045e-01, -1.0362e-01, -2.4152e-01,  6.4197e-01,\n",
            "         -1.3423e-01, -4.4119e-01, -4.3927e-01,  2.3649e-02,  5.5457e-03,\n",
            "          6.3300e-01,  1.3869e-02, -5.6703e-01,  4.8297e-01,  2.1826e-02],\n",
            "        [-8.5976e-02, -4.3968e-01,  7.2110e-01,  1.1405e-01, -3.2642e+00,\n",
            "          1.4594e-01, -4.6292e-01, -4.5720e-02,  6.0238e-02, -2.9556e+00,\n",
            "          1.3831e-01, -1.1125e-01,  1.1989e-02,  1.8655e-02, -1.5524e-01,\n",
            "         -4.2219e-01, -6.8018e-02, -1.0509e-01, -3.2772e+00, -3.7445e-01,\n",
            "         -3.6115e-01,  1.0760e-01, -1.5169e-01, -3.4106e+00, -7.8287e-01,\n",
            "         -2.7182e-02, -1.1170e-01, -1.3435e-01,  1.0740e-01, -9.7431e-02,\n",
            "          8.3660e-02, -4.8658e-02, -3.3228e-02,  2.5048e-02,  6.9277e-03,\n",
            "         -2.9698e-01, -1.4405e-01,  4.0624e-02,  3.2412e-01,  4.6053e-02],\n",
            "        [-3.3825e-01,  5.8089e-01, -4.4347e-01, -1.0036e-01, -2.7306e-01,\n",
            "         -4.0946e-01,  7.1674e-01,  8.3778e-02,  4.4491e-02, -9.2332e-02,\n",
            "          7.4047e-01,  1.6339e-01,  6.9758e-02, -5.6679e-01, -3.2142e-02,\n",
            "          6.7487e-01,  8.5955e-02,  1.5036e-01, -1.2937e-01,  6.3504e-01,\n",
            "          7.8064e-01,  1.6082e-01, -4.2254e-01, -4.4507e-01,  6.1702e-01,\n",
            "         -2.5816e-02,  6.7778e-02, -8.8869e-02, -3.9772e-01,  7.3618e-01,\n",
            "          7.8563e-02, -5.5786e-01, -4.6583e-01,  1.9561e-01, -1.5508e-01,\n",
            "          8.1310e-01, -1.3328e-01, -3.5680e-01,  2.0867e-01, -1.5816e-02],\n",
            "        [-4.4398e-01,  7.4069e-01, -5.3784e-01, -5.8311e-03, -3.1291e-01,\n",
            "         -5.7135e-01,  5.8166e-01,  2.4150e-02,  2.8096e-02, -1.8974e-01,\n",
            "          5.5326e-01,  2.4808e-02,  6.8900e-02, -3.7346e-01,  1.0239e-01,\n",
            "          6.2566e-01, -2.9507e-02, -7.0283e-02, -9.3354e-02,  7.1773e-01,\n",
            "          7.0766e-01,  1.2608e-01, -3.2352e-01, -3.5495e-01,  6.7803e-01,\n",
            "         -9.5271e-02,  1.1850e-01,  7.5843e-02, -5.0398e-01,  7.1816e-01,\n",
            "         -1.5249e-02, -4.1994e-01, -5.0439e-01,  1.5022e-01,  7.2277e-02,\n",
            "          5.1807e-01,  1.5647e-01, -4.5220e-01,  4.1595e-01,  1.2717e-01],\n",
            "        [ 4.8523e-01, -5.5407e-01,  5.4126e-01, -9.6818e-02,  5.5383e-01,\n",
            "          4.0291e-01, -5.9151e-01, -7.2149e-03,  9.2219e-02,  4.5072e-01,\n",
            "         -4.8199e-01, -1.4257e-01,  1.0149e-01,  5.8917e-01, -6.1616e-02,\n",
            "         -7.3667e-01, -3.2677e-02,  7.1914e-03,  6.7645e-01, -5.4683e-01,\n",
            "         -6.7610e-01,  6.2487e-02,  3.7554e-01,  6.4161e-01, -7.0302e-01,\n",
            "          1.4762e-01,  4.6088e-02,  1.0513e-01,  5.9069e-01, -6.9309e-01,\n",
            "         -7.7116e-02,  6.3026e-01,  4.5801e-01,  3.4761e-01,  6.6707e-02,\n",
            "         -5.3856e-01,  6.0277e-02,  6.4454e-01,  1.3068e-01,  8.8690e-02],\n",
            "        [-3.8641e-01,  7.4445e-01, -5.1161e-01, -1.0328e-02, -1.1025e-01,\n",
            "         -5.9056e-01,  7.3501e-01, -1.1480e-01,  5.9326e-02,  1.3308e-03,\n",
            "          6.3126e-01,  4.6076e-02, -1.6877e-02, -5.2995e-01,  4.9289e-03,\n",
            "          6.4709e-01,  4.3354e-02,  1.0818e-01, -1.2422e-01,  7.3298e-01,\n",
            "          5.9851e-01,  1.1718e-01, -3.4716e-01, -5.3847e-01,  4.7852e-01,\n",
            "          7.7012e-02,  5.8016e-02,  7.2331e-02, -4.8210e-01,  7.0466e-01,\n",
            "          1.3522e-01, -5.9597e-01, -3.0572e-01,  7.8888e-02, -4.8232e-02,\n",
            "          6.0038e-01,  7.3657e-02, -3.8195e-01,  5.2239e-01, -2.1783e-03],\n",
            "        [-3.7821e-01,  6.4383e-01, -2.9743e-01,  6.6456e-02, -3.8855e-01,\n",
            "         -5.8525e-01,  7.2433e-01, -1.2709e-01, -7.3815e-02, -6.6041e-02,\n",
            "          5.9371e-01,  1.2863e-01, -1.4296e-02, -4.9287e-01,  1.3051e-01,\n",
            "          8.3014e-01, -1.2118e-01,  7.6970e-02, -2.8267e-01,  7.4925e-01,\n",
            "          5.7429e-01, -8.0930e-02, -4.4779e-01, -3.5163e-01,  7.1197e-01,\n",
            "          6.2909e-02,  1.2764e-01,  8.0264e-02, -4.3002e-01,  8.2312e-01,\n",
            "         -7.8072e-02, -3.2866e-01, -3.5141e-01,  1.1700e-01,  7.8752e-02,\n",
            "          7.8425e-01,  1.1276e-01, -5.6162e-01,  3.1095e-01, -1.3410e-01],\n",
            "        [ 2.0446e-02,  6.5900e-02, -1.0646e-01,  1.2615e-01, -5.1895e-02,\n",
            "         -2.1523e-02, -8.8335e-02, -9.0708e-02,  8.5177e-02,  6.9826e-03,\n",
            "          2.6269e-02,  1.2915e-01, -4.0943e-02,  8.5663e-02, -1.4531e-02,\n",
            "         -8.7508e-02, -3.4205e-02,  6.1615e-03, -2.1901e-02, -1.9915e-02,\n",
            "         -9.0215e-02, -1.0154e-01, -8.4868e-02,  8.2339e-02,  2.8292e-02,\n",
            "         -5.0050e-02,  1.4119e-01,  5.7824e-02, -1.4221e-01, -1.2403e-01,\n",
            "          1.3518e-01,  8.7401e-02,  1.0745e-01,  7.3202e-03,  1.3286e-01,\n",
            "          1.7963e-03,  7.7734e-02, -7.1175e-02, -1.0467e-01, -9.2452e-03],\n",
            "        [-5.1654e-02,  8.0603e-02,  8.0344e-02, -5.0885e-02, -1.5168e-01,\n",
            "         -1.3367e-01, -6.0407e-02, -6.8115e-03,  2.8599e-02, -1.4905e-01,\n",
            "         -1.2610e-01,  1.4647e-01, -1.0061e-01, -1.2973e-01,  1.5506e-01,\n",
            "         -9.0907e-02, -1.3874e-01,  3.8190e-02, -5.2367e-02,  6.3323e-02,\n",
            "         -2.4229e-02,  4.8951e-02,  1.3846e-01,  1.1570e-01,  1.0750e-01,\n",
            "          4.7090e-02, -5.4078e-03,  7.3024e-02,  1.2022e-01, -6.1193e-03,\n",
            "         -4.4347e-03, -9.2200e-02, -1.1135e-01, -1.0850e-02, -7.8493e-02,\n",
            "         -1.4043e-01,  1.3745e-01, -6.4575e-02, -1.4499e-01,  9.1776e-02],\n",
            "        [-1.7253e-01,  5.0273e-01, -5.3596e-01,  8.0482e-02,  7.1090e-02,\n",
            "         -4.3933e-01,  1.0514e+00,  2.8687e-02,  9.2222e-02,  6.4173e-01,\n",
            "          5.1709e-01,  2.0079e-02, -5.9331e-02, -2.1861e-01,  4.8141e-03,\n",
            "          3.4825e-01, -1.4684e-01, -8.7750e-02,  6.3627e-01,  1.1428e-01,\n",
            "          3.9691e-01,  1.2673e-01, -5.4687e-01,  6.0536e-01,  9.9523e-01,\n",
            "         -4.5197e-02, -4.1175e-02,  8.4087e-02, -4.4792e-01,  1.0608e+00,\n",
            "         -9.1063e-02, -4.2104e-01, -5.1290e-01,  5.3371e-03,  1.1090e-01,\n",
            "          5.4533e-01, -1.1748e-01, -5.7409e-01,  2.5353e-01, -3.5486e-02],\n",
            "        [-3.8121e-01,  4.5966e-01, -3.8730e-01, -8.5620e-02, -1.0144e-01,\n",
            "         -5.0579e-01,  4.7665e-01, -1.0980e-01, -1.3272e-01, -3.3819e-02,\n",
            "          5.5270e-01, -2.5317e-03, -9.0400e-02, -4.0510e-01, -3.8685e-02,\n",
            "          6.1323e-01,  1.1226e-01, -7.8247e-02, -8.4675e-02,  3.9297e-01,\n",
            "          6.5243e-01,  8.9784e-02, -4.2605e-01, -3.7322e-01,  6.2646e-01,\n",
            "          1.5524e-01,  7.8801e-02, -8.0390e-02, -4.8579e-01,  5.1441e-01,\n",
            "          1.5687e-01, -3.0224e-01, -4.2801e-01,  1.9474e-01,  6.9310e-02,\n",
            "          5.7481e-01, -1.0329e-01, -4.3133e-01,  2.2994e-01,  1.4954e-01],\n",
            "        [ 1.9212e-01,  6.9364e-02, -1.7041e-01,  9.4572e-02, -2.8746e-01,\n",
            "         -1.0869e-01,  5.4018e-02, -7.9465e-02,  1.1131e-02, -1.7005e-01,\n",
            "         -2.1098e-01,  1.0865e-01, -9.7258e-02,  2.1689e-01, -4.4640e-02,\n",
            "          1.5792e-03, -4.2472e-03, -1.2765e-01, -3.7409e-02,  1.5648e-01,\n",
            "          7.9641e-02, -1.6082e-01,  1.9125e-01, -5.5127e-02, -9.8466e-02,\n",
            "         -1.9400e-02, -4.4217e-02,  1.0544e-01, -8.0084e-02,  1.6141e-01,\n",
            "          1.2134e-01,  2.2272e-01,  6.0121e-02, -1.1336e-01,  1.4393e-01,\n",
            "         -8.1955e-02,  6.8567e-03, -7.1117e-03, -6.6820e-01, -8.7741e-02],\n",
            "        [ 4.8094e-01, -8.7621e-01,  5.1395e-01, -7.0961e-02,  6.3041e-01,\n",
            "          5.1299e-01, -7.8604e-01,  3.6495e-02,  6.0446e-02,  8.2518e-01,\n",
            "         -5.3699e-01,  1.3167e-01,  1.0084e-01,  7.1835e-01, -2.5091e-02,\n",
            "         -7.7410e-01,  4.7570e-02, -5.6057e-02,  9.3928e-01, -8.6968e-01,\n",
            "         -7.3100e-01,  1.1704e-01,  4.1873e-01,  1.0610e+00, -9.4931e-01,\n",
            "          8.0730e-02, -1.1672e-01, -8.9617e-02,  4.2048e-01, -7.2998e-01,\n",
            "          1.3753e-01,  4.1718e-01,  5.1219e-01,  4.1823e-01, -1.7742e-02,\n",
            "         -8.9323e-01,  1.3050e-01,  6.4636e-01,  1.7006e-01, -1.5998e-02],\n",
            "        [ 4.7744e-01, -8.5004e-01,  3.0792e-01,  4.8103e-02,  5.1019e-01,\n",
            "          5.4889e-01, -7.7565e-01, -8.0924e-02,  1.2225e-01,  6.8734e-01,\n",
            "         -5.0395e-01,  3.1051e-02,  5.0760e-02,  5.6426e-01, -4.9721e-02,\n",
            "         -7.0927e-01, -1.3830e-01, -1.4486e-01,  8.2964e-01, -5.5326e-01,\n",
            "         -7.8352e-01, -9.1653e-02,  5.4272e-01,  9.0123e-01, -6.8514e-01,\n",
            "         -1.1816e-01,  9.9780e-02, -1.2382e-01,  4.4161e-01, -7.6327e-01,\n",
            "          7.5976e-02,  6.6184e-01,  4.1761e-01,  3.6047e-01, -1.3509e-01,\n",
            "         -6.5709e-01,  9.2581e-02,  3.8243e-01,  4.7316e-02,  9.5325e-02],\n",
            "        [-2.8957e-01,  8.3799e-01, -5.4460e-01, -3.8898e-02, -2.7980e-01,\n",
            "         -4.6600e-01,  6.2969e-01, -1.5779e-01, -1.1386e-01, -1.3880e-01,\n",
            "          4.8280e-01, -1.0959e-01, -1.2401e-01, -3.6669e-01,  6.6817e-02,\n",
            "          7.1385e-01,  2.8470e-02, -1.0397e-01, -2.9140e-01,  7.2464e-01,\n",
            "          5.9052e-01, -7.1262e-02, -4.8546e-01, -4.8336e-01,  7.5720e-01,\n",
            "         -1.3633e-01, -1.0519e-03,  1.1531e-01, -5.3343e-01,  6.7343e-01,\n",
            "         -6.6370e-02, -5.3727e-01, -4.7826e-01,  1.3247e-01, -1.1760e-01,\n",
            "          8.1190e-01,  1.5608e-01, -5.8470e-01,  5.4857e-01, -8.7205e-02],\n",
            "        [ 5.2148e-01, -8.2428e-01,  4.5459e-01,  6.0040e-02,  4.7071e-01,\n",
            "          2.7894e-01, -7.6202e-01, -2.9003e-02,  3.9575e-02,  7.7651e-01,\n",
            "         -5.9654e-01, -4.8444e-02, -6.6017e-02,  3.4514e-01, -1.4947e-01,\n",
            "         -6.9025e-01,  1.3624e-01, -1.3438e-01,  8.1222e-01, -8.7716e-01,\n",
            "         -8.1299e-01,  8.4624e-02,  6.0753e-01,  9.5903e-01, -9.1616e-01,\n",
            "         -1.3697e-01, -7.8715e-02,  1.4934e-01,  4.8041e-01, -4.8087e-01,\n",
            "          1.0067e-01,  4.2873e-01,  4.3487e-01,  5.5973e-01, -1.1042e-01,\n",
            "         -8.3263e-01,  3.2310e-02,  3.9694e-01,  5.3097e-02, -7.7893e-02],\n",
            "        [-2.8580e-01,  7.1992e-01, -3.3567e-01,  1.2780e-01, -7.8536e-02,\n",
            "         -4.7744e-01,  5.8611e-01, -1.4282e-01, -5.7399e-02, -4.3784e-02,\n",
            "          5.3064e-01,  3.1281e-02, -1.3687e-01, -4.1489e-01,  1.9726e-02,\n",
            "          6.9878e-01, -7.8453e-02, -6.1795e-02, -6.8118e-02,  5.7677e-01,\n",
            "          6.8842e-01, -1.2876e-01, -4.7594e-01, -2.4330e-01,  5.5189e-01,\n",
            "          9.4119e-02,  1.5056e-01, -1.8038e-02, -4.1554e-01,  6.3588e-01,\n",
            "         -1.6182e-02, -3.7288e-01, -3.6091e-01,  7.8625e-03,  8.6514e-02,\n",
            "          5.3022e-01,  2.7349e-02, -5.1256e-01,  4.1649e-01, -1.1249e-01]],\n",
            "       requires_grad=True)\n",
            "Parameter containing:\n",
            "tensor([ 0.1369,  0.0377, -0.4114,  0.1332, -0.4118,  0.1852,  0.2361,  0.1424,\n",
            "         0.2156,  0.1390,  0.1006,  0.0095,  0.4675,  0.1508, -0.0283,  0.1710,\n",
            "         0.1631,  0.2620,  0.1890,  0.2136], requires_grad=True)\n",
            "Parameter containing:\n",
            "tensor([[ 1.0559,  0.1604, -3.3270, -0.7914, -3.0816, -0.6792, -0.7213,  1.0020,\n",
            "         -0.7055, -0.7164,  0.1937, -0.0592, -1.4003, -0.8011, -0.9508,  1.1124,\n",
            "          1.1364, -0.7250,  1.1931, -0.6994]], requires_grad=True)\n",
            "Parameter containing:\n",
            "tensor([0.0145], requires_grad=True)\n"
          ],
          "name": "stdout"
        }
      ]
    },
    {
      "cell_type": "markdown",
      "metadata": {
        "id": "tbEXUwJZNgX9",
        "colab_type": "text"
      },
      "source": [
        "## Approximation with a shallow neural network"
      ]
    },
    {
      "cell_type": "markdown",
      "metadata": {
        "id": "iwoSChjz2fuE",
        "colab_type": "text"
      },
      "source": [
        "### Question: code a one-hidden layer neural network with approximatively the same number of parameters than the multilayer neural network. What is the \"best\" architecture?\n",
        "\n",
        "**Answer:**\n",
        "\n",
        "We have a complex discontinuity on the function as consequence of that the approximation accuracy of a shallow network will be worse than of a deep one, as we can see when comparing the charts."
      ]
    },
    {
      "cell_type": "code",
      "metadata": {
        "id": "caJxfKQueJez",
        "colab_type": "code",
        "outputId": "e7d01c3b-9b00-4a2b-a12c-320a391b12f7",
        "colab": {
          "base_uri": "https://localhost:8080/",
          "height": 221
        }
      },
      "source": [
        "%time\n",
        "\n",
        "Niter = 10000\n",
        "H1 = 500\n",
        "\n",
        "# Use the nn package to define our model and loss function.\n",
        "shallow_model = torch.nn.Sequential(\n",
        "    torch.nn.Linear(D_in, H1),\n",
        "    torch.nn.ReLU(),\n",
        "    torch.nn.Linear(H1, D_out)\n",
        ")\n",
        "\n",
        "# Use the optim package to define an Optimizer that will update the weights of\n",
        "# the model for us. Here we will use Adam; the optim package contains many other\n",
        "# optimization algoriths. The first argument to the Adam constructor tells the\n",
        "# optimizer which Tensors it should update.\n",
        "learning_rate = 1e-3\n",
        "\n",
        "optimizer = torch.optim.Adam(shallow_model.parameters(), lr=learning_rate)\n",
        "\n",
        "for t in range(Niter):\n",
        "    output = shallow_model(x)\n",
        "\n",
        "    # Compute and print loss.\n",
        "    loss = loss_fn(output, y)\n",
        "    saveLoss[t] = loss.item()\n",
        "    if t % 1000 == 0:\n",
        "        # Print Loss\n",
        "        print('Iteration: {}. Loss: {}.'.format(iter, loss.item()))\n",
        "\n",
        "    optimizer.zero_grad()\n",
        "    \n",
        "    #Backward\n",
        "    loss.backward()\n",
        "    optimizer.step()  "
      ],
      "execution_count": 24,
      "outputs": [
        {
          "output_type": "stream",
          "text": [
            "CPU times: user 3 µs, sys: 0 ns, total: 3 µs\n",
            "Wall time: 5.01 µs\n",
            "Iteration: <built-in function iter>. Loss: 936.2118530273438.\n",
            "Iteration: <built-in function iter>. Loss: 313.9501953125.\n",
            "Iteration: <built-in function iter>. Loss: 172.57449340820312.\n",
            "Iteration: <built-in function iter>. Loss: 110.42237854003906.\n",
            "Iteration: <built-in function iter>. Loss: 99.708740234375.\n",
            "Iteration: <built-in function iter>. Loss: 96.62508392333984.\n",
            "Iteration: <built-in function iter>. Loss: 95.94145965576172.\n",
            "Iteration: <built-in function iter>. Loss: 95.80610656738281.\n",
            "Iteration: <built-in function iter>. Loss: 95.72945404052734.\n",
            "Iteration: <built-in function iter>. Loss: 95.68730926513672.\n"
          ],
          "name": "stdout"
        }
      ]
    },
    {
      "cell_type": "code",
      "metadata": {
        "id": "fY4nUy-13H1e",
        "colab_type": "code",
        "outputId": "10f0fe7f-7a5c-4528-ef84-c4f8ba0c4e5e",
        "colab": {
          "base_uri": "https://localhost:8080/",
          "height": 279
        }
      },
      "source": [
        "y_pred = shallow_model(x)\n",
        "fig, ax = plt.subplots()\n",
        "plt.plot(x.detach().numpy(), y.detach().numpy(),'r-',label='Quartic function')\n",
        "plt.plot(x.detach().numpy(), y_pred.detach().numpy(),'bo-',label='Shallow approximation')\n",
        "plt.xlabel('$x$')\n",
        "plt.ylabel('$f(x)$')\n",
        "ax.legend()\n",
        "plt.show()"
      ],
      "execution_count": 25,
      "outputs": [
        {
          "output_type": "display_data",
          "data": {
            "image/png": "[encoded data removed]",
            "text/plain": [
              "<Figure size 432x288 with 1 Axes>"
            ]
          },
          "metadata": {
            "tags": []
          }
        }
      ]
    },
    {
      "cell_type": "code",
      "metadata": {
        "id": "oaIZaCpV3Az9",
        "colab_type": "code",
        "colab": {
          "base_uri": "https://localhost:8080/",
          "height": 68
        },
        "outputId": "b75a28a5-d6f7-4e35-ff6a-ca78495d9efc"
      },
      "source": [
        "print(\"\\nTotal number of parameters {}\\n\".format(count_parameters(model)))"
      ],
      "execution_count": 26,
      "outputs": [
        {
          "output_type": "stream",
          "text": [
            "\n",
            "Total number of parameters 2981\n",
            "\n"
          ],
          "name": "stdout"
        }
      ]
    }
  ]
}