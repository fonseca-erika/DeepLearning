{
  "nbformat": 4,
  "nbformat_minor": 0,
  "metadata": {
    "kernelspec": {
      "name": "python3",
      "display_name": "Python 3"
    },
    "language_info": {
      "codemirror_mode": {
        "name": "ipython",
        "version": 3
      },
      "file_extension": ".py",
      "mimetype": "text/x-python",
      "name": "python",
      "nbconvert_exporter": "python",
      "pygments_lexer": "ipython3",
      "version": "3.7.3"
    },
    "colab": {
      "name": "DSTI_DL_Lab01_March2020 PyTorch_Basics.ipynb",
      "provenance": [],
      "collapsed_sections": []
    },
    "accelerator": "GPU"
  },
  "cells": [
    {
      "cell_type": "markdown",
      "metadata": {
        "id": "mYjIe2Y5gC9e",
        "colab_type": "text"
      },
      "source": [
        "# Torch basics"
      ]
    },
    {
      "cell_type": "code",
      "metadata": {
        "id": "Hh6cps5cgC9g",
        "colab_type": "code",
        "colab": {}
      },
      "source": [
        "import matplotlib.pyplot as plt\n",
        "%matplotlib inline\n",
        "import torch\n",
        "import numpy as np"
      ],
      "execution_count": 0,
      "outputs": []
    },
    {
      "cell_type": "code",
      "metadata": {
        "id": "Pe1KgPFqgC9m",
        "colab_type": "code",
        "outputId": "cff68846-1b52-45bf-bb0f-d6d925b6546f",
        "colab": {
          "base_uri": "https://localhost:8080/",
          "height": 34
        }
      },
      "source": [
        "torch.__version__"
      ],
      "execution_count": 0,
      "outputs": [
        {
          "output_type": "execute_result",
          "data": {
            "text/plain": [
              "'1.4.0'"
            ]
          },
          "metadata": {
            "tags": []
          },
          "execution_count": 163
        }
      ]
    },
    {
      "cell_type": "markdown",
      "metadata": {
        "id": "lMn2UjdXgC9r",
        "colab_type": "text"
      },
      "source": [
        "Largely inspired from the tutorial [What is PyTorch?](https://pytorch.org/tutorials/beginner/former_torchies/tensor_tutorial.html)\n",
        "\n",
        "Tensors are used to encode the signal to process, but also the internal states and parameters of models.\n",
        "\n",
        "Manipulating data through this constrained structure allows to use CPUs and GPUs at peak performance.\n",
        "\n"
      ]
    },
    {
      "cell_type": "markdown",
      "metadata": {
        "id": "loUAlh7dyVpN",
        "colab_type": "text"
      },
      "source": [
        "## Tensors"
      ]
    },
    {
      "cell_type": "markdown",
      "metadata": {
        "id": "hlUFi857xt6Q",
        "colab_type": "text"
      },
      "source": [
        "Construct a 3x5 matrix, uninitialized:"
      ]
    },
    {
      "cell_type": "code",
      "metadata": {
        "id": "2kLcNt8IgC9r",
        "colab_type": "code",
        "colab": {}
      },
      "source": [
        "# Sets the default floating point dtype. \n",
        "# This type will be used as default floating point type for type inference in torch.tensor().\n",
        "torch.set_default_tensor_type('torch.FloatTensor') "
      ],
      "execution_count": 0,
      "outputs": []
    },
    {
      "cell_type": "code",
      "metadata": {
        "id": "RjUhHCJMgC9u",
        "colab_type": "code",
        "outputId": "c4da3cad-d2d8-42b0-eba2-e031eb69c414",
        "colab": {
          "base_uri": "https://localhost:8080/",
          "height": 85
        }
      },
      "source": [
        "# Empty means that it's not initialized, and its values are arbitrary based on the current value of the memory \n",
        "x = torch.empty(3,5)\n",
        "print(x.type())\n",
        "print(x)"
      ],
      "execution_count": 0,
      "outputs": [
        {
          "output_type": "stream",
          "text": [
            "torch.FloatTensor\n",
            "tensor([[7.8670e-37, 0.0000e+00, 4.4842e-44, 0.0000e+00,        nan],\n",
            "        [0.0000e+00, 2.1494e-04, 6.7356e+22, 5.4166e-05, 4.2492e-05],\n",
            "        [1.0616e+21, 5.3369e-08, 6.5191e-10, 2.6831e-09, 6.0912e-13]])\n"
          ],
          "name": "stdout"
        }
      ]
    },
    {
      "cell_type": "code",
      "metadata": {
        "id": "MnRsrLh5gC9w",
        "colab_type": "code",
        "outputId": "aa379ebd-c223-4eaa-a8c6-c318f7f2dd16",
        "colab": {
          "base_uri": "https://localhost:8080/",
          "height": 68
        }
      },
      "source": [
        "x = torch.randn(3,5)\n",
        "print(x)"
      ],
      "execution_count": 0,
      "outputs": [
        {
          "output_type": "stream",
          "text": [
            "tensor([[ 1.4609,  0.0714, -1.0248,  0.2020, -0.3315],\n",
            "        [ 2.2452,  0.1899,  0.6004,  1.0914, -0.6800],\n",
            "        [ 0.1416,  0.2667,  0.0491, -0.6760,  0.5975]])\n"
          ],
          "name": "stdout"
        }
      ]
    },
    {
      "cell_type": "code",
      "metadata": {
        "id": "lfgpO7kUgC9z",
        "colab_type": "code",
        "outputId": "f080e030-3632-4d12-cc8f-00f6033aaf6f",
        "colab": {
          "base_uri": "https://localhost:8080/",
          "height": 34
        }
      },
      "source": [
        "print(x.size())"
      ],
      "execution_count": 0,
      "outputs": [
        {
          "output_type": "stream",
          "text": [
            "torch.Size([3, 5])\n"
          ],
          "name": "stdout"
        }
      ]
    },
    {
      "cell_type": "markdown",
      "metadata": {
        "id": "NNLzvVKigC92",
        "colab_type": "text"
      },
      "source": [
        "torch.Size is in fact a [tuple](https://docs.python.org/3/tutorial/datastructures.html#tuples-and-sequences), so it supports the same operations."
      ]
    },
    {
      "cell_type": "code",
      "metadata": {
        "id": "W-o3sFH3gC92",
        "colab_type": "code",
        "outputId": "f5f8d5d6-2605-47c5-a67e-770df4e2e3df",
        "colab": {
          "base_uri": "https://localhost:8080/",
          "height": 34
        }
      },
      "source": [
        "x.size()[1]"
      ],
      "execution_count": 0,
      "outputs": [
        {
          "output_type": "execute_result",
          "data": {
            "text/plain": [
              "5"
            ]
          },
          "metadata": {
            "tags": []
          },
          "execution_count": 168
        }
      ]
    },
    {
      "cell_type": "code",
      "metadata": {
        "id": "LkQAasgtgC95",
        "colab_type": "code",
        "outputId": "a2f94cbf-0461-4c8f-e38a-fcd98c90bdf3",
        "colab": {
          "base_uri": "https://localhost:8080/",
          "height": 34
        }
      },
      "source": [
        "x.size() == (3,5)"
      ],
      "execution_count": 0,
      "outputs": [
        {
          "output_type": "execute_result",
          "data": {
            "text/plain": [
              "True"
            ]
          },
          "metadata": {
            "tags": []
          },
          "execution_count": 169
        }
      ]
    },
    {
      "cell_type": "markdown",
      "metadata": {
        "id": "GDufwT0Kstxv",
        "colab_type": "text"
      },
      "source": [
        "Importance of the brackets when defining a tensor"
      ]
    },
    {
      "cell_type": "code",
      "metadata": {
        "id": "wa9IPaaqsaPg",
        "colab_type": "code",
        "outputId": "6a684cda-954f-4644-de4b-da2613a24e45",
        "colab": {
          "base_uri": "https://localhost:8080/",
          "height": 119
        }
      },
      "source": [
        "a = torch.tensor([2.0])\n",
        "print(type(a))\n",
        "print(a.dtype)\n",
        "print(a.size())\n",
        "\n",
        "b = torch.tensor(2.0)\n",
        "print(type(b))\n",
        "print(b.dtype)\n",
        "print(b.size())"
      ],
      "execution_count": 0,
      "outputs": [
        {
          "output_type": "stream",
          "text": [
            "<class 'torch.Tensor'>\n",
            "torch.float32\n",
            "torch.Size([1])\n",
            "<class 'torch.Tensor'>\n",
            "torch.float32\n",
            "torch.Size([])\n"
          ],
          "name": "stdout"
        }
      ]
    },
    {
      "cell_type": "code",
      "metadata": {
        "id": "YtUn2SDl8r0L",
        "colab_type": "code",
        "outputId": "50235fff-3d1e-478d-d031-f399e50d7c50",
        "colab": {
          "base_uri": "https://localhost:8080/",
          "height": 68
        }
      },
      "source": [
        "print(\"*************** IMPORTANT ***************\")\n",
        "print(\"a: \", a, \" a 1x1 matrix with dimension 1 \") \n",
        "print(\"b: \", b, \" a scalar with no dimension \")"
      ],
      "execution_count": 0,
      "outputs": [
        {
          "output_type": "stream",
          "text": [
            "*************** IMPORTANT ***************\n",
            "a:  tensor([2.])  a 1x1 matrix with dimension 1 \n",
            "b:  tensor(2.)  a scalar with no dimension \n"
          ],
          "name": "stdout"
        }
      ]
    },
    {
      "cell_type": "markdown",
      "metadata": {
        "id": "XeAg1TcMhyf4",
        "colab_type": "text"
      },
      "source": [
        "Select some columns"
      ]
    },
    {
      "cell_type": "code",
      "metadata": {
        "id": "DZaC-fXlgY6G",
        "colab_type": "code",
        "outputId": "791845d5-1c94-4c22-b863-3c37c6bdd9cf",
        "colab": {
          "base_uri": "https://localhost:8080/",
          "height": 102
        }
      },
      "source": [
        "cols = torch.zeros(5, dtype=torch.bool)\n",
        "print(cols)\n",
        "cols[1] = True\n",
        "cols[4] = True\n",
        "print(cols)\n",
        "c = x[:, cols]  # selects all rows, 4th column and  5th column from a\n",
        "print(c)"
      ],
      "execution_count": 0,
      "outputs": [
        {
          "output_type": "stream",
          "text": [
            "tensor([False, False, False, False, False])\n",
            "tensor([False,  True, False, False,  True])\n",
            "tensor([[ 0.0714, -0.3315],\n",
            "        [ 0.1899, -0.6800],\n",
            "        [ 0.2667,  0.5975]])\n"
          ],
          "name": "stdout"
        }
      ]
    },
    {
      "cell_type": "code",
      "metadata": {
        "id": "GeNJBqzi-MvE",
        "colab_type": "code",
        "outputId": "d646636d-d712-4bf4-e536-dfce873bff89",
        "colab": {
          "base_uri": "https://localhost:8080/",
          "height": 34
        }
      },
      "source": [
        "# it creates a matrix of zeros with one dimension\n",
        "torch.zeros(5)"
      ],
      "execution_count": 0,
      "outputs": [
        {
          "output_type": "execute_result",
          "data": {
            "text/plain": [
              "tensor([0., 0., 0., 0., 0.])"
            ]
          },
          "metadata": {
            "tags": []
          },
          "execution_count": 173
        }
      ]
    },
    {
      "cell_type": "markdown",
      "metadata": {
        "id": "t9v3syrRf-13",
        "colab_type": "text"
      },
      "source": [
        "All operations on the tensor that operate in-place on it will have an _ postfix. "
      ]
    },
    {
      "cell_type": "code",
      "metadata": {
        "id": "zr3PP5oVf1SV",
        "colab_type": "code",
        "outputId": "f5f2ac23-0c1d-4873-a211-9ada4348d97b",
        "colab": {
          "base_uri": "https://localhost:8080/",
          "height": 68
        }
      },
      "source": [
        "# x will be filled with the value 3.5\n",
        "x.fill_(3.5)\n",
        "print(x)"
      ],
      "execution_count": 0,
      "outputs": [
        {
          "output_type": "stream",
          "text": [
            "tensor([[3.5000, 3.5000, 3.5000, 3.5000, 3.5000],\n",
            "        [3.5000, 3.5000, 3.5000, 3.5000, 3.5000],\n",
            "        [3.5000, 3.5000, 3.5000, 3.5000, 3.5000]])\n"
          ],
          "name": "stdout"
        }
      ]
    },
    {
      "cell_type": "markdown",
      "metadata": {
        "id": "SXPtlUXsgC96",
        "colab_type": "text"
      },
      "source": [
        "## Bridge to numpy\n",
        "\n",
        "Used to transform tensors in numpyt to be able to do some transformation in Python eg. Matplotlib"
      ]
    },
    {
      "cell_type": "code",
      "metadata": {
        "id": "61srdUzCgC97",
        "colab_type": "code",
        "outputId": "c7e106fe-3941-484a-a4a9-765bfcd94f75",
        "colab": {
          "base_uri": "https://localhost:8080/",
          "height": 68
        }
      },
      "source": [
        "y = x.numpy()\n",
        "print(y)"
      ],
      "execution_count": 0,
      "outputs": [
        {
          "output_type": "stream",
          "text": [
            "[[3.5 3.5 3.5 3.5 3.5]\n",
            " [3.5 3.5 3.5 3.5 3.5]\n",
            " [3.5 3.5 3.5 3.5 3.5]]\n"
          ],
          "name": "stdout"
        }
      ]
    },
    {
      "cell_type": "code",
      "metadata": {
        "id": "tFv5BzYsgC99",
        "colab_type": "code",
        "outputId": "bbb8c1e8-4ee6-4c40-c7e4-06b79d0f7572",
        "colab": {
          "base_uri": "https://localhost:8080/",
          "height": 68
        }
      },
      "source": [
        "a = np.ones(5)\n",
        "print(a)\n",
        "print(type(a))\n",
        "# transforms \"a\" in tensor \"b\"\n",
        "b = torch.from_numpy(a)\n",
        "print(b)\n",
        " "
      ],
      "execution_count": 0,
      "outputs": [
        {
          "output_type": "stream",
          "text": [
            "[1. 1. 1. 1. 1.]\n",
            "<class 'numpy.ndarray'>\n",
            "tensor([1., 1., 1., 1., 1.], dtype=torch.float64)\n"
          ],
          "name": "stdout"
        }
      ]
    },
    {
      "cell_type": "code",
      "metadata": {
        "id": "lfpk2tfpgC9-",
        "colab_type": "code",
        "outputId": "951e01f7-de11-4e2c-9d2a-fc6191af663b",
        "colab": {
          "base_uri": "https://localhost:8080/",
          "height": 119
        }
      },
      "source": [
        "xr = torch.randn(3, 5)\n",
        "a = np.ones(5).astype(int)\n",
        "print(a)\n",
        "print(type(a))\n",
        "b = torch.from_numpy(a)\n",
        "print(xr)\n",
        "print(b)"
      ],
      "execution_count": 0,
      "outputs": [
        {
          "output_type": "stream",
          "text": [
            "[1 1 1 1 1]\n",
            "<class 'numpy.ndarray'>\n",
            "tensor([[-1.2924,  0.9889, -0.8274,  0.4356, -0.8070],\n",
            "        [ 0.5888,  0.0029,  1.1720,  0.9433, -0.5264],\n",
            "        [ 0.7490,  1.5298, -0.4614, -1.1126,  0.2778]])\n",
            "tensor([1, 1, 1, 1, 1])\n"
          ],
          "name": "stdout"
        }
      ]
    },
    {
      "cell_type": "markdown",
      "metadata": {
        "id": "C6sKTTlZ0RmP",
        "colab_type": "text"
      },
      "source": [
        "### Question: print the type of the content (data) of variables a, b and xr"
      ]
    },
    {
      "cell_type": "code",
      "metadata": {
        "id": "k07dBWLRxARt",
        "colab_type": "code",
        "outputId": "e966f34b-aa91-4c62-eedc-65df9ad9d50f",
        "colab": {
          "base_uri": "https://localhost:8080/",
          "height": 68
        }
      },
      "source": [
        "# COMPLETE THE CELL\n",
        "# A tensor is a complex unit of information\n",
        "print(\"a: \",a.dtype, \" a numpy array\")\n",
        "print(\"b: \", b.dtype,\" a tensor\")\n",
        "print(\"xr: \",xr.dtype, \" a tensor\")\n"
      ],
      "execution_count": 0,
      "outputs": [
        {
          "output_type": "stream",
          "text": [
            "a:  int64  a numpy array\n",
            "b:  torch.int64  a tensor\n",
            "xr:  torch.float32  a tensor\n"
          ],
          "name": "stdout"
        }
      ]
    },
    {
      "cell_type": "markdown",
      "metadata": {
        "id": "7fwWdAYjUuiN",
        "colab_type": "text"
      },
      "source": [
        "## Operations\n",
        "\n",
        "There are multiple syntaxes for operations. In the following\n",
        "example, we will take a look at the addition operation.\n",
        "\n",
        "Addition: syntax 1"
      ]
    },
    {
      "cell_type": "code",
      "metadata": {
        "id": "4iASmmTAUxG0",
        "colab_type": "code",
        "outputId": "da63ae59-ca89-4525-f066-167338693696",
        "colab": {
          "base_uri": "https://localhost:8080/",
          "height": 102
        }
      },
      "source": [
        "x = torch.rand(5, 3) \n",
        "y = torch.rand(5, 3)\n",
        "print(x + y)"
      ],
      "execution_count": 0,
      "outputs": [
        {
          "output_type": "stream",
          "text": [
            "tensor([[0.4522, 0.5393, 1.1201],\n",
            "        [1.4474, 1.0410, 0.9743],\n",
            "        [1.2238, 1.3020, 1.3213],\n",
            "        [1.3115, 1.3312, 1.3616],\n",
            "        [1.3242, 0.8750, 0.8247]])\n"
          ],
          "name": "stdout"
        }
      ]
    },
    {
      "cell_type": "markdown",
      "metadata": {
        "id": "H5NxjdPhVQP8",
        "colab_type": "text"
      },
      "source": [
        "Addition: syntax 2"
      ]
    },
    {
      "cell_type": "code",
      "metadata": {
        "id": "GwCo8DOcVRHq",
        "colab_type": "code",
        "outputId": "5fa16aa1-672f-4d62-e835-ef3a8c00de83",
        "colab": {
          "base_uri": "https://localhost:8080/",
          "height": 102
        }
      },
      "source": [
        "print(torch.add(x, y))"
      ],
      "execution_count": 0,
      "outputs": [
        {
          "output_type": "stream",
          "text": [
            "tensor([[0.4522, 0.5393, 1.1201],\n",
            "        [1.4474, 1.0410, 0.9743],\n",
            "        [1.2238, 1.3020, 1.3213],\n",
            "        [1.3115, 1.3312, 1.3616],\n",
            "        [1.3242, 0.8750, 0.8247]])\n"
          ],
          "name": "stdout"
        }
      ]
    },
    {
      "cell_type": "markdown",
      "metadata": {
        "id": "wNuL3H61VZvS",
        "colab_type": "text"
      },
      "source": [
        "Addition: providing an output tensor as argument"
      ]
    },
    {
      "cell_type": "code",
      "metadata": {
        "id": "hX1ffSunVail",
        "colab_type": "code",
        "outputId": "e7c43177-a69b-4325-e9e2-4a020ce81df7",
        "colab": {
          "base_uri": "https://localhost:8080/",
          "height": 102
        }
      },
      "source": [
        "# Using out we define the tensor that will store the result\n",
        "result = torch.empty(5, 3)\n",
        "torch.add(x, y, out=result)\n",
        "print(result)"
      ],
      "execution_count": 0,
      "outputs": [
        {
          "output_type": "stream",
          "text": [
            "tensor([[0.4522, 0.5393, 1.1201],\n",
            "        [1.4474, 1.0410, 0.9743],\n",
            "        [1.2238, 1.3020, 1.3213],\n",
            "        [1.3115, 1.3312, 1.3616],\n",
            "        [1.3242, 0.8750, 0.8247]])\n"
          ],
          "name": "stdout"
        }
      ]
    },
    {
      "cell_type": "markdown",
      "metadata": {
        "id": "-VK0_f0rVejB",
        "colab_type": "text"
      },
      "source": [
        "Addition: in-place"
      ]
    },
    {
      "cell_type": "code",
      "metadata": {
        "id": "rj0GKMgSVlGV",
        "colab_type": "code",
        "outputId": "6202e63e-fa3a-4c63-861a-34d589ebfd36",
        "colab": {
          "base_uri": "https://localhost:8080/",
          "height": 102
        }
      },
      "source": [
        "# To save memory the result is stored in y\n",
        "# adds x to y\n",
        "y.add_(x)\n",
        "print(y)"
      ],
      "execution_count": 0,
      "outputs": [
        {
          "output_type": "stream",
          "text": [
            "tensor([[0.4522, 0.5393, 1.1201],\n",
            "        [1.4474, 1.0410, 0.9743],\n",
            "        [1.2238, 1.3020, 1.3213],\n",
            "        [1.3115, 1.3312, 1.3616],\n",
            "        [1.3242, 0.8750, 0.8247]])\n"
          ],
          "name": "stdout"
        }
      ]
    },
    {
      "cell_type": "markdown",
      "metadata": {
        "id": "EgNBadgeVscS",
        "colab_type": "text"
      },
      "source": [
        "**Note:** Any operation that mutates a tensor in-place is post-fixed with an ``_``.\n",
        "    For example: ``x.copy_(y)``, ``x.t_()``, will change ``x``.\n",
        "\n"
      ]
    },
    {
      "cell_type": "markdown",
      "metadata": {
        "id": "kOPtMoOkgC-G",
        "colab_type": "text"
      },
      "source": [
        "Any operation that mutates a tensor in-place is post-fixed with an ```_```\n",
        "\n",
        "For example: ```x.copy_(y)```, ```x.t_()```, will change ```x```."
      ]
    },
    {
      "cell_type": "code",
      "metadata": {
        "id": "hrOV0mQIgC-G",
        "colab_type": "code",
        "outputId": "7b61867c-9c6d-4a73-fda3-e3db478d0c44",
        "colab": {
          "base_uri": "https://localhost:8080/",
          "height": 68
        }
      },
      "source": [
        "print(x.t())"
      ],
      "execution_count": 0,
      "outputs": [
        {
          "output_type": "stream",
          "text": [
            "tensor([[0.2539, 0.8298, 0.9642, 0.9931, 0.7970],\n",
            "        [0.2559, 0.9282, 0.8329, 0.7148, 0.6360],\n",
            "        [0.9267, 0.0204, 0.3884, 0.4885, 0.3284]])\n"
          ],
          "name": "stdout"
        }
      ]
    },
    {
      "cell_type": "code",
      "metadata": {
        "id": "LfNnD4vSgC-H",
        "colab_type": "code",
        "outputId": "25cbaa39-774c-4ace-f282-1e77c7c625ef",
        "colab": {
          "base_uri": "https://localhost:8080/",
          "height": 102
        }
      },
      "source": [
        "print(x)"
      ],
      "execution_count": 0,
      "outputs": [
        {
          "output_type": "stream",
          "text": [
            "tensor([[0.2539, 0.2559, 0.9267],\n",
            "        [0.8298, 0.9282, 0.0204],\n",
            "        [0.9642, 0.8329, 0.3884],\n",
            "        [0.9931, 0.7148, 0.4885],\n",
            "        [0.7970, 0.6360, 0.3284]])\n"
          ],
          "name": "stdout"
        }
      ]
    },
    {
      "cell_type": "code",
      "metadata": {
        "id": "5YdHeI8lgC-I",
        "colab_type": "code",
        "outputId": "84180c85-2973-41de-edfe-ae52a9d34cc4",
        "colab": {
          "base_uri": "https://localhost:8080/",
          "height": 68
        }
      },
      "source": [
        "x.t_()\n",
        "print(x)"
      ],
      "execution_count": 0,
      "outputs": [
        {
          "output_type": "stream",
          "text": [
            "tensor([[0.2539, 0.8298, 0.9642, 0.9931, 0.7970],\n",
            "        [0.2559, 0.9282, 0.8329, 0.7148, 0.6360],\n",
            "        [0.9267, 0.0204, 0.3884, 0.4885, 0.3284]])\n"
          ],
          "name": "stdout"
        }
      ]
    },
    {
      "cell_type": "markdown",
      "metadata": {
        "id": "UfxHIL-mWyZl",
        "colab_type": "text"
      },
      "source": [
        "You can use standard NumPy-like indexing with all bells and whistles!"
      ]
    },
    {
      "cell_type": "code",
      "metadata": {
        "id": "Cz4M97B2Wtyu",
        "colab_type": "code",
        "outputId": "99c9d218-afe6-4776-b9d5-f440a1082d06",
        "colab": {
          "base_uri": "https://localhost:8080/",
          "height": 34
        }
      },
      "source": [
        "print(x[:, 1])"
      ],
      "execution_count": 0,
      "outputs": [
        {
          "output_type": "stream",
          "text": [
            "tensor([0.8298, 0.9282, 0.0204])\n"
          ],
          "name": "stdout"
        }
      ]
    },
    {
      "cell_type": "markdown",
      "metadata": {
        "id": "M6tsVH8zW8yB",
        "colab_type": "text"
      },
      "source": [
        "Resizing (very useful): If you want to resize/reshape tensor, you can use ``torch.view``:"
      ]
    },
    {
      "cell_type": "code",
      "metadata": {
        "id": "k0qjaFPDW_3I",
        "colab_type": "code",
        "outputId": "11e6ded7-2cbc-4980-afb9-1030b3b4a772",
        "colab": {
          "base_uri": "https://localhost:8080/",
          "height": 170
        }
      },
      "source": [
        "x = torch.randn(4, 4)\n",
        "print(x)\n",
        "y = x.view(16)\n",
        "print(y)\n",
        "z = x.view(-1, 8)  # the size -1 is inferred from other dimensions\n",
        "print(z)\n",
        "print(x.size(), y.size(), z.size())"
      ],
      "execution_count": 0,
      "outputs": [
        {
          "output_type": "stream",
          "text": [
            "tensor([[ 0.3832, -0.4140, -0.0283, -0.3309],\n",
            "        [-0.2948, -0.5160,  0.1073,  1.0388],\n",
            "        [ 0.0510,  0.4278, -2.1625,  0.1641],\n",
            "        [ 1.5333, -0.2309, -2.9676,  0.9650]])\n",
            "tensor([ 0.3832, -0.4140, -0.0283, -0.3309, -0.2948, -0.5160,  0.1073,  1.0388,\n",
            "         0.0510,  0.4278, -2.1625,  0.1641,  1.5333, -0.2309, -2.9676,  0.9650])\n",
            "tensor([[ 0.3832, -0.4140, -0.0283, -0.3309, -0.2948, -0.5160,  0.1073,  1.0388],\n",
            "        [ 0.0510,  0.4278, -2.1625,  0.1641,  1.5333, -0.2309, -2.9676,  0.9650]])\n",
            "torch.Size([4, 4]) torch.Size([16]) torch.Size([2, 8])\n"
          ],
          "name": "stdout"
        }
      ]
    },
    {
      "cell_type": "markdown",
      "metadata": {
        "id": "fP8sTTCgXRak",
        "colab_type": "text"
      },
      "source": [
        "If you have a one element tensor, use ``.item()`` to get the value as a\n",
        "Python number"
      ]
    },
    {
      "cell_type": "code",
      "metadata": {
        "id": "zaG9x6SHXSPw",
        "colab_type": "code",
        "outputId": "ce41e933-c62b-4acd-f683-ae4e8d876648",
        "colab": {
          "base_uri": "https://localhost:8080/",
          "height": 51
        }
      },
      "source": [
        "x = torch.randn(1)\n",
        "print(x)\n",
        "print(x.item())"
      ],
      "execution_count": 0,
      "outputs": [
        {
          "output_type": "stream",
          "text": [
            "tensor([-0.6155])\n",
            "-0.6155474185943604\n"
          ],
          "name": "stdout"
        }
      ]
    },
    {
      "cell_type": "markdown",
      "metadata": {
        "id": "mqCvPrp-XmZQ",
        "colab_type": "text"
      },
      "source": [
        "**Read later:**\n",
        "\n",
        "\n",
        "  100+ Tensor operations, including transposing, indexing, slicing,\n",
        "  mathematical operations, linear algebra, random numbers, etc.,\n",
        "  are described\n",
        "  [here](https://pytorch.org/docs/torch)."
      ]
    },
    {
      "cell_type": "markdown",
      "metadata": {
        "id": "8Jk-JGYpeCNz",
        "colab_type": "text"
      },
      "source": [
        "## 3D Tensors"
      ]
    },
    {
      "cell_type": "markdown",
      "metadata": {
        "id": "RTGbU2E-eLWF",
        "colab_type": "text"
      },
      "source": [
        "### Question: What is the size of the following tensor?\n",
        "\n",
        "**Answer:**\n",
        "\n",
        "(3, 2, 3) - representing 3 matrices, each one with matrices (2, 3)"
      ]
    },
    {
      "cell_type": "code",
      "metadata": {
        "id": "d-Dg4nyOeD4f",
        "colab_type": "code",
        "outputId": "df316a89-2616-4815-f5b1-f07639d2b380",
        "colab": {
          "base_uri": "https://localhost:8080/",
          "height": 153
        }
      },
      "source": [
        "y = torch.tensor([\n",
        "     [\n",
        "       [1, 2, 3],\n",
        "       [4, 5, 6]\n",
        "     ],\n",
        "     [\n",
        "       [1, 2, 3],\n",
        "       [4, 5, 6]\n",
        "     ],\n",
        "     [\n",
        "       [1, 2, 3],\n",
        "       [4, 5, 6]\n",
        "     ]\n",
        "   ])\n",
        "print(y)"
      ],
      "execution_count": 0,
      "outputs": [
        {
          "output_type": "stream",
          "text": [
            "tensor([[[1, 2, 3],\n",
            "         [4, 5, 6]],\n",
            "\n",
            "        [[1, 2, 3],\n",
            "         [4, 5, 6]],\n",
            "\n",
            "        [[1, 2, 3],\n",
            "         [4, 5, 6]]])\n"
          ],
          "name": "stdout"
        }
      ]
    },
    {
      "cell_type": "code",
      "metadata": {
        "id": "2gBU82BTe0_y",
        "colab_type": "code",
        "outputId": "6b5b3d97-2ed6-4ce8-f9ee-56f4e0d5a633",
        "colab": {
          "base_uri": "https://localhost:8080/",
          "height": 34
        }
      },
      "source": [
        "# COMPLETE THE CELL\n",
        "# The first dimension is the number of matrices, the second the number of rows and the third the number of columns\n",
        "print(y.size())"
      ],
      "execution_count": 0,
      "outputs": [
        {
          "output_type": "stream",
          "text": [
            "torch.Size([3, 2, 3])\n"
          ],
          "name": "stdout"
        }
      ]
    },
    {
      "cell_type": "markdown",
      "metadata": {
        "id": "dOUGbVEUe9DC",
        "colab_type": "text"
      },
      "source": [
        "### Question: Explain the result of the next cell\n",
        "\n",
        "**Answer: **\n",
        "\n",
        "The function sum returns the sum of each row of the input tensor, returning a tensor with two rows and three cols.\n"
      ]
    },
    {
      "cell_type": "code",
      "metadata": {
        "id": "14O04VMTe9eg",
        "colab_type": "code",
        "outputId": "09804cae-ebc1-46e0-f771-76b7c29d50dd",
        "colab": {
          "base_uri": "https://localhost:8080/",
          "height": 51
        }
      },
      "source": [
        "torch.sum(y, dim=0)"
      ],
      "execution_count": 0,
      "outputs": [
        {
          "output_type": "execute_result",
          "data": {
            "text/plain": [
              "tensor([[ 3,  6,  9],\n",
              "        [12, 15, 18]])"
            ]
          },
          "metadata": {
            "tags": []
          },
          "execution_count": 191
        }
      ]
    },
    {
      "cell_type": "code",
      "metadata": {
        "id": "c41c2aWhddbj",
        "colab_type": "code",
        "outputId": "161d1758-9866-4e1a-c97c-e18d5a9619ea",
        "colab": {
          "base_uri": "https://localhost:8080/",
          "height": 68
        }
      },
      "source": [
        "# Changing the dim we change totally the result\n",
        "torch.sum(y, dim=1)"
      ],
      "execution_count": 0,
      "outputs": [
        {
          "output_type": "execute_result",
          "data": {
            "text/plain": [
              "tensor([[5, 7, 9],\n",
              "        [5, 7, 9],\n",
              "        [5, 7, 9]])"
            ]
          },
          "metadata": {
            "tags": []
          },
          "execution_count": 192
        }
      ]
    },
    {
      "cell_type": "code",
      "metadata": {
        "id": "kGA_qOV8B0HB",
        "colab_type": "code",
        "outputId": "aed8c026-e353-4f0c-c851-d7d95b5c4f91",
        "colab": {
          "base_uri": "https://localhost:8080/",
          "height": 34
        }
      },
      "source": [
        "# Important: if I don't define the dimension it will sum all the elements and return an scalar tensor\n",
        "torch.sum(y)"
      ],
      "execution_count": 0,
      "outputs": [
        {
          "output_type": "execute_result",
          "data": {
            "text/plain": [
              "tensor(63)"
            ]
          },
          "metadata": {
            "tags": []
          },
          "execution_count": 193
        }
      ]
    },
    {
      "cell_type": "markdown",
      "metadata": {
        "id": "Ev68h5j1ZUNH",
        "colab_type": "text"
      },
      "source": [
        "## Broadcasting semantics\n",
        "\n",
        "In short, if a PyTorch operation supports broadcast, then its Tensor arguments can be automatically expanded to be of equal sizes (without making copies of the data).\n",
        "\n",
        "Two tensors are “broadcastable” if the following rules hold:\n",
        "\n",
        "*   Each tensor has at least one dimension.\n",
        "*   When iterating over the dimension sizes, **starting at the trailing dimension**, the dimension sizes must either be equal, one of them is 1, or one of them does not exist.\n",
        "\n",
        "If two tensors x, y are “broadcastable”, the resulting tensor size is calculated as follows:\n",
        "* If the number of dimensions of x and y are not equal, prepend 1 to the dimensions of the tensor with fewer dimensions to make them equal length.\n",
        "* Then, for each dimension size, the resulting dimension size is the max of the sizes of x and y along that dimension.\n",
        "\n",
        "More details [here](https://pytorch.org/docs/stable/notes/broadcasting.html)\n",
        "\n"
      ]
    },
    {
      "cell_type": "markdown",
      "metadata": {
        "id": "ALNA5pHzIfjB",
        "colab_type": "text"
      },
      "source": [
        "\n",
        "\n",
        "![alt text](https://i.stack.imgur.com/JcKv1.png)\n"
      ]
    },
    {
      "cell_type": "code",
      "metadata": {
        "id": "P3f9hXLxZXQa",
        "colab_type": "code",
        "outputId": "4f07126b-71a5-4671-d972-9669a2261ee5",
        "colab": {
          "base_uri": "https://localhost:8080/",
          "height": 34
        }
      },
      "source": [
        "# can line up trailing dimensions to make reading easier\n",
        "x=torch.empty(5,1,4,1)\n",
        "y=torch.empty(  3,1,1)\n",
        "print((x+y).size())"
      ],
      "execution_count": 0,
      "outputs": [
        {
          "output_type": "stream",
          "text": [
            "torch.Size([5, 3, 4, 1])\n"
          ],
          "name": "stdout"
        }
      ]
    },
    {
      "cell_type": "code",
      "metadata": {
        "id": "LsYo7aBqaJ5F",
        "colab_type": "code",
        "outputId": "d50d5a2d-02e6-4973-d615-3ebb7a820b84",
        "colab": {
          "base_uri": "https://localhost:8080/",
          "height": 34
        }
      },
      "source": [
        "# but not necessary:\n",
        "x=torch.empty(1)\n",
        "y=torch.empty(3,1,7)\n",
        "print((x+y).size())"
      ],
      "execution_count": 0,
      "outputs": [
        {
          "output_type": "stream",
          "text": [
            "torch.Size([3, 1, 7])\n"
          ],
          "name": "stdout"
        }
      ]
    },
    {
      "cell_type": "markdown",
      "metadata": {
        "id": "0n_Y_hY6fxeL",
        "colab_type": "text"
      },
      "source": [
        "### Question: The following command does not work. Why?\n",
        "\n",
        "**Answer:**\n",
        "\n",
        "They are incompatible according to the broadcasting criterion, so the system cannot create a compatibility between them to sum. \n",
        "Let's for example define a letter to each dimension of the tensor\n",
        "              A B C D \n",
        "x=torch.empty(5,2,4,1)\n",
        "y=torch.empty(  3,1,1)\n",
        "- D: equal 1 for both tensors => one dimension equal to 1  -> OK\n",
        "- C: tensor y equal to 1 => one dimension equal to 1  -> OK\n",
        "- B: tensor x = 2 and y =3 => both dimension greater than one -> NOT OK  \n",
        "- A: tensor x = 5 and not present in y =>  outer dimension only exists for one tensor -> OK\n",
        "\n",
        "As one of the dimension is incompatible the whole operation is not possible.\n"
      ]
    },
    {
      "cell_type": "code",
      "metadata": {
        "id": "Vq3SqanjaO6U",
        "colab_type": "code",
        "outputId": "5c611c0a-c275-47f2-cf8b-218e91cf1883",
        "colab": {
          "base_uri": "https://localhost:8080/",
          "height": 34
        }
      },
      "source": [
        "x=torch.empty(5,2,4,1)\n",
        "y=torch.empty(  3,1,1)\n",
        "try:\n",
        "  print((x+y).size())\n",
        "except:\n",
        "  print(\"Tensors incompatible for broadcasting!\")"
      ],
      "execution_count": 0,
      "outputs": [
        {
          "output_type": "stream",
          "text": [
            "Tensors incompatible for broadcasting!\n"
          ],
          "name": "stdout"
        }
      ]
    },
    {
      "cell_type": "code",
      "metadata": {
        "id": "ha4-WRJ0g4l9",
        "colab_type": "code",
        "outputId": "e1c5b9cb-7965-417a-e3b6-c670212eba34",
        "colab": {
          "base_uri": "https://localhost:8080/",
          "height": 153
        }
      },
      "source": [
        "x=2*torch.ones(  2,4)\n",
        "y=torch.ones(3,2,4)\n",
        "print(x+y)"
      ],
      "execution_count": 0,
      "outputs": [
        {
          "output_type": "stream",
          "text": [
            "tensor([[[3., 3., 3., 3.],\n",
            "         [3., 3., 3., 3.]],\n",
            "\n",
            "        [[3., 3., 3., 3.],\n",
            "         [3., 3., 3., 3.]],\n",
            "\n",
            "        [[3., 3., 3., 3.],\n",
            "         [3., 3., 3., 3.]]])\n"
          ],
          "name": "stdout"
        }
      ]
    },
    {
      "cell_type": "markdown",
      "metadata": {
        "id": "Afol8pk8VPUn",
        "colab_type": "text"
      },
      "source": [
        "### Question: What is the diffence between \"x = xr\" and \"x = xr.clone()\"?\n",
        "\n",
        "**Answer:**\n",
        "\n",
        "- \"x = xr\" - creates a copy by reference, in such a way that if you change either of the variables both are going to show the same value because they point to the same memory address.\n",
        "\n",
        "- \"x = xr.clone()\" - creates a copy by reference allocating a new memory address to store data, in a way that both variables are independent."
      ]
    },
    {
      "cell_type": "code",
      "metadata": {
        "id": "ROIvJcOngC-E",
        "colab_type": "code",
        "outputId": "319c360f-3ece-476c-fecd-009014ffcecf",
        "colab": {
          "base_uri": "https://localhost:8080/",
          "height": 119
        }
      },
      "source": [
        "# clone is a copy by value -> increases storage\n",
        "x = xr.clone()\n",
        "x.add_(-xr)\n",
        "print(x)\n",
        "print(xr)"
      ],
      "execution_count": 0,
      "outputs": [
        {
          "output_type": "stream",
          "text": [
            "tensor([[0., 0., 0., 0., 0.],\n",
            "        [0., 0., 0., 0., 0.],\n",
            "        [0., 0., 0., 0., 0.]])\n",
            "tensor([[-1.2924,  0.9889, -0.8274,  0.4356, -0.8070],\n",
            "        [ 0.5888,  0.0029,  1.1720,  0.9433, -0.5264],\n",
            "        [ 0.7490,  1.5298, -0.4614, -1.1126,  0.2778]])\n"
          ],
          "name": "stdout"
        }
      ]
    },
    {
      "cell_type": "code",
      "metadata": {
        "id": "su1mvUx3HQyq",
        "colab_type": "code",
        "outputId": "eedfb84b-820a-4674-ac77-210e71f6696c",
        "colab": {
          "base_uri": "https://localhost:8080/",
          "height": 119
        }
      },
      "source": [
        "# x and xr share the same memory address -> save memory - copy by reference \n",
        "x = xr\n",
        "x.add_(-xr)\n",
        "print(x)\n",
        "print(xr)"
      ],
      "execution_count": 0,
      "outputs": [
        {
          "output_type": "stream",
          "text": [
            "tensor([[0., 0., 0., 0., 0.],\n",
            "        [0., 0., 0., 0., 0.],\n",
            "        [0., 0., 0., 0., 0.]])\n",
            "tensor([[0., 0., 0., 0., 0.],\n",
            "        [0., 0., 0., 0., 0.],\n",
            "        [0., 0., 0., 0., 0.]])\n"
          ],
          "name": "stdout"
        }
      ]
    },
    {
      "cell_type": "markdown",
      "metadata": {
        "id": "UWxZLzMrgC-J",
        "colab_type": "text"
      },
      "source": [
        "Also be careful, changing the torch tensor modify the numpy array and vice-versa..."
      ]
    },
    {
      "cell_type": "code",
      "metadata": {
        "id": "lkcW43iugC-J",
        "colab_type": "code",
        "outputId": "7bb3b280-9293-4818-ff30-bec83eceaacd",
        "colab": {
          "base_uri": "https://localhost:8080/",
          "height": 85
        }
      },
      "source": [
        "# Important: to save memory here the numpy variable points to the same memory address than the pytorch one\n",
        "y=torch.ones(2,4)\n",
        "print(y)\n",
        "z = y.numpy()\n",
        "print(z)"
      ],
      "execution_count": 0,
      "outputs": [
        {
          "output_type": "stream",
          "text": [
            "tensor([[1., 1., 1., 1.],\n",
            "        [1., 1., 1., 1.]])\n",
            "[[1. 1. 1. 1.]\n",
            " [1. 1. 1. 1.]]\n"
          ],
          "name": "stdout"
        }
      ]
    },
    {
      "cell_type": "code",
      "metadata": {
        "id": "qvRrtvz1gC-K",
        "colab_type": "code",
        "outputId": "7e016344-9b13-4f65-989f-925b60d6dd44",
        "colab": {
          "base_uri": "https://localhost:8080/",
          "height": 170
        }
      },
      "source": [
        "np.add(z, 1, out=z)\n",
        "print(\"z=\", z)\n",
        "print(\"y=\", y,\"\\n\")\n",
        "torch.add(y, -4, out=y)\n",
        "print(\"z=\",z)\n",
        "print(\"y=\",y)"
      ],
      "execution_count": 0,
      "outputs": [
        {
          "output_type": "stream",
          "text": [
            "z= [[2. 2. 2. 2.]\n",
            " [2. 2. 2. 2.]]\n",
            "y= tensor([[2., 2., 2., 2.],\n",
            "        [2., 2., 2., 2.]]) \n",
            "\n",
            "z= [[-2. -2. -2. -2.]\n",
            " [-2. -2. -2. -2.]]\n",
            "y= tensor([[-2., -2., -2., -2.],\n",
            "        [-2., -2., -2., -2.]])\n"
          ],
          "name": "stdout"
        }
      ]
    },
    {
      "cell_type": "markdown",
      "metadata": {
        "id": "AmGizC3pMbm8",
        "colab_type": "text"
      },
      "source": [
        "## Computational graphs"
      ]
    },
    {
      "cell_type": "code",
      "metadata": {
        "colab_type": "code",
        "id": "O5Kw7MQpMxWB",
        "colab": {}
      },
      "source": [
        "import matplotlib.pyplot as plt\n",
        "%matplotlib inline\n",
        "import torch"
      ],
      "execution_count": 0,
      "outputs": []
    },
    {
      "cell_type": "code",
      "metadata": {
        "id": "2Gza10WeM10G",
        "colab_type": "code",
        "outputId": "91b93fe6-ace8-49b1-cfe4-88923a0dd08e",
        "colab": {
          "base_uri": "https://localhost:8080/",
          "height": 68
        }
      },
      "source": [
        "!pip install torchviz"
      ],
      "execution_count": 0,
      "outputs": [
        {
          "output_type": "stream",
          "text": [
            "Requirement already satisfied: torchviz in /usr/local/lib/python3.6/dist-packages (0.0.1)\n",
            "Requirement already satisfied: graphviz in /usr/local/lib/python3.6/dist-packages (from torchviz) (0.10.1)\n",
            "Requirement already satisfied: torch in /usr/local/lib/python3.6/dist-packages (from torchviz) (1.4.0)\n"
          ],
          "name": "stdout"
        }
      ]
    },
    {
      "cell_type": "code",
      "metadata": {
        "id": "1nEbmC7TM1mw",
        "colab_type": "code",
        "colab": {}
      },
      "source": [
        "import torchviz"
      ],
      "execution_count": 0,
      "outputs": []
    },
    {
      "cell_type": "code",
      "metadata": {
        "id": "5Z2dMtEOMuWb",
        "colab_type": "code",
        "outputId": "dc99cd0b-172d-490e-a34b-2e21bad5cecf",
        "colab": {
          "base_uri": "https://localhost:8080/",
          "height": 315
        }
      },
      "source": [
        "x = torch.ones(2, 2, requires_grad=True)\n",
        "w = torch.rand(1, 1, requires_grad=True)\n",
        "print(x)\n",
        "print(w)\n",
        "y = w * x + 2\n",
        "print(y)\n",
        "torchviz.make_dot(y)"
      ],
      "execution_count": 0,
      "outputs": [
        {
          "output_type": "stream",
          "text": [
            "tensor([[1., 1.],\n",
            "        [1., 1.]], requires_grad=True)\n",
            "tensor([[0.3009]], requires_grad=True)\n",
            "tensor([[2.3009, 2.3009],\n",
            "        [2.3009, 2.3009]], grad_fn=<AddBackward0>)\n"
          ],
          "name": "stdout"
        },
        {
          "output_type": "execute_result",
          "data": {
            "text/plain": [
              "<graphviz.dot.Digraph at 0x7f97a22cc4e0>"
            ],
            "image/svg+xml": "<?xml version=\"1.0\" encoding=\"UTF-8\" standalone=\"no\"?>\n<!DOCTYPE svg PUBLIC \"-//W3C//DTD SVG 1.1//EN\"\n \"http://www.w3.org/Graphics/SVG/1.1/DTD/svg11.dtd\">\n<!-- Generated by graphviz version 2.40.1 (20161225.0304)\n -->\n<!-- Title: %3 Pages: 1 -->\n<svg width=\"134pt\" height=\"157pt\"\n viewBox=\"0.00 0.00 134.00 157.00\" xmlns=\"http://www.w3.org/2000/svg\" xmlns:xlink=\"http://www.w3.org/1999/xlink\">\n<g id=\"graph0\" class=\"graph\" transform=\"scale(1 1) rotate(0) translate(4 153)\">\n<title>%3</title>\n<polygon fill=\"#ffffff\" stroke=\"transparent\" points=\"-4,4 -4,-153 130,-153 130,4 -4,4\"/>\n<!-- 140289237633008 -->\n<g id=\"node1\" class=\"node\">\n<title>140289237633008</title>\n<polygon fill=\"#caff70\" stroke=\"#000000\" points=\"109,-21 17,-21 17,0 109,0 109,-21\"/>\n<text text-anchor=\"middle\" x=\"63\" y=\"-7.4\" font-family=\"Times,serif\" font-size=\"12.00\" fill=\"#000000\">AddBackward0</text>\n</g>\n<!-- 140289237634184 -->\n<g id=\"node2\" class=\"node\">\n<title>140289237634184</title>\n<polygon fill=\"#d3d3d3\" stroke=\"#000000\" points=\"108.5,-78 17.5,-78 17.5,-57 108.5,-57 108.5,-78\"/>\n<text text-anchor=\"middle\" x=\"63\" y=\"-64.4\" font-family=\"Times,serif\" font-size=\"12.00\" fill=\"#000000\">MulBackward0</text>\n</g>\n<!-- 140289237634184&#45;&gt;140289237633008 -->\n<g id=\"edge1\" class=\"edge\">\n<title>140289237634184&#45;&gt;140289237633008</title>\n<path fill=\"none\" stroke=\"#000000\" d=\"M63,-56.7787C63,-49.6134 63,-39.9517 63,-31.3097\"/>\n<polygon fill=\"#000000\" stroke=\"#000000\" points=\"66.5001,-31.1732 63,-21.1732 59.5001,-31.1732 66.5001,-31.1732\"/>\n</g>\n<!-- 140289237634688 -->\n<g id=\"node3\" class=\"node\">\n<title>140289237634688</title>\n<polygon fill=\"#add8e6\" stroke=\"#000000\" points=\"54,-149 0,-149 0,-114 54,-114 54,-149\"/>\n<text text-anchor=\"middle\" x=\"27\" y=\"-121.4\" font-family=\"Times,serif\" font-size=\"12.00\" fill=\"#000000\"> (1, 1)</text>\n</g>\n<!-- 140289237634688&#45;&gt;140289237634184 -->\n<g id=\"edge2\" class=\"edge\">\n<title>140289237634688&#45;&gt;140289237634184</title>\n<path fill=\"none\" stroke=\"#000000\" d=\"M37.028,-113.6724C41.6838,-105.3956 47.2312,-95.5334 52.0015,-87.053\"/>\n<polygon fill=\"#000000\" stroke=\"#000000\" points=\"55.1159,-88.6551 56.9681,-78.2234 49.0149,-85.2233 55.1159,-88.6551\"/>\n</g>\n<!-- 140289237634800 -->\n<g id=\"node4\" class=\"node\">\n<title>140289237634800</title>\n<polygon fill=\"#add8e6\" stroke=\"#000000\" points=\"126,-149 72,-149 72,-114 126,-114 126,-149\"/>\n<text text-anchor=\"middle\" x=\"99\" y=\"-121.4\" font-family=\"Times,serif\" font-size=\"12.00\" fill=\"#000000\"> (2, 2)</text>\n</g>\n<!-- 140289237634800&#45;&gt;140289237634184 -->\n<g id=\"edge3\" class=\"edge\">\n<title>140289237634800&#45;&gt;140289237634184</title>\n<path fill=\"none\" stroke=\"#000000\" d=\"M88.972,-113.6724C84.3162,-105.3956 78.7688,-95.5334 73.9985,-87.053\"/>\n<polygon fill=\"#000000\" stroke=\"#000000\" points=\"76.9851,-85.2233 69.0319,-78.2234 70.8841,-88.6551 76.9851,-85.2233\"/>\n</g>\n</g>\n</svg>\n"
          },
          "metadata": {
            "tags": []
          },
          "execution_count": 205
        }
      ]
    },
    {
      "cell_type": "markdown",
      "metadata": {
        "id": "uSvS2bdKidcc",
        "colab_type": "text"
      },
      "source": [
        "\n",
        "## Playing with pytorch: linear regression"
      ]
    },
    {
      "cell_type": "markdown",
      "metadata": {
        "id": "UzjNRT-OSCzL",
        "colab_type": "text"
      },
      "source": [
        "Code for plotting the surface"
      ]
    },
    {
      "cell_type": "code",
      "metadata": {
        "id": "KhuyxIm1Rd0W",
        "colab_type": "code",
        "colab": {}
      },
      "source": [
        "import matplotlib.pyplot as plt\n",
        "import numpy as np\n",
        "from mpl_toolkits.mplot3d import Axes3D\n",
        "\n",
        "def plot_figs(fig_num, elev, azim, x, y, weights, bias):\n",
        "    fig = plt.figure(fig_num, figsize=(4, 3))\n",
        "    plt.clf()\n",
        "    ax = Axes3D(fig, elev=elev, azim=azim)\n",
        "    ax.scatter(x[:, 0], x[:, 1], y)\n",
        "    ax.plot_surface(np.array([[0, 0], [1, 1]]),\n",
        "                    np.array([[0, 1], [0, 1]]),\n",
        "                    (np.dot(np.array([[0, 0, 1, 1],\n",
        "                                          [0, 1, 0, 1]]).T, weights) + bias).reshape((2, 2)),\n",
        "                    alpha=.5)\n",
        "    ax.set_xlabel('x_1')\n",
        "    ax.set_ylabel('x_2')\n",
        "    ax.set_zlabel('y')\n",
        "    \n",
        "def plot_views(x, y, w, b):\n",
        "    # Generate the different figures from different views\n",
        "    elev = 43.5\n",
        "    azim = -110\n",
        "    plot_figs(1, elev, azim, x, y, w, b[0])\n",
        "\n",
        "    plt.show()"
      ],
      "execution_count": 0,
      "outputs": []
    },
    {
      "cell_type": "markdown",
      "metadata": {
        "id": "Bkt2h0X6SFmR",
        "colab_type": "text"
      },
      "source": [
        "Code for generating the 2D points"
      ]
    },
    {
      "cell_type": "code",
      "metadata": {
        "id": "14tvkKCyMwYD",
        "colab_type": "code",
        "outputId": "4cded5ec-979d-47b5-fba0-7ca531249298",
        "colab": {
          "base_uri": "https://localhost:8080/",
          "height": 85
        }
      },
      "source": [
        "#Data generation (2D points)\n",
        "w_source = torch.tensor([2., -3.], dtype=torch.float).view(-1,1)\n",
        "b_source  = torch.tensor([1.], dtype=torch.float)\n",
        "\n",
        "x = torch.empty(30, 2).uniform_(0, 1) # input of the regression model\n",
        "\n",
        "print(x.shape)\n",
        "print(w_source.shape)\n",
        "print(b_source.shape)\n",
        "\n",
        "y = torch.matmul(x,w_source)+b_source # output of the regression model\n",
        "print(y.shape)"
      ],
      "execution_count": 0,
      "outputs": [
        {
          "output_type": "stream",
          "text": [
            "torch.Size([30, 2])\n",
            "torch.Size([2, 1])\n",
            "torch.Size([1])\n",
            "torch.Size([30, 1])\n"
          ],
          "name": "stdout"
        }
      ]
    },
    {
      "cell_type": "markdown",
      "metadata": {
        "id": "KW6YMS6tSMVr",
        "colab_type": "text"
      },
      "source": [
        "Plot the dataset"
      ]
    },
    {
      "cell_type": "code",
      "metadata": {
        "id": "rMRbqdZaRjCz",
        "colab_type": "code",
        "outputId": "33da8a49-775a-42aa-9659-6babeea7ef0c",
        "colab": {
          "base_uri": "https://localhost:8080/",
          "height": 247
        }
      },
      "source": [
        "plot_views(x.numpy(), y.numpy(), w_source.numpy(), b_source.numpy())"
      ],
      "execution_count": 0,
      "outputs": [
        {
          "output_type": "display_data",
          "data": {
            "image/png": "[encoded data removed]",
            "text/plain": [
              "<Figure size 288x216 with 1 Axes>"
            ]
          },
          "metadata": {
            "tags": []
          }
        }
      ]
    },
    {
      "cell_type": "code",
      "metadata": {
        "id": "7ifOnoZrff-p",
        "colab_type": "code",
        "outputId": "dac5e1d2-895c-466b-bb19-8f8531855db5",
        "colab": {
          "base_uri": "https://localhost:8080/",
          "height": 68
        }
      },
      "source": [
        "print('w: ', w_source)\n",
        "print('b: ', b_source)"
      ],
      "execution_count": 0,
      "outputs": [
        {
          "output_type": "stream",
          "text": [
            "w:  tensor([[ 2.],\n",
            "        [-3.]])\n",
            "b:  tensor([1.])\n"
          ],
          "name": "stdout"
        }
      ]
    },
    {
      "cell_type": "code",
      "metadata": {
        "id": "bsGaEFPRiduc",
        "colab_type": "code",
        "outputId": "0cf43c87-e2c4-48d4-8440-4e52b3c17a86",
        "colab": {
          "base_uri": "https://localhost:8080/",
          "height": 85
        }
      },
      "source": [
        "# randomly initialize learnable weights and bias\n",
        "w_t_init = torch.empty(2, 1).uniform_(-1, 1) \n",
        "b_t_init = torch.empty(1, 1).uniform_(-1, 1)\n",
        "\n",
        "print(\"Initial values of the parameters:\")\n",
        "print('w_init: ',w_t_init) \n",
        "print('b_init:', b_t_init)"
      ],
      "execution_count": 0,
      "outputs": [
        {
          "output_type": "stream",
          "text": [
            "Initial values of the parameters:\n",
            "w_init:  tensor([[ 0.8421],\n",
            "        [-0.3172]])\n",
            "b_init: tensor([[-0.0884]])\n"
          ],
          "name": "stdout"
        }
      ]
    },
    {
      "cell_type": "markdown",
      "metadata": {
        "id": "y2GD_KIBUTgS",
        "colab_type": "text"
      },
      "source": [
        "### Question: calculate the gradient of the loss and code it.\n",
        "\n",
        "Criterion to minimize:\n",
        "\n",
        "$$\n",
        "J(w_t,b_t)=\\sum_{i=1}^{30}{(\\hat{y}_i-y_i)}^2=\\sum_{i=1}^{30}{(x_iw_t+b_t-y_i)}^2={\\parallel x w_t+b_t 1_{30}-y\\parallel}^2\n",
        "$$\n",
        "\n",
        "Gradient:\n",
        "\n",
        "$$\n",
        "\\frac{\\partial J(w_t,b_t)}{\\partial w_t}=2x^Txw_t+2x^T 1_{30} b_t-2x^T y=2x^T(xw_t+1_{30} b_t-y)\n",
        "$$\n",
        "\n",
        "$$\n",
        "\\frac{\\partial J(w_t,b_t)}{\\partial b_t}=2\\sum_{i=1}^{30}{(x_iw_t+b_t-y_i)}\n",
        "$$\n"
      ]
    },
    {
      "cell_type": "code",
      "metadata": {
        "id": "xSwsgVkpPE2i",
        "colab_type": "code",
        "colab": {}
      },
      "source": [
        "# our model forward pass\n",
        "def forward_t(x):\n",
        "    return x.mm(w_t)+b_t\n",
        "\n",
        "# Loss function\n",
        "def loss_t(x, y):\n",
        "    y_pred = forward_t(x)\n",
        "    return (y_pred - y).pow(2).sum()\n",
        "\n",
        "# compute gradient\n",
        "def gradient_t(x, y):  # d_loss/d_w, d_loss/d_c\n",
        "    return 2*torch.mm(torch.t(x),x.mm(w_t)+b_t - y), 2 * (x.mm(w_t)+b_t - y).sum()"
      ],
      "execution_count": 0,
      "outputs": []
    },
    {
      "cell_type": "markdown",
      "metadata": {
        "id": "7x8wNpUISp88",
        "colab_type": "text"
      },
      "source": [
        "Main loop for computing the estimate (gradient descent)"
      ]
    },
    {
      "cell_type": "markdown",
      "metadata": {
        "colab_type": "text",
        "id": "pAAxsXCqUSuR"
      },
      "source": [
        "### Question: code the gradient descent algorithm within the main loop."
      ]
    },
    {
      "cell_type": "code",
      "metadata": {
        "id": "zmh-_IHaidxp",
        "colab_type": "code",
        "outputId": "c2402652-5b86-4b1c-aa0d-8bc84af1bc56",
        "colab": {
          "base_uri": "https://localhost:8080/",
          "height": 187
        }
      },
      "source": [
        "learning_rate = 1e-2\n",
        "\n",
        "w_t = w_t_init.clone()\n",
        "b_t = b_t_init.clone()\n",
        "\n",
        "for epoch in range(10):\n",
        "    l = loss_t(x,y)\n",
        "    grad_w, grad_b = gradient_t(x,y)\n",
        "    # COMPLETE THE CELL FROM HERE\n",
        "    # ...\n",
        "    w_t = w_t-grad_w*learning_rate\n",
        "    b_t = b_t-grad_b*learning_rate\n",
        "    print(\"progress:\", \"epoch:\", epoch, \"loss\",l)"
      ],
      "execution_count": 0,
      "outputs": [
        {
          "output_type": "stream",
          "text": [
            "progress: epoch: 0 loss tensor(23.8776)\n",
            "progress: epoch: 1 loss tensor(19.1054)\n",
            "progress: epoch: 2 loss tensor(17.4632)\n",
            "progress: epoch: 3 loss tensor(15.9836)\n",
            "progress: epoch: 4 loss tensor(14.6298)\n",
            "progress: epoch: 5 loss tensor(13.3911)\n",
            "progress: epoch: 6 loss tensor(12.2575)\n",
            "progress: epoch: 7 loss tensor(11.2202)\n",
            "progress: epoch: 8 loss tensor(10.2710)\n",
            "progress: epoch: 9 loss tensor(9.4023)\n"
          ],
          "name": "stdout"
        }
      ]
    },
    {
      "cell_type": "code",
      "metadata": {
        "id": "87XspCGIid0t",
        "colab_type": "code",
        "outputId": "1e3e061f-5bcc-43af-b231-d34f28aba6b6",
        "colab": {
          "base_uri": "https://localhost:8080/",
          "height": 85
        }
      },
      "source": [
        "# After training\n",
        "print(\"Estimation of the parameters:\")\n",
        "print(w_t)\n",
        "print(b_t)"
      ],
      "execution_count": 0,
      "outputs": [
        {
          "output_type": "stream",
          "text": [
            "Estimation of the parameters:\n",
            "tensor([[ 1.3708],\n",
            "        [-1.1972]])\n",
            "tensor([[0.4055]])\n"
          ],
          "name": "stdout"
        }
      ]
    },
    {
      "cell_type": "markdown",
      "metadata": {
        "id": "sceg1L15TqSy",
        "colab_type": "text"
      },
      "source": [
        "### Question: Test a higger learning rate (e.g., learning_rate = 1). Explain what you observe.\n",
        "\n",
        "**Answer:**\n",
        "\n",
        "The learning rate is so big that the steps that we are not able to explore the area were the function reaches it's minimum.\n"
      ]
    },
    {
      "cell_type": "code",
      "metadata": {
        "id": "b6lKJ0ziycRF",
        "colab_type": "code",
        "outputId": "18f0916a-30f9-4b42-a962-d0f5bf6b4408",
        "colab": {
          "base_uri": "https://localhost:8080/",
          "height": 51
        }
      },
      "source": [
        "learning_rate = 1\n",
        "\n",
        "w_t = w_t_init.clone()\n",
        "b_t = b_t_init.clone()\n",
        "\n",
        "for epoch in range(100):\n",
        "    l = loss_t(x,y)\n",
        "    grad_w, grad_b = gradient_t(x,y)\n",
        "    # COMPLETE THE CELL FROM HERE\n",
        "    # ...\n",
        "    w_t = w_t-grad_w*learning_rate\n",
        "    b_t = b_t-grad_b*learning_rate\n",
        "\n",
        "print(\"weight:\", w_t, \"bias: \",b_t)"
      ],
      "execution_count": 0,
      "outputs": [
        {
          "output_type": "stream",
          "text": [
            "weight: tensor([[nan],\n",
            "        [nan]]) bias:  tensor([[nan]])\n"
          ],
          "name": "stdout"
        }
      ]
    },
    {
      "cell_type": "markdown",
      "metadata": {
        "id": "gqWJFYZSTX_m",
        "colab_type": "text"
      },
      "source": [
        "### Question: How to improve the quality of the estimate?\n",
        "\n",
        "**Answer:**\n",
        "\n",
        "Increasing the epochs."
      ]
    },
    {
      "cell_type": "code",
      "metadata": {
        "id": "etN7P4_oizZM",
        "colab_type": "code",
        "outputId": "c5c7fa24-e4b5-4a93-86bb-465fad2ae107",
        "colab": {
          "base_uri": "https://localhost:8080/",
          "height": 85
        }
      },
      "source": [
        "learning_rate = 1e-2\n",
        "\n",
        "# randomly initialize learnable weights and bias\n",
        "w_t = torch.randn(2,1)\n",
        "b_t = torch.randn(1,1)\n",
        "\n",
        "for epoch in range(100):\n",
        "    l = loss_t(x,y)\n",
        "    grad_w, grad_b = gradient_t(x,y)\n",
        "    # COMPLETE THE CELL FROM HERE\n",
        "    # ...\n",
        "    w_t = w_t-grad_w*learning_rate\n",
        "    b_t = b_t-grad_b*learning_rate\n",
        "\n",
        "print(\"Estimation of the parameters:\")\n",
        "print(\"weight:\", w_t, \"\\n bias: \",b_t)"
      ],
      "execution_count": 0,
      "outputs": [
        {
          "output_type": "stream",
          "text": [
            "Estimation of the parameters:\n",
            "weight: tensor([[ 1.9759],\n",
            "        [-2.9518]]) \n",
            " bias:  tensor([[0.9880]])\n"
          ],
          "name": "stdout"
        }
      ]
    }
  ]
}