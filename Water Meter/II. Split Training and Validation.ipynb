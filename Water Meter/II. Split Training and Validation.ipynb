{
 "cells": [
  {
   "cell_type": "code",
   "execution_count": 1,
   "metadata": {},
   "outputs": [],
   "source": [
    "import glob\n",
    "import os\n",
    "import numpy as np\n",
    "import sys\n",
    "current_dir = \"data/water_meter/images\"\n",
    "split_pct = 10  # 10% validation set\n",
    "file_train = open(\"data/water_meter/train.txt\", \"w\")  \n",
    "file_val = open(\"data/water_meter/val.txt\", \"w\")  \n",
    "counter = 1  \n",
    "index_test = round(100 / split_pct)  \n",
    "for fullpath in glob.iglob(os.path.join(current_dir, \"*.jpg\")):  \n",
    "    title, ext = os.path.splitext(os.path.basename(fullpath))\n",
    "    if counter == index_test:\n",
    "        counter = 1\n",
    "        file_val.write(current_dir + \"/\" + title + '.jpg' + \"\\n\")\n",
    "    else:\n",
    "        file_train.write(current_dir + \"/\" + title + '.jpg' + \"\\n\")\n",
    "        counter = counter + 1\n",
    "file_train.close()\n",
    "file_val.close()"
   ]
  }
 ],
 "metadata": {
  "kernelspec": {
   "display_name": "Python 3",
   "language": "python",
   "name": "python3"
  },
  "language_info": {
   "codemirror_mode": {
    "name": "ipython",
    "version": 3
   },
   "file_extension": ".py",
   "mimetype": "text/x-python",
   "name": "python",
   "nbconvert_exporter": "python",
   "pygments_lexer": "ipython3",
   "version": "3.7.6"
  }
 },
 "nbformat": 4,
 "nbformat_minor": 4
}
